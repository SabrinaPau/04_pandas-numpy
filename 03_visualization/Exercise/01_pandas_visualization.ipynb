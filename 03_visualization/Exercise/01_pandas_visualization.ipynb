{
 "cells": [
  {
   "cell_type": "markdown",
   "metadata": {},
   "source": [
    "## Check your understanding\n",
    "\n",
    "Now it's time to try plotting yourself. \n",
    "\n",
    "**Practice with plotting**\n",
    "1. Plot the average amount of `chlorides` for each `quality` value. \n",
    "2. Plot the `alcohol` values against `pH` values (in a scatter plot). Does there appear to be any relationship between the two?\n",
    "3. Plot `total_acidity` values against `pH` values. Does there appear to be any relationship between the two?\n",
    "4. Plot a histogram of the `density` values. Are they evenly distributed within the data set?\n",
    "5. Plot a boxplot to look at the distribution of `citric acid`. \n",
    "\n",
    "**Extra Credit**  \n",
    "Check out the [pandas documentation](https://pandas.pydata.org/pandas-docs/stable/user_guide/visualization.html#visualization) and try out different types of plots. See if you find any interesting new insights into the data."
   ]
  },
  {
   "cell_type": "code",
   "execution_count": null,
   "metadata": {},
   "outputs": [],
   "source": [
    "import pandas as pd\n",
    "redwine = pd.read_csv('../data/winequality-red.csv', delimiter=';')\n",
    "redwine.head()"
   ]
  },
  {
   "cell_type": "code",
   "execution_count": 2,
   "metadata": {},
   "outputs": [],
   "source": [
    "# (1) Plot the average amount of `chlorides` for each `quality` value."
   ]
  },
  {
   "cell_type": "code",
   "execution_count": 3,
   "metadata": {},
   "outputs": [],
   "source": [
    "chlorides_mean = redwine.groupby('quality')['chlorides'].mean()"
   ]
  },
  {
   "cell_type": "code",
   "execution_count": null,
   "metadata": {},
   "outputs": [],
   "source": [
    "chlorides_mean.plot(kind='bar', rot=0, color='skyblue', xlabel='Quality', ylabel='Average Chlorides');"
   ]
  },
  {
   "cell_type": "code",
   "execution_count": null,
   "metadata": {},
   "outputs": [],
   "source": [
    "# (2) Plot the `alcohol` values against `pH` values (in a scatter plot).\n",
    "# Does there appear to be any relationship between the two?\n",
    "\n",
    "redwine.plot(kind='scatter', x='alcohol', y='pH')"
   ]
  },
  {
   "cell_type": "code",
   "execution_count": null,
   "metadata": {},
   "outputs": [],
   "source": [
    "pearson_var = redwine['alcohol'].corr(redwine['pH'], method = 'pearson')\n",
    "pearson_var"
   ]
  },
  {
   "cell_type": "code",
   "execution_count": null,
   "metadata": {},
   "outputs": [],
   "source": [
    "# (3) Plot `total_acidity` values against `pH` values. Does there appear to be any relationship between the two?\n",
    "\n",
    "redwine['total_acidity'] = redwine['fixed acidity'] + redwine['volatile acidity'] + redwine['citric acid']\n",
    "redwine.plot(kind='scatter', x='total_acidity', y='pH');"
   ]
  },
  {
   "cell_type": "code",
   "execution_count": null,
   "metadata": {},
   "outputs": [],
   "source": [
    "from scipy import stats\n",
    "stats.pearsonr(redwine['total_acidity'], redwine['pH'])"
   ]
  },
  {
   "cell_type": "code",
   "execution_count": null,
   "metadata": {},
   "outputs": [],
   "source": [
    "# (4) Plot a histogram of the `density` values. Are they evenly distributed within the data set?\n",
    "\n",
    "redwine['density'].plot(kind='hist')"
   ]
  },
  {
   "cell_type": "code",
   "execution_count": null,
   "metadata": {},
   "outputs": [],
   "source": [
    "# (5) Plot a boxplot to look at the distribution of `citric acid`.\n",
    "\n",
    "redwine['citric acid'].plot(kind='box')"
   ]
  },
  {
   "cell_type": "code",
   "execution_count": 11,
   "metadata": {},
   "outputs": [],
   "source": [
    "# (Extra Credit)\n",
    "# Check out the [pandas documentation](https://pandas.pydata.org/pandas-docs/stable/user_guide/visualization.html#visualization)\n",
    "# and try out different types of plots.\n",
    "# See if you find any interesting new insights into the data.\n",
    "\n"
   ]
  }
 ],
 "metadata": {
  "kernelspec": {
   "display_name": "nf_base",
   "language": "python",
   "name": "python3"
  },
  "language_info": {
   "codemirror_mode": {
    "name": "ipython",
    "version": 3
   },
   "file_extension": ".py",
   "mimetype": "text/x-python",
   "name": "python",
   "nbconvert_exporter": "python",
   "pygments_lexer": "ipython3",
   "version": "3.12.3"
  }
 },
 "nbformat": 4,
 "nbformat_minor": 2
}
