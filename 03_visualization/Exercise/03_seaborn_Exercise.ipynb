{
 "cells": [
  {
   "cell_type": "markdown",
   "metadata": {},
   "source": [
    "**Step 1**\n",
    "\n",
    "Open empty jupyter notebook and read in the dataframe that contains your gapminder data"
   ]
  },
  {
   "cell_type": "code",
   "execution_count": null,
   "metadata": {},
   "outputs": [],
   "source": []
  },
  {
   "cell_type": "markdown",
   "metadata": {},
   "source": [
    "**Step 2**\n",
    "\n",
    "Create subset of data for one year\n",
    "\n",
    "df_subset = df.___[df[___] == ____]"
   ]
  },
  {
   "cell_type": "code",
   "execution_count": null,
   "metadata": {},
   "outputs": [],
   "source": []
  },
  {
   "cell_type": "markdown",
   "metadata": {},
   "source": [
    "**Step 4**\n",
    "\n",
    "Plot the life expectancy vs fertility rate\n",
    "\n",
    "sns.scatterplot(___, ___, ___)\n",
    "\n",
    "Which will return a rudimentary plot:\n",
    "\n",
    "![image-2.png](attachment:image-2.png)"
   ]
  },
  {
   "cell_type": "code",
   "execution_count": null,
   "metadata": {},
   "outputs": [],
   "source": []
  },
  {
   "cell_type": "markdown",
   "metadata": {},
   "source": [
    "**Step 5**\n",
    "\n",
    "Using matplotlib add a title and labels. Increase the plot size to make it more readable.\n",
    "\n",
    "plt.figure(figsize=(___, ___))\n",
    "\n",
    "plt.____('Life Expectancy vs Fertility Rate')\n",
    "\n",
    "plt.ylabel(____)\n",
    "\n",
    "plt.____('Life Expectancy')"
   ]
  },
  {
   "cell_type": "code",
   "execution_count": null,
   "metadata": {},
   "outputs": [],
   "source": []
  },
  {
   "cell_type": "markdown",
   "metadata": {},
   "source": [
    "**Step 6**\n",
    "\n",
    "Weight the size of the scatter points to the population of each country. This can be done using the size parameter in the sns.scatterplot() function.\n",
    "\n",
    "Tip: the code above is correct but the magnitude of the population is astronomically larger than that of the life expectancy and fertility rate. Use some math to fix this."
   ]
  },
  {
   "cell_type": "code",
   "execution_count": null,
   "metadata": {},
   "outputs": [],
   "source": []
  },
  {
   "cell_type": "markdown",
   "metadata": {},
   "source": [
    "**Step 7**\n",
    "\n",
    "Setting the axes to display the origin also gives us a more complete picture of what is going on.\n",
    "\n",
    "plt.axis([0, 85, 0, 9.5])"
   ]
  },
  {
   "cell_type": "code",
   "execution_count": null,
   "metadata": {},
   "outputs": [],
   "source": []
  },
  {
   "cell_type": "markdown",
   "metadata": {},
   "source": [
    "**Step 8**\n",
    "\n",
    "Save the plot"
   ]
  },
  {
   "cell_type": "code",
   "execution_count": null,
   "metadata": {},
   "outputs": [],
   "source": []
  },
  {
   "cell_type": "markdown",
   "metadata": {},
   "source": [
    "**BONUS:**\n",
    "\n",
    "Try out different plotting themes and save the plots"
   ]
  },
  {
   "cell_type": "code",
   "execution_count": null,
   "metadata": {},
   "outputs": [],
   "source": []
  }
 ],
 "metadata": {
  "kernelspec": {
   "display_name": "nf_base",
   "language": "python",
   "name": "python3"
  },
  "language_info": {
   "name": "python",
   "version": "3.9.19"
  }
 },
 "nbformat": 4,
 "nbformat_minor": 2
}
