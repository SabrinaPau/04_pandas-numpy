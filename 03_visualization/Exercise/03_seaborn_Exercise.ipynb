{
 "cells": [
  {
   "cell_type": "markdown",
   "metadata": {},
   "source": [
    "**Step 1**\n",
    "\n",
    "Open empty jupyter notebook and read in the dataframe that contains your gapminder data"
   ]
  },
  {
   "cell_type": "code",
   "execution_count": 1,
   "metadata": {},
   "outputs": [],
   "source": [
    "import pandas as pd\n",
    "import matplotlib.pyplot as plt\n",
    "import seaborn as sns"
   ]
  },
  {
   "cell_type": "code",
   "execution_count": null,
   "metadata": {},
   "outputs": [],
   "source": [
    "gapminder = pd.read_csv('../data/gapminder_total.csv')\n",
    "gapminder.info()"
   ]
  },
  {
   "cell_type": "code",
   "execution_count": null,
   "metadata": {},
   "outputs": [],
   "source": [
    "gapminder.sample(20)"
   ]
  },
  {
   "cell_type": "markdown",
   "metadata": {},
   "source": [
    "**Step 2**\n",
    "\n",
    "Create subset of data for one year\n",
    "\n",
    "df_subset = df.___[df[___] == ____]"
   ]
  },
  {
   "cell_type": "code",
   "execution_count": null,
   "metadata": {},
   "outputs": [],
   "source": [
    "gapminder_subset = gapminder[gapminder['year']==1950].reset_index(drop=True) #.copy()\n",
    "\n",
    "gapminder_subset"
   ]
  },
  {
   "cell_type": "markdown",
   "metadata": {},
   "source": [
    "**Step 4**\n",
    "\n",
    "Plot the life expectancy vs fertility rate\n",
    "\n",
    "sns.scatterplot(___, ___, ___)\n",
    "\n",
    "Which will return a rudimentary plot:\n",
    "\n",
    "![image-2.png](attachment:image-2.png)"
   ]
  },
  {
   "cell_type": "code",
   "execution_count": null,
   "metadata": {},
   "outputs": [],
   "source": [
    "sns.scatterplot(x='life_expectancy', y='fertility', data=gapminder_subset,\n",
    "                #size_order='population', \n",
    "                #hue='country',\n",
    "                #s=40,\n",
    "                #facecolor='C0',\n",
    "                #edgecolor='k',\n",
    "                #legend=False\n",
    "                )\n",
    "#plt.figure(figsize=(20, 10))\n",
    "#plt.xlabel('life expectancy', fontsize=12)\n",
    "#plt.ylabel('fertility rate', fontsize=12)\n",
    "#plt.title('Fertility Rate vs Life Expectancy per country for year 1950', fontsize=14)\n",
    "#plt.grid(True)\n",
    "#plt.axis([0,75, 0, 8.7])\n",
    "# stats.pearsonr to calculate the pearson r"
   ]
  },
  {
   "cell_type": "markdown",
   "metadata": {},
   "source": [
    "**Step 5**\n",
    "\n",
    "Using matplotlib add a title and labels. Increase the plot size to make it more readable.\n",
    "\n",
    "plt.figure(figsize=(___, ___))\n",
    "\n",
    "plt.____('Life Expectancy vs Fertility Rate')\n",
    "\n",
    "plt.ylabel(____)\n",
    "\n",
    "plt.____('Life Expectancy')"
   ]
  },
  {
   "cell_type": "markdown",
   "metadata": {},
   "source": [
    "**Step 6**\n",
    "\n",
    "Weight the size of the scatter points to the population of each country. This can be done using the size parameter in the sns.scatterplot() function.\n",
    "\n",
    "Tip: the code above is correct but the magnitude of the population is astronomically larger than that of the life expectancy and fertility rate. Use some math to fix this."
   ]
  },
  {
   "cell_type": "markdown",
   "metadata": {},
   "source": [
    "**Step 7**\n",
    "\n",
    "Setting the axes to display the origin also gives us a more complete picture of what is going on.\n",
    "\n",
    "plt.axis([0, 85, 0, 9.5])"
   ]
  },
  {
   "cell_type": "markdown",
   "metadata": {},
   "source": [
    "**Step 8**\n",
    "\n",
    "Save the plot"
   ]
  },
  {
   "cell_type": "code",
   "execution_count": null,
   "metadata": {},
   "outputs": [],
   "source": [
    "plt.figure(figsize=(10, 5))\n",
    "sns.scatterplot(x='life_expectancy', y='fertility', data=gapminder_subset,\n",
    "                size='population', \n",
    "                hue='continent',\n",
    "                sizes=(5, 2000),\n",
    "                palette='mako',\n",
    "                #facecolor='C0',\n",
    "                #edgecolor='k',\n",
    "                alpha= 0.7,\n",
    "                #legend=True, # True by default\n",
    "                )\n",
    "plt.legend(bbox_to_anchor=(1, 0.5, 0.5, 0.5)) # normally sets x, y, width, length\n",
    "plt.xlabel('life expectancy', fontsize=12)\n",
    "plt.ylabel('fertility rate', fontsize=12)\n",
    "plt.title('Fertility Rate vs Life Expectancy per continent for year 1950', fontsize=14)\n",
    "plt.grid(True)\n",
    "plt.axis([20, 80, 1, 8.5])\n",
    "plt.annotate('big one', xy=(35, 4.4))\n",
    "plt.savefig('./Plot for Exercise 03-1.png');"
   ]
  },
  {
   "cell_type": "code",
   "execution_count": null,
   "metadata": {},
   "outputs": [],
   "source": [
    "plt.figure(figsize=(10, 5))\n",
    "sns.scatterplot(x='life_expectancy', y='fertility', data=gapminder_subset,\n",
    "                size='population', \n",
    "                hue='continent',\n",
    "                sizes=(5, 2000),\n",
    "                palette='mako',\n",
    "                #facecolor='C0',\n",
    "                #edgecolor='k',\n",
    "                alpha= 0.7,\n",
    "                #legend=True, # True by default\n",
    "                )\n",
    "plt.legend(labels = ['Africa', 'Asia', 'Europe', 'North America', 'Australia & Oceania', 'South America'],\n",
    "           loc='center left',\n",
    "           bbox_to_anchor=(1, 0.5, 0, 0)\n",
    "           )\n",
    "plt.xlabel('life expectancy', fontsize=12)\n",
    "plt.ylabel('fertility rate', fontsize=12)\n",
    "plt.title('Fertility Rate vs Life Expectancy per continent for year 1950', fontsize=14)\n",
    "plt.grid(True)\n",
    "plt.axis([20, 80, 1, 8.5])\n",
    "plt.annotate('big one', xy=(35, 4.4))\n",
    "plt.savefig('./Plot for Exercise 03-2.png', dpi=300);"
   ]
  },
  {
   "cell_type": "markdown",
   "metadata": {},
   "source": [
    "**BONUS:**\n",
    "\n",
    "Try out different plotting themes and save the plots"
   ]
  },
  {
   "cell_type": "code",
   "execution_count": null,
   "metadata": {},
   "outputs": [],
   "source": []
  }
 ],
 "metadata": {
  "kernelspec": {
   "display_name": "nf_base",
   "language": "python",
   "name": "python3"
  },
  "language_info": {
   "codemirror_mode": {
    "name": "ipython",
    "version": 3
   },
   "file_extension": ".py",
   "mimetype": "text/x-python",
   "name": "python",
   "nbconvert_exporter": "python",
   "pygments_lexer": "ipython3",
   "version": "3.12.3"
  }
 },
 "nbformat": 4,
 "nbformat_minor": 2
}
