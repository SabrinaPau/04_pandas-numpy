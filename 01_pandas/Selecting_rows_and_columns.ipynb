{
 "cells": [
  {
   "cell_type": "markdown",
   "metadata": {},
   "source": [
    "# Selecting Columns and Rows "
   ]
  },
  {
   "cell_type": "markdown",
   "metadata": {},
   "source": [
    "## Objectives:\n",
    "\n",
    "Columns:\n",
    "**_Selecting_** and **_Working with_** columns from a dataframe\n",
    "\n",
    "\n",
    "Rows: \n",
    "**_Understanding the Difference_** between **_loc and iloc_** methods, and **_Selecting_** rows from a dataframe\n"
   ]
  },
  {
   "cell_type": "markdown",
   "metadata": {},
   "source": [
    "### Key Concepts\n",
    "It is an essential part of working with data to able to select specific parts of a dataset. For example in order to fill in missing data in a particular column(s) this skill comes in very handy. This means that you should be very comfortable with the syntax of selecting rows and columns."
   ]
  },
  {
   "cell_type": "markdown",
   "metadata": {},
   "source": [
    "| Command                       | Description                                           |\n",
    "|-------------------------------|-------------------------------------------------------|\n",
    "| df[col]                       | select one column as a Series                         |\n",
    "| df[[col]]                     | select one column as a DataFrame                      |\n",
    "| df[[col1, col2, ... ]]        | select 2+ columns as a DataFrame                      |\n",
    "| df['column_name'] = new_values| assign new values to the column                        |\n",
    "| df.drop()                     | drop specified rows or columns                        |\n",
    "| df['column'].astype()         | cast a pandas column to a specified dtype             |\n",
    "| df.loc[row]                   | select one row as a Series by index                   |\n",
    "| df.loc[[row1, row2]]          | select 1+ rows as a DataFrame by index                |\n",
    "| df.loc[[row], [col]]          | select rows and columns as a DataFrame by index       |\n",
    "| df.iloc[a:b, c:d]             | select rows/columns by integer-location               |\n",
    "| df.set_index()                | set selected column as index                           |\n"
   ]
  },
  {
   "cell_type": "code",
   "execution_count": 1,
   "metadata": {},
   "outputs": [],
   "source": [
    "import pandas as pd"
   ]
  },
  {
   "cell_type": "code",
   "execution_count": 2,
   "metadata": {},
   "outputs": [],
   "source": [
    "df = pd.read_csv('./data/penguins_simple.csv', sep=\";\")"
   ]
  },
  {
   "cell_type": "code",
   "execution_count": 3,
   "metadata": {},
   "outputs": [
    {
     "data": {
      "text/html": [
       "<div>\n",
       "<style scoped>\n",
       "    .dataframe tbody tr th:only-of-type {\n",
       "        vertical-align: middle;\n",
       "    }\n",
       "\n",
       "    .dataframe tbody tr th {\n",
       "        vertical-align: top;\n",
       "    }\n",
       "\n",
       "    .dataframe thead th {\n",
       "        text-align: right;\n",
       "    }\n",
       "</style>\n",
       "<table border=\"1\" class=\"dataframe\">\n",
       "  <thead>\n",
       "    <tr style=\"text-align: right;\">\n",
       "      <th></th>\n",
       "      <th>Species</th>\n",
       "      <th>Culmen Length (mm)</th>\n",
       "      <th>Culmen Depth (mm)</th>\n",
       "      <th>Flipper Length (mm)</th>\n",
       "      <th>Body Mass (g)</th>\n",
       "      <th>Sex</th>\n",
       "    </tr>\n",
       "  </thead>\n",
       "  <tbody>\n",
       "    <tr>\n",
       "      <th>0</th>\n",
       "      <td>Adelie</td>\n",
       "      <td>39.1</td>\n",
       "      <td>18.7</td>\n",
       "      <td>181.0</td>\n",
       "      <td>3750.0</td>\n",
       "      <td>MALE</td>\n",
       "    </tr>\n",
       "    <tr>\n",
       "      <th>1</th>\n",
       "      <td>Adelie</td>\n",
       "      <td>39.5</td>\n",
       "      <td>17.4</td>\n",
       "      <td>186.0</td>\n",
       "      <td>3800.0</td>\n",
       "      <td>FEMALE</td>\n",
       "    </tr>\n",
       "    <tr>\n",
       "      <th>2</th>\n",
       "      <td>Adelie</td>\n",
       "      <td>40.3</td>\n",
       "      <td>18.0</td>\n",
       "      <td>195.0</td>\n",
       "      <td>3250.0</td>\n",
       "      <td>FEMALE</td>\n",
       "    </tr>\n",
       "    <tr>\n",
       "      <th>3</th>\n",
       "      <td>Adelie</td>\n",
       "      <td>36.7</td>\n",
       "      <td>19.3</td>\n",
       "      <td>193.0</td>\n",
       "      <td>3450.0</td>\n",
       "      <td>FEMALE</td>\n",
       "    </tr>\n",
       "    <tr>\n",
       "      <th>4</th>\n",
       "      <td>Adelie</td>\n",
       "      <td>39.3</td>\n",
       "      <td>20.6</td>\n",
       "      <td>190.0</td>\n",
       "      <td>3650.0</td>\n",
       "      <td>MALE</td>\n",
       "    </tr>\n",
       "    <tr>\n",
       "      <th>...</th>\n",
       "      <td>...</td>\n",
       "      <td>...</td>\n",
       "      <td>...</td>\n",
       "      <td>...</td>\n",
       "      <td>...</td>\n",
       "      <td>...</td>\n",
       "    </tr>\n",
       "    <tr>\n",
       "      <th>328</th>\n",
       "      <td>Gentoo</td>\n",
       "      <td>47.2</td>\n",
       "      <td>13.7</td>\n",
       "      <td>214.0</td>\n",
       "      <td>4925.0</td>\n",
       "      <td>FEMALE</td>\n",
       "    </tr>\n",
       "    <tr>\n",
       "      <th>329</th>\n",
       "      <td>Gentoo</td>\n",
       "      <td>46.8</td>\n",
       "      <td>14.3</td>\n",
       "      <td>215.0</td>\n",
       "      <td>4850.0</td>\n",
       "      <td>FEMALE</td>\n",
       "    </tr>\n",
       "    <tr>\n",
       "      <th>330</th>\n",
       "      <td>Gentoo</td>\n",
       "      <td>50.4</td>\n",
       "      <td>15.7</td>\n",
       "      <td>222.0</td>\n",
       "      <td>5750.0</td>\n",
       "      <td>MALE</td>\n",
       "    </tr>\n",
       "    <tr>\n",
       "      <th>331</th>\n",
       "      <td>Gentoo</td>\n",
       "      <td>45.2</td>\n",
       "      <td>14.8</td>\n",
       "      <td>212.0</td>\n",
       "      <td>5200.0</td>\n",
       "      <td>FEMALE</td>\n",
       "    </tr>\n",
       "    <tr>\n",
       "      <th>332</th>\n",
       "      <td>Gentoo</td>\n",
       "      <td>49.9</td>\n",
       "      <td>16.1</td>\n",
       "      <td>213.0</td>\n",
       "      <td>5400.0</td>\n",
       "      <td>MALE</td>\n",
       "    </tr>\n",
       "  </tbody>\n",
       "</table>\n",
       "<p>333 rows × 6 columns</p>\n",
       "</div>"
      ],
      "text/plain": [
       "    Species  Culmen Length (mm)  Culmen Depth (mm)  Flipper Length (mm)   \n",
       "0    Adelie                39.1               18.7                181.0  \\\n",
       "1    Adelie                39.5               17.4                186.0   \n",
       "2    Adelie                40.3               18.0                195.0   \n",
       "3    Adelie                36.7               19.3                193.0   \n",
       "4    Adelie                39.3               20.6                190.0   \n",
       "..      ...                 ...                ...                  ...   \n",
       "328  Gentoo                47.2               13.7                214.0   \n",
       "329  Gentoo                46.8               14.3                215.0   \n",
       "330  Gentoo                50.4               15.7                222.0   \n",
       "331  Gentoo                45.2               14.8                212.0   \n",
       "332  Gentoo                49.9               16.1                213.0   \n",
       "\n",
       "     Body Mass (g)     Sex  \n",
       "0           3750.0    MALE  \n",
       "1           3800.0  FEMALE  \n",
       "2           3250.0  FEMALE  \n",
       "3           3450.0  FEMALE  \n",
       "4           3650.0    MALE  \n",
       "..             ...     ...  \n",
       "328         4925.0  FEMALE  \n",
       "329         4850.0  FEMALE  \n",
       "330         5750.0    MALE  \n",
       "331         5200.0  FEMALE  \n",
       "332         5400.0    MALE  \n",
       "\n",
       "[333 rows x 6 columns]"
      ]
     },
     "execution_count": 3,
     "metadata": {},
     "output_type": "execute_result"
    }
   ],
   "source": [
    "# look at the dataframe\n",
    "\n",
    "df"
   ]
  },
  {
   "cell_type": "code",
   "execution_count": null,
   "metadata": {},
   "outputs": [],
   "source": []
  },
  {
   "cell_type": "markdown",
   "metadata": {},
   "source": [
    "## 1. Columns"
   ]
  },
  {
   "cell_type": "markdown",
   "metadata": {},
   "source": [
    "### 1.1 Renaming the columns"
   ]
  },
  {
   "cell_type": "code",
   "execution_count": null,
   "metadata": {},
   "outputs": [],
   "source": [
    "df.columns =['species', 'culmen_length_mm','culmen_depth_mm', 'flipper_length_mm', 'body_mass_gg', 'sex']"
   ]
  },
  {
   "cell_type": "code",
   "execution_count": null,
   "metadata": {},
   "outputs": [],
   "source": [
    "df"
   ]
  },
  {
   "cell_type": "markdown",
   "metadata": {},
   "source": [
    "### 1.2 Selecting a single column"
   ]
  },
  {
   "cell_type": "code",
   "execution_count": null,
   "metadata": {
    "scrolled": true
   },
   "outputs": [],
   "source": [
    "# using single square brackets, we select a single column as a series\n",
    "df['sex']"
   ]
  },
  {
   "cell_type": "markdown",
   "metadata": {},
   "source": [
    "This will extract the column as a pd.Series."
   ]
  },
  {
   "cell_type": "code",
   "execution_count": null,
   "metadata": {},
   "outputs": [],
   "source": [
    "type(df['sex']) # as we learned it in the pandas encounter, it is pandas series"
   ]
  },
  {
   "cell_type": "code",
   "execution_count": null,
   "metadata": {},
   "outputs": [],
   "source": [
    "# using double square brackets, we select a single columns as a dataframe\n",
    "df[['sex']]"
   ]
  },
  {
   "cell_type": "code",
   "execution_count": null,
   "metadata": {},
   "outputs": [],
   "source": [
    "type(df[['sex']])"
   ]
  },
  {
   "cell_type": "markdown",
   "metadata": {},
   "source": [
    "### 1.3 Selecting Multiple Columns"
   ]
  },
  {
   "cell_type": "code",
   "execution_count": null,
   "metadata": {},
   "outputs": [],
   "source": [
    "# when selecting multiple columns, we HAVE to use double square brackets\n",
    "# and we get a dataframe back\n",
    "df[['species','culmen_length_mm','sex']]"
   ]
  },
  {
   "cell_type": "markdown",
   "metadata": {},
   "source": [
    "### 1.4 Changing column types"
   ]
  },
  {
   "cell_type": "code",
   "execution_count": null,
   "metadata": {
    "scrolled": true
   },
   "outputs": [],
   "source": [
    "df.dtypes # Notice that dataframes may contain different data types and that's why here it is dtypes "
   ]
  },
  {
   "cell_type": "code",
   "execution_count": null,
   "metadata": {},
   "outputs": [],
   "source": [
    "# we sometimes need to change the data type of a column, that is usually part of data cleaning\n",
    "\n",
    "df['culmen_length_mm'] = df['culmen_length_mm'].astype(int)"
   ]
  },
  {
   "cell_type": "code",
   "execution_count": null,
   "metadata": {
    "scrolled": false
   },
   "outputs": [],
   "source": [
    "# Let's check the datatypes again\n",
    "df.dtypes"
   ]
  },
  {
   "cell_type": "markdown",
   "metadata": {},
   "source": [
    "###  1.5 Creating columns"
   ]
  },
  {
   "cell_type": "code",
   "execution_count": null,
   "metadata": {},
   "outputs": [],
   "source": [
    "# Adding a new column\n",
    "# For example, let's add a 'year_collected' column with a constant value\n",
    "df['year_collected'] = 2024"
   ]
  },
  {
   "cell_type": "markdown",
   "metadata": {},
   "source": [
    "How to round numbers in python:\n",
    "`round(<number_to_round>, <number_of_decimal_points>)`"
   ]
  },
  {
   "cell_type": "code",
   "execution_count": null,
   "metadata": {},
   "outputs": [],
   "source": [
    "df"
   ]
  },
  {
   "cell_type": "code",
   "execution_count": null,
   "metadata": {},
   "outputs": [],
   "source": [
    "# Convert body_mass_g from grams to kilograms, round to 2 decimal places, and create a new column\n",
    "\n",
    "df['body_mass_kg'] = (df['body_mass_gg'] / 1000.0).round(2)"
   ]
  },
  {
   "cell_type": "code",
   "execution_count": null,
   "metadata": {},
   "outputs": [],
   "source": [
    "# Now, df includes a new column 'body_mass_kg' with the body mass in kilograms, rounded to 2 decimal places\n",
    "df"
   ]
  },
  {
   "cell_type": "markdown",
   "metadata": {},
   "source": [
    "### 1.6 Dropping columns"
   ]
  },
  {
   "cell_type": "code",
   "execution_count": null,
   "metadata": {},
   "outputs": [],
   "source": [
    "# dropping a single column\n",
    "\n",
    "df.drop('year_collected', axis='columns')\n",
    "#df.drop('year_collected', axis=1)"
   ]
  },
  {
   "cell_type": "code",
   "execution_count": null,
   "metadata": {},
   "outputs": [],
   "source": [
    "# note that the dataframe did not change!\n",
    "df"
   ]
  },
  {
   "cell_type": "markdown",
   "metadata": {},
   "source": [
    "Uh-oh! Dropping returned a (changed) copy of the dataframe, but didn't change the original!\n",
    "\n",
    "To make the changes stick, you can:\n",
    "* assign the result to another dataframe\n",
    "* use the `inplace=True` parameter"
   ]
  },
  {
   "cell_type": "code",
   "execution_count": null,
   "metadata": {},
   "outputs": [],
   "source": [
    "# assign the result to another datafram\n",
    "df_new = df.drop('year_collected', axis=1) # notice that instead of columns we used axis=1 which is the same thing"
   ]
  },
  {
   "cell_type": "code",
   "execution_count": null,
   "metadata": {},
   "outputs": [],
   "source": [
    "df_new"
   ]
  },
  {
   "cell_type": "code",
   "execution_count": null,
   "metadata": {},
   "outputs": [],
   "source": [
    "# to drop from the dataframe we use the inplace=True parameter\n",
    "df.drop('year_collected', axis='columns', inplace=True)"
   ]
  },
  {
   "cell_type": "code",
   "execution_count": null,
   "metadata": {},
   "outputs": [],
   "source": [
    "df"
   ]
  },
  {
   "cell_type": "markdown",
   "metadata": {},
   "source": [
    "## 2. Selecting rows (and columns): `.loc[]` and `.iloc[]` methods"
   ]
  },
  {
   "cell_type": "markdown",
   "metadata": {},
   "source": [
    "A brief slicing recap:"
   ]
  },
  {
   "cell_type": "code",
   "execution_count": null,
   "metadata": {},
   "outputs": [],
   "source": [
    "a = [1,2,3,4,5,6]"
   ]
  },
  {
   "cell_type": "code",
   "execution_count": null,
   "metadata": {},
   "outputs": [],
   "source": [
    "a"
   ]
  },
  {
   "cell_type": "markdown",
   "metadata": {},
   "source": [
    "Reminder: slicing syntax is `a[start:end:step]`\n",
    "* If not specified, `start` is the beginning of the list.\n",
    "* If not specified, `end` is the end of the list.\n",
    "* You can use minus to count from the back, e.g. the second element from the back is `a[-2]`\n",
    "* If not specified, `step` is 1."
   ]
  },
  {
   "cell_type": "code",
   "execution_count": null,
   "metadata": {},
   "outputs": [],
   "source": [
    "# select first 4 numbers\n",
    "a[:4]"
   ]
  },
  {
   "cell_type": "code",
   "execution_count": null,
   "metadata": {},
   "outputs": [],
   "source": [
    "a[1:4]"
   ]
  },
  {
   "cell_type": "code",
   "execution_count": null,
   "metadata": {},
   "outputs": [],
   "source": [
    "# what does this do?\n",
    "a[::3]\n",
    "# it gives us every third element in the list"
   ]
  },
  {
   "cell_type": "markdown",
   "metadata": {},
   "source": [
    "### 2.1 Selecting based on a single value (select a single row/column)"
   ]
  },
  {
   "cell_type": "code",
   "execution_count": null,
   "metadata": {},
   "outputs": [],
   "source": [
    "df"
   ]
  },
  {
   "cell_type": "markdown",
   "metadata": {},
   "source": [
    "## loc[ ]"
   ]
  },
  {
   "cell_type": "markdown",
   "metadata": {},
   "source": [
    "### Here's a quick guide on how to use loc[]:\n",
    "\n",
    "    - Select a single row: df.loc['index_label'] \n",
    "    - Select multiple rows: df.loc[['label1', 'label2']] \n",
    "    - Select rows by range of labels: df.loc['label1':'label3'] \n",
    "    - Conditional selection: df.loc[df['column'] > value]\n",
    "    - Select specific rows and columns: df.loc[['row1', 'row2'], ['column1', 'column2']] \n",
    "    - Remember, loc[] operates on the DataFrame's index labels and column names, making it particularly suited for DataFrames where these labels are meaningful or when performing operations based on the data's content rather than its position."
   ]
  },
  {
   "cell_type": "code",
   "execution_count": null,
   "metadata": {},
   "outputs": [],
   "source": [
    "# Example 1: Select the first row\n",
    "df.loc[0, :]"
   ]
  },
  {
   "cell_type": "code",
   "execution_count": null,
   "metadata": {},
   "outputs": [],
   "source": [
    "# Example 2: Select first two rows\n",
    "df.loc[0:1, :]"
   ]
  },
  {
   "cell_type": "code",
   "execution_count": null,
   "metadata": {},
   "outputs": [],
   "source": [
    "df"
   ]
  },
  {
   "cell_type": "code",
   "execution_count": null,
   "metadata": {
    "scrolled": true
   },
   "outputs": [],
   "source": [
    "df.loc[df['culmen_length_mm'] > 40] "
   ]
  },
  {
   "cell_type": "code",
   "execution_count": null,
   "metadata": {},
   "outputs": [],
   "source": [
    "#If you want to select all rows where the species is \"Adelie\", you can use:\n",
    "\n",
    "adelie_penguins = df.loc[df['species'] == 'Adelie']\n",
    "adelie_penguins"
   ]
  },
  {
   "cell_type": "markdown",
   "metadata": {},
   "source": [
    "**_How does loc[ ] work?_**\n",
    "\n",
    "- Notice that loc is including both 0 and 1 rows\n",
    "- Loc is using the labels of the row. Let's make some changes to understand it better"
   ]
  },
  {
   "cell_type": "code",
   "execution_count": null,
   "metadata": {},
   "outputs": [],
   "source": [
    "# changing the index column of the dataframe\n",
    "df.set_index('species', inplace=True) \n",
    "\n",
    "# It is also possible to assign a column as index, when we are reading the data\n"
   ]
  },
  {
   "cell_type": "code",
   "execution_count": null,
   "metadata": {},
   "outputs": [],
   "source": [
    "df.head()"
   ]
  },
  {
   "cell_type": "code",
   "execution_count": null,
   "metadata": {
    "scrolled": true
   },
   "outputs": [],
   "source": [
    "# Example 1: Select the second row\n",
    "\n",
    "# we will get an error now, because we changed the index labels in species . we should give the new labels\n",
    "df.loc[1, :] "
   ]
  },
  {
   "cell_type": "code",
   "execution_count": null,
   "metadata": {},
   "outputs": [],
   "source": [
    "df.loc['Adelie', :] # the new index labels is the species. loc uses the labels."
   ]
  },
  {
   "cell_type": "code",
   "execution_count": null,
   "metadata": {},
   "outputs": [],
   "source": [
    "# Example 2: Select rows that contain Adelie and Chinstrap Species\n",
    "df.loc['Adelie':'Chinstrap', :]"
   ]
  },
  {
   "cell_type": "markdown",
   "metadata": {},
   "source": [
    "## iloc[ ]\n"
   ]
  },
  {
   "cell_type": "markdown",
   "metadata": {},
   "source": [
    "+ Te iloc[] function in pandas is used for integer-location based indexing, which means it selects rows and columns using integer indices. Here are some scenarios when you might use iloc():\n",
    "\n",
    "\n",
    "\n",
    "\n",
    "### Here's a quick guide on how to use iloc():\n",
    "\n",
    "    - Select a single row: df.iloc[5]\n",
    "    - Select multiple rows: df.iloc[5:10] \n",
    "    - Select rows and specific columns: df.iloc[5:10, 0:2] \n",
    "    - Select specific rows and all columns: df.iloc[[1, 3, 7], :] "
   ]
  },
  {
   "cell_type": "code",
   "execution_count": null,
   "metadata": {
    "scrolled": true
   },
   "outputs": [],
   "source": [
    "\n",
    "df.iloc[5] #(selects the row at position 5)"
   ]
  },
  {
   "cell_type": "code",
   "execution_count": null,
   "metadata": {},
   "outputs": [],
   "source": [
    "df.iloc[5:10] #(selects rows at positions 5 to 9)"
   ]
  },
  {
   "cell_type": "code",
   "execution_count": null,
   "metadata": {},
   "outputs": [],
   "source": [
    "df.iloc[5:10, 0:2]  #(selects rows at positions 5 to 9 and columns at positions 0 to 1)"
   ]
  },
  {
   "cell_type": "code",
   "execution_count": null,
   "metadata": {},
   "outputs": [],
   "source": [
    " df.iloc[[1, 3, 7], :] #(selects rows at positions 1, 3, and 7, along with all columns)"
   ]
  },
  {
   "cell_type": "code",
   "execution_count": null,
   "metadata": {},
   "outputs": [],
   "source": []
  },
  {
   "cell_type": "markdown",
   "metadata": {},
   "source": [
    "- The **.loc** method is **label-based**: \n",
    "    - You have to specify `rows` and `columns` based on their row and column **labels**. \n",
    "    - It has the following syntax: `df.loc[row_label, column_label]`\n",
    "\n",
    "\n",
    "- The **.iloc** is integer **position-based**:\n",
    "    - You have to specify `rows` and `columns` by their **integer position values** (0-based integer position). \n",
    "    - It has the following syntax: `df.iloc[row_position, column_position]`"
   ]
  }
 ],
 "metadata": {
  "kernelspec": {
   "display_name": "Python 3 (ipykernel)",
   "language": "python",
   "name": "python3"
  },
  "language_info": {
   "codemirror_mode": {
    "name": "ipython",
    "version": 3
   },
   "file_extension": ".py",
   "mimetype": "text/x-python",
   "name": "python",
   "nbconvert_exporter": "python",
   "pygments_lexer": "ipython3",
   "version": "3.9.16"
  }
 },
 "nbformat": 4,
 "nbformat_minor": 4
}
