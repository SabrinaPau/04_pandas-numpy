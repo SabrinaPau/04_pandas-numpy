{
 "cells": [
  {
   "cell_type": "markdown",
   "metadata": {},
   "source": [
    "# Extra Credit: Final Exercise on Pandas\n",
    "\n",
    "In the last notebooks you have learned a lot of new things, and you have also been able to practice them. Only by practicing will you become more confident in using the methods and hopefully it will stick in your mind better.\n",
    "Thus, here is another exercise on Pandas, in which you are asked to do a few different things with the new tools we learned about (methods for combining records, `pd.cut` and `pivot tables`). \n",
    "\n"
   ]
  },
  {
   "cell_type": "markdown",
   "metadata": {},
   "source": [
    "We'll be working again with the `wine` datasets that are located in the `data` folder. \n",
    "\n",
    "1) Read the `winequality-red.csv` data into a `DataFrame`, and the `winequality-white.csv` into another `DataFrame`.\n",
    "\n",
    "2) Double check that you've read them in correctly by using some of the attributes and methods available on `DataFrames` for getting a general sense of your data. \n",
    "\n",
    "3) I've decided that this month I want to stay away from wines with relatively high alcohol content. To do that, I'm going to avoid any wines that have a greater alcohol content than the mean alcohol content, and you're going to help me do this. To achieve this, let's do the following: \n",
    "\n",
    "  * Find the mean alcohol content, separately, for reds and whites.  \n",
    "  * Create a `Series` that holds whether each row in each `DataFrame` (red wines and white wines) has a higher alcohol content than the mean. \n",
    "  * Merge this `Series` onto the `DataFrame`. I can imagine doing this with either a `.join()` or using `pd.concat()`. For practice, do it with both. Note: merges with `Series` work the same way that they work with `DataFrames`.  \n",
    "  * Return all those rows that will help me stay away from those wines with a higher alcohol content.  \n",
    "   \n",
    "   \n",
    "4) Let's say that I want to get started on cutting back next month. This time, though, I want to focus on staying away from those wines with a high acidity. Specifically, I want to stay away from those wines that are in the highest bin of fixed acidity (highest bin out of 5). You're now going to help me to do this. To achieve this, let's do the following: \n",
    "\n",
    " * Separate the rows in each `DataFrame` into 5 equal width bins (not equal to quintiles) based off their fixed acidity. \n",
    " * Merge the resulting `Series` holding these 5 bins onto the original `DataFrame`. I can imagine also doing this with either `.join()` or using `pd.concat()`. Try doing it with both for practice. \n",
    " * Return back to me all those rows that are **not in** the top bin in terms of fixed acidity. \n",
    "\n",
    "5) Let's say that I now want to know how much my decision to avoid those wines with higher `alcohol` content is going to limit the `quality` of wines that I can drink. To figure this out, I want to know a couple of things: \n",
    "\n",
    " * The average `alcohol` content for those reds above the mean `alcohol` level, by quality.\n",
    " * The average `alcohol` content for those whites above the mean `alcohol` level, by quality. \n",
    " \n",
    " Use a `pivot table` to solve this. \n",
    " \n",
    "6) Now, do the same for my decision to avoid wines with a high acidity next month: \n",
    "\n",
    " * Find the average `alcohol` content for reds, by `quality` and `fixed acidity` quintile. \n",
    " * Find the average `alcohol` content for whites, by `quality` and `fixed acidity` quintile. \n",
    " \n",
    "  Use a `pivot table` to solve this. "
   ]
  },
  {
   "cell_type": "code",
   "execution_count": null,
   "metadata": {},
   "outputs": [],
   "source": [
    "import pandas as pd"
   ]
  },
  {
   "cell_type": "code",
   "execution_count": null,
   "metadata": {},
   "outputs": [],
   "source": [
    "# 1 Read the `winequality-red.csv` data into a `DataFrame`, and the `winequality-white.csv` into another `DataFrame`.\n",
    "\n",
    "df_red = pd.read_csv(\"data/winequality-red.csv\", sep=';')\n",
    "df_white = pd.read_csv(\"data/winequality-white.csv\", sep=';')"
   ]
  },
  {
   "cell_type": "code",
   "execution_count": null,
   "metadata": {},
   "outputs": [],
   "source": [
    "# 2 Double check that you've read them in correctly ...\n",
    "# (... .head(), .shape, ...)"
   ]
  },
  {
   "cell_type": "code",
   "execution_count": null,
   "metadata": {},
   "outputs": [],
   "source": [
    "# 3.1 Find the mean alcohol content, separately, for reds and whites.\n",
    "\n",
    "mean_red = df_red.alcohol.mean()\n",
    "mean_white = df_white.alcohol.mean()"
   ]
  },
  {
   "cell_type": "code",
   "execution_count": null,
   "metadata": {},
   "outputs": [],
   "source": [
    "# 3.2 Create a `Series` that holds whether each row in each `DataFrame` \n",
    "# (red wines and white wines) has a higher alcohol content than the mean.\n",
    "\n",
    "alc_red = df_red.alcohol > df_red.alcohol.mean()\n",
    "alc_white = df_white.alcohol > df_white.alcohol.mean()"
   ]
  },
  {
   "cell_type": "code",
   "execution_count": null,
   "metadata": {},
   "outputs": [],
   "source": [
    "# 3.3 Merge this `Series` onto the `DataFrame`. \n",
    "# I can imagine doing this with either a `.join()` or using `pd.concat()`. \n",
    "# For practice, do it with both. Note: merges with `Series` work the same way that they work with `DataFrames`.   \n",
    "\n",
    "df_red_joined = df_red.join(alc_red, rsuffix = '_above_mean')\n",
    "df_red_joined\n",
    "\n",
    "df_white_joined = df_white.join(alc_white, rsuffix = '_above_mean')\n",
    "df_white_joined"
   ]
  },
  {
   "cell_type": "code",
   "execution_count": null,
   "metadata": {},
   "outputs": [],
   "source": [
    "# 3.4 Return all those rows that will help me stay away from those wines with a higher alcohol content. \n",
    "\n",
    "df_red_joined.query('alcohol_above_mean == False')\n",
    "df_white_joined.query('alcohol_above_mean == False')"
   ]
  },
  {
   "cell_type": "code",
   "execution_count": null,
   "metadata": {},
   "outputs": [],
   "source": [
    "# 4.1 Separate the rows in each `DataFrame` into 5 equal width bins (not equal to quintiles) \n",
    "# based off their fixed acidity.\n",
    "\n",
    "acidity_labels = ['very low', 'low', 'medium', 'high', 'very high']\n",
    "acidity_bins = pd.cut(df_red_joined['fixed acidity'], bins=5, labels=acidity_labels)\n",
    "acidity_bins"
   ]
  },
  {
   "cell_type": "code",
   "execution_count": null,
   "metadata": {},
   "outputs": [],
   "source": [
    "# 4.2 Merge the resulting `Series` holding these 5 bins onto the original `DataFrame`. \n",
    "# I can imagine also doing this with either `.join()` or using `pd.concat()`. \n",
    "# Try doing it with both for practice.\n",
    "\n",
    "df_red_acid_joined = df_red_joined.join(acidity_bins, rsuffix='_bins')\n",
    "df_red_acid_joined"
   ]
  },
  {
   "cell_type": "code",
   "execution_count": null,
   "metadata": {},
   "outputs": [],
   "source": [
    "# 4.3 Return back to me all those rows that are **not in** the top bin in terms of fixed acidity.\n",
    "df_red_keepdrinking = df_red_acid_joined[(df_red_acid_joined['fixed acidity_bins'] != \"very high\")]\n",
    "df_red_keepdrinking"
   ]
  },
  {
   "cell_type": "code",
   "execution_count": null,
   "metadata": {},
   "outputs": [],
   "source": [
    "# 5.1 The average `alcohol` content for those reds above the mean `alcohol` level, by quality.\n",
    "# Use a `pivot table` to solve this.\n",
    "\n",
    "pd.pivot_table(df_red_acid_joined.query('alcohol_above_mean == True'), values='alcohol', index='quality')"
   ]
  },
  {
   "cell_type": "code",
   "execution_count": null,
   "metadata": {},
   "outputs": [],
   "source": [
    "# 5.2 The average `alcohol` content for those whites above the mean `alcohol` level, by quality.\n",
    "# Use a `pivot table` to solve this.\n",
    "\n",
    "#(...)"
   ]
  },
  {
   "cell_type": "code",
   "execution_count": null,
   "metadata": {},
   "outputs": [],
   "source": [
    "# 6.1 Find the average `alcohol` content for reds, by `quality` and `fixed acidity` quintile. \n",
    "# Use a `pivot table` to solve this.\n",
    "\n",
    "pd.pivot_table(df_red_acid_joined, values='alcohol', index='quality', columns='fixed acidity_bins')\n"
   ]
  },
  {
   "cell_type": "code",
   "execution_count": null,
   "metadata": {},
   "outputs": [],
   "source": [
    "# 6.2  * Find the average `alcohol` content for whites, by `quality` and `fixed acidity` quintile.\n",
    "# Use a `pivot table` to solve this.\n",
    "\n",
    "#(...)"
   ]
  }
 ],
 "metadata": {
  "interpreter": {
   "hash": "b9a9bc9575d4d164452a5eab5380f2f8b8862dcd0eab8623eb3551c948530407"
  },
  "kernelspec": {
   "display_name": "Python 3.8.5 64-bit ('nf_base': conda)",
   "name": "python3"
  },
  "language_info": {
   "codemirror_mode": {
    "name": "ipython",
    "version": 3
   },
   "file_extension": ".py",
   "mimetype": "text/x-python",
   "name": "python",
   "nbconvert_exporter": "python",
   "pygments_lexer": "ipython3",
   "version": "3.8.5"
  }
 },
 "nbformat": 4,
 "nbformat_minor": 5
}
