{
 "cells": [
  {
   "cell_type": "markdown",
   "metadata": {},
   "source": [
    "# Practice on Numpy and Pandas\n",
    "\n",
    "Here are some task for you, to refresh what you saw in the notebooks before.\n",
    "\n",
    "It will help you strengthen the **learning objectives** from the notebook before. You should be able to\n",
    "- create numpy arrays\n",
    "- manipulate them with basic mathematics operators\n",
    "- extract rows, columns and items by indexing\n",
    "- use aggregation methods (like sum, min, max, std) on numpy arrays\n",
    "\n",
    "\n",
    "**Part 1**: Creating numpy arrays.\n",
    "\n",
    "- Please create a numpy array from the list:\n",
    "```Python\n",
    "my_list = [1, 2, 5, 6, 8]\n",
    "````\n",
    "\n",
    "- Please create a numpy array containing the values from 1 to 10.\n",
    "-  Please create a numpy array from 0 to 5 with a stepsize of 0.2\n",
    "- Create a numpy array with the shape 2,3 with random values\n"
   ]
  },
  {
   "cell_type": "code",
   "execution_count": null,
   "metadata": {},
   "outputs": [],
   "source": [
    "import numpy as np\n",
    "\n",
    "# Please create a numpy array from the list:\n",
    "# my_list = [1, 2, 5, 6, 8]\n",
    "\n",
    "my_list = [1, 2, 5, 6, 8]\n",
    "\n",
    "np.array(my_list)"
   ]
  },
  {
   "cell_type": "code",
   "execution_count": null,
   "metadata": {},
   "outputs": [],
   "source": [
    "# Please create a numpy array containing the values from 1 to 10.\n",
    "\n",
    "np.arange(1, 11)"
   ]
  },
  {
   "cell_type": "code",
   "execution_count": null,
   "metadata": {},
   "outputs": [],
   "source": [
    "# Please create a numpy array from 0 to 5 with a stepsize of 0.2\n",
    "\n",
    "np.arange(0, 6, .2)"
   ]
  },
  {
   "cell_type": "code",
   "execution_count": null,
   "metadata": {},
   "outputs": [],
   "source": [
    "# Create a numpy array with the shape 2,3 with random values\n",
    "np.random.rand(2, 3)"
   ]
  },
  {
   "cell_type": "markdown",
   "metadata": {},
   "source": [
    "**Part 2**: Manipulate numpy arrays.\n",
    "\n",
    "1. Please create a numpy array with (1, 3, '4', 7, 12, '0'). Define the content as integer.\n",
    "2. Check the data type of the objects and the shape of the array\n",
    "3. Update the 4th value to 30.\n",
    "4. Reshape the array to a 2x3 matrix.\n",
    "5. Please add 8 to the first row and 12 to the second row.\n",
    "6. Mulitply the first column with 2, the second with 3 and the third with 4.\n",
    "7. Please sum up all numbers in the first row, and all numbers in the second row.\n",
    "8. Similarly, search for the largest number for each column.\n",
    "9. Extract the number in the second column and the first row.\n",
    "10. Check at which index the value is exactly 48."
   ]
  },
  {
   "cell_type": "code",
   "execution_count": null,
   "metadata": {},
   "outputs": [],
   "source": [
    "#1\n",
    "npar = np.array([1, 3, '4', 7, 12, '0'], np.int32)"
   ]
  },
  {
   "cell_type": "code",
   "execution_count": null,
   "metadata": {},
   "outputs": [],
   "source": [
    "# 2\n",
    "npar.dtype"
   ]
  },
  {
   "cell_type": "code",
   "execution_count": null,
   "metadata": {},
   "outputs": [],
   "source": [
    "# 3\n",
    "npar[3] = 30\n",
    "npar"
   ]
  },
  {
   "cell_type": "code",
   "execution_count": null,
   "metadata": {},
   "outputs": [],
   "source": [
    "# 4\n",
    "npar = npar.reshape(2,3)\n",
    "npar"
   ]
  },
  {
   "cell_type": "code",
   "execution_count": null,
   "metadata": {},
   "outputs": [],
   "source": [
    "# 5\n",
    "npar = npar + ([8], [12])\n",
    "npar"
   ]
  },
  {
   "cell_type": "code",
   "execution_count": null,
   "metadata": {},
   "outputs": [],
   "source": [
    "# 6\n",
    "npar = npar * ([2,3,4])\n",
    "npar"
   ]
  },
  {
   "cell_type": "code",
   "execution_count": null,
   "metadata": {},
   "outputs": [],
   "source": [
    "# 7\n",
    "npar.sum(axis=1)"
   ]
  },
  {
   "cell_type": "code",
   "execution_count": null,
   "metadata": {},
   "outputs": [],
   "source": [
    "# 8\n",
    "npar.max(axis=1)"
   ]
  },
  {
   "cell_type": "code",
   "execution_count": null,
   "metadata": {},
   "outputs": [],
   "source": [
    "# 9\n",
    "npar[0,1]"
   ]
  },
  {
   "cell_type": "code",
   "execution_count": null,
   "metadata": {},
   "outputs": [],
   "source": [
    "# 10\n",
    "np.where(npar==48)"
   ]
  }
 ],
 "metadata": {
  "interpreter": {
   "hash": "b9a9bc9575d4d164452a5eab5380f2f8b8862dcd0eab8623eb3551c948530407"
  },
  "kernelspec": {
   "display_name": "Python 3.8.5 64-bit ('nf_base': conda)",
   "name": "python3"
  },
  "language_info": {
   "codemirror_mode": {
    "name": "ipython",
    "version": 3
   },
   "file_extension": ".py",
   "mimetype": "text/x-python",
   "name": "python",
   "nbconvert_exporter": "python",
   "pygments_lexer": "ipython3",
   "version": "3.8.5"
  }
 },
 "nbformat": 4,
 "nbformat_minor": 5
}
