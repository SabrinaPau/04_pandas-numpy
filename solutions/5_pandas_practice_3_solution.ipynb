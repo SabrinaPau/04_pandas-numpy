{
 "cells": [
  {
   "cell_type": "markdown",
   "metadata": {},
   "source": [
    "# Pandas Practice on Bike Share Data\n",
    "\n",
    "When writing code, you don't always have to invent the wheel from scratch. The great advantage of Python is that smart people before you spend a lot of energy on making life easier for the next programers. So please, make your life easier and use code that has already been implemented, don't call it \"copying\" but \"friendly borrowing\" of other people's code. If you copy whole functions or great graphs in the future, don't forget to give props to the inventor!\n",
    "\n",
    "So for this exercise, too, if you get stuck at any point, look at good solutions from others and learn from them how to solve these problems even better.\n",
    "Here are two good resources for small code snippets which can be very helpful when dealing with DataFrames:\n",
    "\n",
    "- [Sebastian Raschkas \"Things in Pandas I Wish I'd Known Earlier\"](https://nbviewer.jupyter.org/github/rasbt/python_reference/blob/master/tutorials/things_in_pandas.ipynb)\n",
    "- [Chris Albons set of code snippets](https://chrisalbon.com/)\n",
    "\n",
    "## Learning Objectives\n",
    "**By the end of this session you should be able to**\n",
    "- explore data with Pandas to answer conceptual questions\n",
    "- Write chained commands for effecient one-liners\n",
    "\n"
   ]
  },
  {
   "cell_type": "code",
   "execution_count": null,
   "metadata": {},
   "outputs": [],
   "source": [
    "import pandas as pd\n",
    "import matplotlib.pyplot as plt"
   ]
  },
  {
   "cell_type": "code",
   "execution_count": null,
   "metadata": {},
   "outputs": [],
   "source": [
    "df = pd.read_csv('../data/bike_share_201402_trip_data.csv')"
   ]
  },
  {
   "cell_type": "markdown",
   "metadata": {},
   "source": [
    "1. How many observations are there?"
   ]
  },
  {
   "cell_type": "code",
   "execution_count": null,
   "metadata": {},
   "outputs": [],
   "source": [
    "#144015 observations\n",
    "df.info()"
   ]
  },
  {
   "cell_type": "markdown",
   "metadata": {},
   "source": [
    "2. Change the column-names to be Pythonic:\n",
    "\n",
    "- lowercase \n",
    "- replace \" \" with `_` as a separator\n",
    "- replace \"#\" with `num` \n"
   ]
  },
  {
   "cell_type": "code",
   "execution_count": null,
   "metadata": {},
   "outputs": [],
   "source": [
    "# Converting column names to lowercase\n",
    "df.rename(columns=lambda x : x.lower(), inplace=True)\n",
    "df.rename(columns=lambda x : x.replace(' ', '_'), inplace=True)\n",
    "df.rename(columns=lambda x : x.replace('#', 'num'), inplace=True)\n",
    "df"
   ]
  },
  {
   "cell_type": "markdown",
   "metadata": {},
   "source": [
    "3. How many types of subscription options are there?"
   ]
  },
  {
   "cell_type": "code",
   "execution_count": null,
   "metadata": {},
   "outputs": [],
   "source": [
    "df['subscription_type'].unique()"
   ]
  },
  {
   "cell_type": "markdown",
   "metadata": {},
   "source": [
    "4. What is the frequency of each subscription option?"
   ]
  },
  {
   "cell_type": "code",
   "execution_count": null,
   "metadata": {},
   "outputs": [],
   "source": [
    "#df.groupby('subscription_type').count().trip_id\n",
    "df['subscription_type'].value_counts()"
   ]
  },
  {
   "cell_type": "markdown",
   "metadata": {},
   "source": [
    "5. Please plot the frequency of each subscription option with pie chart."
   ]
  },
  {
   "cell_type": "code",
   "execution_count": null,
   "metadata": {},
   "outputs": [],
   "source": [
    "# pandas.df.plot\n",
    "df['subscription_type'].value_counts().plot(kind='pie');\n",
    "\n",
    "# matplotlib\n",
    "subs = df['subscription_type'].value_counts()\n",
    "subs = pd.DataFrame([subs])\n",
    "x = subs.columns\n",
    "\n",
    "fig, ax = plt.subplots()\n",
    "ax.pie([subs.iloc[0,0], subs.iloc[0,1]], labels=x, autopct=\"%.2f\")\n",
    "plt.show()"
   ]
  },
  {
   "cell_type": "markdown",
   "metadata": {},
   "source": [
    "6. Please plot the frequency of each subscription option with bar chart."
   ]
  },
  {
   "cell_type": "code",
   "execution_count": null,
   "metadata": {},
   "outputs": [],
   "source": [
    "df.groupby('subscription_type').count().trip_id.plot(kind='bar');"
   ]
  },
  {
   "cell_type": "markdown",
   "metadata": {},
   "source": [
    "7. Repeat same analysis for start_station but sorted from high to low."
   ]
  },
  {
   "cell_type": "code",
   "execution_count": null,
   "metadata": {},
   "outputs": [],
   "source": [
    "df.groupby('start_station').count().sort_values('trip_id', ascending=False)#.trip_id.plot(kind='bar');"
   ]
  },
  {
   "cell_type": "markdown",
   "metadata": {},
   "source": [
    "8. Repeat same analysis for end_station but sorted from __low to high__."
   ]
  },
  {
   "cell_type": "code",
   "execution_count": null,
   "metadata": {},
   "outputs": [],
   "source": [
    "df.groupby('end_station').count().sort_values('trip_id', ascending=True)#.trip_id.plot(kind='bar');"
   ]
  },
  {
   "cell_type": "markdown",
   "metadata": {},
   "source": [
    "9. Looking at just the most popular start stations and the most popular end stations, what are the qualitative similarities and differences between the set of start stations and set of end stations?  "
   ]
  },
  {
   "cell_type": "code",
   "execution_count": null,
   "metadata": {},
   "outputs": [],
   "source": [
    "#df.sort_values('bike_num', ascending=False)\n",
    "df[\"start_station\"].value_counts().nlargest(5)"
   ]
  },
  {
   "cell_type": "markdown",
   "metadata": {},
   "source": [
    "10. Create a table that has start_station segmented by subscription_type.\n",
    "\n",
    "Include the marginals.\n",
    "\n",
    "<details><summary>\n",
    "Click here for a hint…\n",
    "</summary>\n",
    "`pd.crosstab`\n",
    "</details>"
   ]
  },
  {
   "cell_type": "code",
   "execution_count": null,
   "metadata": {},
   "outputs": [],
   "source": [
    "pd.crosstab(df.start_station, df.subscription_type)"
   ]
  },
  {
   "cell_type": "markdown",
   "metadata": {},
   "source": [
    "\n",
    "11. Let's look at duration....\n",
    "\n",
    "How long is the shortest trip? How many are that short?"
   ]
  },
  {
   "cell_type": "code",
   "execution_count": null,
   "metadata": {},
   "outputs": [],
   "source": [
    "# df.duration.min() = 60. \n",
    "# 17 trips are just 60 seconds long.\n",
    "\n",
    "df.duration.min()\n",
    "df.query('duration == duration.min()').shape[0]"
   ]
  },
  {
   "cell_type": "markdown",
   "metadata": {},
   "source": [
    "12. What do you think is going on with the short trips?"
   ]
  },
  {
   "cell_type": "code",
   "execution_count": null,
   "metadata": {},
   "outputs": [],
   "source": [
    "# Duration.min() = 60, must be seconds, all short trips end where they began.\n",
    "# Seem to be interrupted bookings or immediate returns assigned to a minimum value of 60 seconds.\n",
    "\n",
    "df.query('duration == duration.min()')\n",
    "df.query('duration == duration.min() and start_station != end_station').shape[0]"
   ]
  },
  {
   "cell_type": "markdown",
   "metadata": {},
   "source": [
    "13. What is the longest trip? How many trips are \"long\"?"
   ]
  },
  {
   "cell_type": "markdown",
   "metadata": {},
   "source": [
    "14. Do the long durations seem reasonable? Why are they so long? What could that tell us about the users?"
   ]
  },
  {
   "cell_type": "markdown",
   "metadata": {},
   "source": [
    "15. Timebox 15 minutes to explore the data guided by your own intuition or hypotheses…\n"
   ]
  },
  {
   "cell_type": "code",
   "execution_count": null,
   "metadata": {},
   "outputs": [],
   "source": [
    "# 722236 seconds = ~200 hours = ~8 days\n",
    "# median trip duration = 531 seconds = ~9 Minutes\n",
    "# mean trip duration = 1230 seconds = ~20 Minutes\n",
    "# 72073 trips are longer than the median\n",
    "\n",
    "df.duration.max()\n",
    "#df.duration.mean()\n",
    "df.query('duration >= duration.median()').sort_values('duration', ascending=False).head()#.shape[0]\n",
    "#df.duration.sort_values(ascending=False)\n",
    "#df.query('duration == duration.max ()').shape[0]\n",
    "#df.query('duration == duration.max ()')"
   ]
  },
  {
   "cell_type": "markdown",
   "metadata": {},
   "source": [
    "16. Plot duration."
   ]
  },
  {
   "cell_type": "code",
   "execution_count": null,
   "metadata": {},
   "outputs": [],
   "source": [
    "df['duration_min'] = round(df['duration'] / 60, 2)\n",
    "dur_count = df['duration_min'].value_counts()\n",
    "dur_count.reset_index().sort_values(by='index')\n",
    "\n",
    "dur_count.plot(kind='hist', bins=20, figsize=(10,8));"
   ]
  },
  {
   "cell_type": "markdown",
   "metadata": {},
   "source": [
    "17. Does that plot give insights?"
   ]
  },
  {
   "cell_type": "code",
   "execution_count": null,
   "metadata": {},
   "outputs": [],
   "source": [
    "#skewed distribution, oftentimes short trips, very few long trips"
   ]
  },
  {
   "cell_type": "markdown",
   "metadata": {},
   "source": [
    "18. Select subsections of the data to make a series of plots to enable insights for the Product Team."
   ]
  },
  {
   "cell_type": "code",
   "execution_count": null,
   "metadata": {},
   "outputs": [],
   "source": [
    "dur_count[dur_count < df['duration_min'].quantile(0.05)].plot(kind='hist', bins=20, figsize=(10,8));"
   ]
  },
  {
   "cell_type": "code",
   "execution_count": null,
   "metadata": {},
   "outputs": [],
   "source": [
    "dur_count[dur_count > df['duration_min'].quantile(0.95)].plot(kind='hist', bins=20, figsize=(10,8));"
   ]
  },
  {
   "cell_type": "markdown",
   "metadata": {},
   "source": [
    "19. The Product Team would like all of the station names to be lower case and  with `_` as a seperator\n",
    "\n",
    "`South Van Ness at Market` -> `south_van_ness_at_market`  \n",
    "\n",
    "__DO NOT USE A FOR LOOP. THEY ARE THE 👿__"
   ]
  },
  {
   "cell_type": "code",
   "execution_count": null,
   "metadata": {},
   "outputs": [],
   "source": [
    "# Converting station names to lower_snake_case\n",
    "df.start_station = df.start_station.map(lambda x: x.lower())\n",
    "df.start_station = df.start_station.map(lambda x : x.replace(' ', '_'))\n",
    "\n",
    "df.end_station = df.end_station.map(lambda x: x.lower())\n",
    "df.end_station = df.end_station.map(lambda x : x.replace(' ', '_'))\n",
    "\n",
    "df.head(5)"
   ]
  }
 ],
 "metadata": {
  "interpreter": {
   "hash": "b9a9bc9575d4d164452a5eab5380f2f8b8862dcd0eab8623eb3551c948530407"
  },
  "kernelspec": {
   "display_name": "Python 3.8.5 64-bit ('nf_base': conda)",
   "name": "python3"
  },
  "language_info": {
   "codemirror_mode": {
    "name": "ipython",
    "version": 3
   },
   "file_extension": ".py",
   "mimetype": "text/x-python",
   "name": "python",
   "nbconvert_exporter": "python",
   "pygments_lexer": "ipython3",
   "version": "3.9.10"
  }
 },
 "nbformat": 4,
 "nbformat_minor": 4
}
