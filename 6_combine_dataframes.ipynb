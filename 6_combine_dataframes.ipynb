{
 "cells": [
  {
   "cell_type": "markdown",
   "metadata": {},
   "source": [
    "# Combining Datasets with Pandas\n",
    "\n",
    "## Learning Objectives\n",
    "\n",
    "At the end of this notebook you should be able to\n",
    "- combine DataFrames with Pandas\n",
    "- describe the different joining methods (how to join DataFrames)"
   ]
  },
  {
   "cell_type": "markdown",
   "metadata": {},
   "source": [
    "Pandas functions that allow us to combine two sets of data include the use of `pd.merge()`, `df.join()`, `df.merge()`, and `pd.concat()`. For the most part, these do largely the same things (although you'll notice the slight syntax difference with `merge()` and `concat()` being able to be called via the Pandas module and `merge()` and `join()` being able to be called on a DataFrame instance).   \n",
    "There are some cases where one of these might be better than another in terms of writing less code or performing some kind of data combination in an easier way. The major differences between these, though, largely depend on what they do by default when you try to combine different data. By default, `merge()` looks to join on common columns, `join()` on common indices, and `concat()` by just appending on a given axis.\n",
    "\n",
    "You can find more detail about the differences between all three of these in the [docs](https://pandas.pydata.org/pandas-docs/stable/user_guide/merging.html). We'll look at some examples below. "
   ]
  },
  {
   "cell_type": "code",
   "execution_count": null,
   "metadata": {},
   "outputs": [],
   "source": [
    "# We'll go back to our wine data set. Who doesn't love wine?\n",
    "import pandas as pd\n",
    "wine_df = pd.read_csv('data/winequality-red.csv', delimiter=';')\n",
    "wine_df.head()"
   ]
  },
  {
   "cell_type": "code",
   "execution_count": null,
   "metadata": {},
   "outputs": [],
   "source": [
    "# A glance at the values of the quality of wine in the DataFrame\n",
    "wine_df.quality.unique()"
   ]
  },
  {
   "cell_type": "code",
   "execution_count": null,
   "metadata": {},
   "outputs": [],
   "source": [
    "# get_dummies is a method called on the pandas module - you simply pass in a Pandas Series \n",
    "# or DataFrame, and it will convert a categorical variable into dummy/indicator variables. \n",
    "# The idea of dummy coding is to convert each category into a new column, and assign a 1 or 0 to the column.\n",
    "# We will cover this topic in more depth later.\n",
    "quality_dummies = pd.get_dummies(wine_df.quality, prefix='quality')\n",
    "quality_dummies.head()"
   ]
  },
  {
   "cell_type": "markdown",
   "metadata": {},
   "source": [
    "### Join()\n",
    "Now let's look at the `join()` method. Remember, this joins on indices by default and is called on a dataframe instance. This means that we can simply join our quality dummies dataframe back to our original wine dataframe with the following code:"
   ]
  },
  {
   "cell_type": "code",
   "execution_count": null,
   "metadata": {},
   "outputs": [],
   "source": [
    "joined_df = wine_df.join(quality_dummies)\n",
    "joined_df.head() "
   ]
  },
  {
   "cell_type": "markdown",
   "metadata": {},
   "source": [
    "The arguments of `.join` are the following: \n",
    "````\n",
    "DataFrame.join(other, on=None, how='left', lsuffix='', rsuffix='', sort=False)\n",
    "````\n",
    "The documentation refers to the second dataframe as 'other', which the documentations of the other combining methods often refer to as 'right'.  \n",
    "With `how` we can specify which join method we want to use.\n",
    "\n",
    "If we want to join using a common column, we need to set this column to be the index in both dataframes. The joined DataFrame will have the common column as its index.\n",
    "\n",
    "```\n",
    "df.set_index('column_name').join(other.set_index('column_name'))\n",
    "```\n",
    "\n",
    "Another option to join using a common column is to use the on parameter. This method preserves the original DataFrame’s index in the result.\n",
    "```\n",
    "df.join(other.set_index('column_name'), on='column_name')\n",
    "```\n",
    "See the documentation [here](https://pandas.pydata.org/docs/reference/api/pandas.DataFrame.join.html)."
   ]
  },
  {
   "cell_type": "markdown",
   "metadata": {},
   "source": [
    "The how argument to merge specifies which keys are included in the resulting table. If a key combination does not appear in either the left or right tables, the values in the joined table will be NA. Here is a summary of the how options and their SQL equivalent names:\n",
    "\n",
    "Merge method | SQL Join Name | Description\n",
    "---|---|---\n",
    "left| LEFT OUTER JOIN | Use keys from left frame only\n",
    "right | RIGHT OUTER JOIN | Use keys from right frame only\n",
    "outer | FULL OUTER JOIN | Use union of keys from both frames\n",
    "inner | INNER JOIN | Use intersection of keys from both frames\n",
    "\n",
    "\n",
    "You can also think of it as set theory and use Venn diagrams to illustrate what happens in each method.\n",
    "\n",
    "![Join Methods](./images/join_types.png)"
   ]
  },
  {
   "cell_type": "markdown",
   "metadata": {},
   "source": [
    "### Merge()\n",
    "Let's look at the `merge()` method. Merge combines dataframes on column columns by default and can be used via the pandas module AND called on a dataframe instance."
   ]
  },
  {
   "cell_type": "markdown",
   "metadata": {},
   "source": [
    "The arguments of `.merge` are the following: \n",
    "````\n",
    "DataFrame.merge(right, how='inner', on=None, left_on=None, right_on=None, left_index=False, right_index=False, sort=False,   \n",
    "suffixes=('_x', '_y'), copy=True, indicator=False, validate=None)\n",
    "````\n",
    "See the documentation [here](https://pandas.pydata.org/docs/reference/api/pandas.DataFrame.merge.html)."
   ]
  },
  {
   "cell_type": "code",
   "execution_count": null,
   "metadata": {},
   "outputs": [],
   "source": [
    "# Since in both dataframes, we need a common column.\n",
    "# Let's use the index column as the one to merge on:\n",
    "wine_df_ind = wine_df.reset_index()\n",
    "quality_dummies_ind = quality_dummies.reset_index()"
   ]
  },
  {
   "cell_type": "code",
   "execution_count": null,
   "metadata": {},
   "outputs": [],
   "source": [
    "# check result - you will see a new column called index in the dataframe\n",
    "wine_df_ind.head()"
   ]
  },
  {
   "cell_type": "code",
   "execution_count": null,
   "metadata": {},
   "outputs": [],
   "source": [
    "# check result - you will see a new column called index in the dataframe\n",
    "quality_dummies_ind.head()"
   ]
  },
  {
   "cell_type": "code",
   "execution_count": null,
   "metadata": {},
   "outputs": [],
   "source": [
    "# Join the quality_dummies df on the wine_df instance on the common column 'index'\n",
    "joined_df2a = wine_df_ind.merge(quality_dummies_ind, on='index')\n",
    "joined_df2a.head()"
   ]
  },
  {
   "cell_type": "code",
   "execution_count": null,
   "metadata": {},
   "outputs": [],
   "source": [
    "# Join the two dataframes via the pandas module on the common column 'index'\n",
    "joined_df2b = pd.merge(wine_df_ind, quality_dummies_ind, on='index')\n",
    "joined_df2b.head()"
   ]
  },
  {
   "cell_type": "markdown",
   "metadata": {},
   "source": [
    "### Concat()"
   ]
  },
  {
   "cell_type": "markdown",
   "metadata": {},
   "source": [
    "Let's now look at concat.\n",
    "`````\n",
    "pandas.concat(objs, axis=0, join='outer', ignore_index=False, keys=None, levels=None, names=None,    \n",
    "verify_integrity=False, sort=False, copy=True)\n",
    "`````\n",
    "Different from join and merge, which by default operate on columns, concat can define whether to operate on columns or rows.\n",
    "\n",
    "See the documentation [here](https://pandas.pydata.org/docs/reference/api/pandas.concat.html)."
   ]
  },
  {
   "cell_type": "code",
   "execution_count": null,
   "metadata": {},
   "outputs": [],
   "source": [
    "joined_df3 = pd.concat([quality_dummies, wine_df], axis=1)\n",
    "joined_df3.head()"
   ]
  },
  {
   "cell_type": "markdown",
   "metadata": {},
   "source": [
    "In the images below, you can see the differences, if axis is set as 0 or 1.\n",
    "\n",
    "**Concat with axis=0:**\n",
    "![Concat Axis 0](./images/concat_axis_0.png)\n",
    "\n",
    "---\n",
    "\n",
    "**Concat with axis=1:**\n",
    "![Concat Axis 1](./images/concat_axis_1.png)\n",
    "\n",
    "(The pictures were part of [this](https://towardsdatascience.com/python-pandas-dataframe-join-merge-and-concatenate-84985c29ef78) blog post.)"
   ]
  },
  {
   "cell_type": "markdown",
   "metadata": {},
   "source": [
    "### More examples on combining dataframes"
   ]
  },
  {
   "cell_type": "markdown",
   "metadata": {},
   "source": [
    "Let's read in a different data set, since we're looking at combining multiple data sources."
   ]
  },
  {
   "cell_type": "code",
   "execution_count": null,
   "metadata": {},
   "outputs": [],
   "source": [
    "red_wines_df = pd.read_csv('data/winequality-red.csv', delimiter=';')\n",
    "white_wines_df = pd.read_csv('data/winequality-white.csv', delimiter=';')"
   ]
  },
  {
   "cell_type": "markdown",
   "metadata": {},
   "source": [
    "We want to compare red and white wines regarding their mean fixed acidity per quality category."
   ]
  },
  {
   "cell_type": "code",
   "execution_count": null,
   "metadata": {},
   "outputs": [],
   "source": [
    "# check out the included columns in the red wine dataset\n",
    "red_wines_df.columns"
   ]
  },
  {
   "cell_type": "code",
   "execution_count": null,
   "metadata": {},
   "outputs": [],
   "source": [
    "# check out the included columns in the white wine dataset\n",
    "white_wines_df.columns"
   ]
  },
  {
   "cell_type": "code",
   "execution_count": null,
   "metadata": {},
   "outputs": [],
   "source": [
    "# Let's build a new dataset which shows the mean fixed acidity per quality category for the red wines\n",
    "red_wines_quality_df = red_wines_df.groupby('quality').mean()['fixed acidity'].reset_index()\n",
    "red_wines_quality_df.head()"
   ]
  },
  {
   "cell_type": "code",
   "execution_count": null,
   "metadata": {},
   "outputs": [],
   "source": [
    "# ... and the same for the white wines\n",
    "white_wines_quality_df = white_wines_df.groupby('quality').mean()['fixed acidity'].reset_index()\n",
    "white_wines_quality_df.head()"
   ]
  },
  {
   "cell_type": "code",
   "execution_count": null,
   "metadata": {},
   "outputs": [],
   "source": [
    "# In order to compare red and white wines better, let's combine the two newly created dataframes. \n",
    "pd.merge(red_wines_quality_df, white_wines_quality_df, on=['quality'], suffixes=[' red', ' white'])"
   ]
  },
  {
   "cell_type": "markdown",
   "metadata": {},
   "source": [
    "Let's try out to generate the table above using the methods `.join()` and `.concat()`."
   ]
  },
  {
   "cell_type": "code",
   "execution_count": null,
   "metadata": {},
   "outputs": [],
   "source": [
    "# Since we want to join on a common column rather than on the indices, we need the .set_index function.\n",
    "red_wines_quality_df.join(white_wines_quality_df.set_index('quality'), lsuffix = ' red', rsuffix = ' white', on ='quality')"
   ]
  },
  {
   "cell_type": "code",
   "execution_count": null,
   "metadata": {},
   "outputs": [],
   "source": [
    "# Also for using pd.concat we need to set quality as index, otherwise we would have the column quality two times in our dataframe.\n",
    "# Try it out without the .set_index('quality') fo see the difference.\n",
    "# Can you think of a different solution for the naming of the columns so that we get the same result as above?\n",
    "pd.concat([red_wines_quality_df.set_index('quality'), white_wines_quality_df.set_index('quality')], axis = 1, join=\"inner\", keys=['red', 'white']).reset_index()"
   ]
  },
  {
   "cell_type": "markdown",
   "metadata": {},
   "source": [
    "## Check your understanding\n",
    "\n",
    "1. Please join the two given dataframes (df1 and df2) along rows and merge with the third (df3) dataframe along the common column id.  \n",
    "If any key combinations are not present, these should be filled with NaNs.\n"
   ]
  },
  {
   "cell_type": "code",
   "execution_count": null,
   "metadata": {},
   "outputs": [],
   "source": [
    "df1 = pd.DataFrame({\n",
    "        'student_id': ['S1', 'S2', 'S3', 'S4', 'S5'],\n",
    "         'name': ['Erika Raaf', 'Nadja Berens', 'Florentin Kleist', 'Dorothea Eibl', 'Gerhard Bihlmeier'], \n",
    "        'subject': ['Math', 'Biology', 'Biology', 'English', 'Philosophy']})\n",
    "df2 = pd.DataFrame({\n",
    "        'student_id': ['S6', 'S7', 'S8'],\n",
    "        'name': ['Jens Hüls', 'Vera Kagan', 'Paula Brodersen'], \n",
    "        'subject': ['Math', 'Math', 'Social Science']})\n",
    "df3 = pd.DataFrame({\n",
    "        'student_id': ['S1', 'S2', 'S3', 'S4', 'S5', 'S7', 'S8', 'S9', 'S10', 'S11', 'S12', 'S13'],\n",
    "        'marks': [23, 45, 12, 67, 21, 55, 33, 14, 56, 83, 88, 12]})"
   ]
  },
  {
   "cell_type": "markdown",
   "metadata": {},
   "source": [
    "2. You have received some weather data (temperature) of the last year. For each month the average temperature was measured, only for a few months the maximum temperature could be measured. Anyway, you want to combine these two data without losing any information.\n",
    "\n",
    "(Extra question: Can you fill in the average max. Temperature for the missing values in the Column `Max TemperatureF`)"
   ]
  },
  {
   "cell_type": "code",
   "execution_count": null,
   "metadata": {},
   "outputs": [],
   "source": [
    "weather_mean_data = {'Mean TemperatureF': [53.1, 70., 34.93548387, 28.71428571, 32.35483871, 72.87096774, 70.13333333, 35., 62.61290323, 39.8, 55.4516129 , 63.76666667],\n",
    "                     'Month': ['Apr', 'Aug', 'Dec', 'Feb', 'Jan', 'Jul', 'Jun', 'Mar', 'May', 'Nov', 'Oct', 'Sep']}\n",
    "weather_max_data = {'Max TemperatureF': [68, 89, 91, 84], 'Month': ['Jan', 'Apr', 'Jul', 'Oct']}\n"
   ]
  }
 ],
 "metadata": {
  "interpreter": {
   "hash": "0e4771abb73651cc71498e03f3559c7e0f15f38d5124065b3832974a7bbffea7"
  },
  "kernelspec": {
   "display_name": "Python 3.8.5 64-bit ('nf_base': conda)",
   "name": "python3"
  },
  "language_info": {
   "codemirror_mode": {
    "name": "ipython",
    "version": 3
   },
   "file_extension": ".py",
   "mimetype": "text/x-python",
   "name": "python",
   "nbconvert_exporter": "python",
   "pygments_lexer": "ipython3",
   "version": "3.8.5"
  }
 },
 "nbformat": 4,
 "nbformat_minor": 5
}
