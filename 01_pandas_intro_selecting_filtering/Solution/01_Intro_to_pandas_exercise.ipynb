{
 "cells": [
  {
   "cell_type": "markdown",
   "metadata": {},
   "source": [
    "# Pandas Basics Practice\n",
    "\n",
    "Now it's your turn - Let's put into practice what you've seen so far!\n",
    "\n",
    "You will instantiate a `DataFrame`, read data into it, explore that data and play with it. \n",
    "\n",
    "\n",
    "A dataset on the [quality of red wines](https://archive.ics.uci.edu/ml/datasets/wine+quality) is used for this purpose.\n",
    "It is located in the `data` folder within this directory. It's called `winequality-red.csv`. \n",
    "\n",
    "\n",
    "Today, as we work with `Pandas`, much of what we do is considered EDA. By using a Jupyter Notebook, we'll get a tighter feedback loop with our work than we would by trying to write a script. Jupyter notebooks are not generally used for work that will be deployed to production systems. \n",
    "\n",
    "Below, we've put a set of questions and then a cell for you to work on answers. However, feel free to add additional cells if needed. Often it will make sense to use more than one cell for your answers. \n"
   ]
  },
  {
   "cell_type": "markdown",
   "metadata": {},
   "source": [
    "\n",
    "# Assignment Questions \n",
    "\n",
    "### Part 1 - The Basics of DataFrames\n",
    "\n",
    "Let's start off by following the general workflow that we use when moving data into a DataFrame: \n",
    "\n",
    "    * Importing Pandas\n",
    "    * Reading data into the DataFrame\n",
    "    * Getting a general sense of the data\n",
    "\n",
    "So, in terms of what you should do for this part...\n",
    "\n",
    "1. Import pandas\n",
    "2. Read the wine data into a DataFrame. \n",
    "3. How many rows and columns are in the DataFrame?\n",
    "4. What data type is in each column?\n",
    "5. Are all of the variables continuous, or are any categorical?"
   ]
  },
  {
   "cell_type": "code",
   "execution_count": 1,
   "metadata": {},
   "outputs": [],
   "source": [
    "import pandas as pd"
   ]
  },
  {
   "cell_type": "code",
   "execution_count": 2,
   "metadata": {},
   "outputs": [],
   "source": [
    "df = pd.read_csv('../data/winequality-red.csv', delimiter=';')"
   ]
  },
  {
   "cell_type": "code",
   "execution_count": 3,
   "metadata": {},
   "outputs": [
    {
     "data": {
      "text/plain": [
       "(1599, 12)"
      ]
     },
     "execution_count": 3,
     "metadata": {},
     "output_type": "execute_result"
    }
   ],
   "source": [
    "df.shape"
   ]
  },
  {
   "cell_type": "code",
   "execution_count": 4,
   "metadata": {},
   "outputs": [
    {
     "data": {
      "text/plain": [
       "fixed acidity           float64\n",
       "volatile acidity        float64\n",
       "citric acid             float64\n",
       "residual sugar          float64\n",
       "chlorides               float64\n",
       "free sulfur dioxide     float64\n",
       "total sulfur dioxide    float64\n",
       "density                 float64\n",
       "pH                      float64\n",
       "sulphates               float64\n",
       "alcohol                 float64\n",
       "quality                   int64\n",
       "dtype: object"
      ]
     },
     "execution_count": 4,
     "metadata": {},
     "output_type": "execute_result"
    }
   ],
   "source": [
    "df.dtypes"
   ]
  },
  {
   "cell_type": "code",
   "execution_count": 5,
   "metadata": {},
   "outputs": [
    {
     "name": "stdout",
     "output_type": "stream",
     "text": [
      "- fixed acidity: 96\n",
      "- volatile acidity: 143\n",
      "- citric acid: 80\n",
      "- residual sugar: 91\n",
      "- chlorides: 153\n",
      "- free sulfur dioxide: 60\n",
      "- total sulfur dioxide: 144\n",
      "- density: 436\n",
      "- pH: 89\n",
      "- sulphates: 96\n",
      "- alcohol: 65\n",
      "- quality: 6\n"
     ]
    }
   ],
   "source": [
    "for col in df.columns:\n",
    "    print(f'- {col}: {df[col].nunique()}')"
   ]
  }
 ],
 "metadata": {
  "kernelspec": {
   "display_name": "Python 3",
   "language": "python",
   "name": "python3"
  },
  "language_info": {
   "codemirror_mode": {
    "name": "ipython",
    "version": 3
   },
   "file_extension": ".py",
   "mimetype": "text/x-python",
   "name": "python",
   "nbconvert_exporter": "python",
   "pygments_lexer": "ipython3",
   "version": "3.9.16"
  }
 },
 "nbformat": 4,
 "nbformat_minor": 4
}
