{
 "cells": [
  {
   "cell_type": "markdown",
   "metadata": {},
   "source": [
    "Using the gapminder_total dataset solve the following tasks with pandas."
   ]
  },
  {
   "cell_type": "markdown",
   "metadata": {},
   "source": [
    "1. Read in data:\n",
    "df = pd.read_csv('../data/gapminder_total.csv')\n",
    "\n",
    "2. What is the median population in the data set?\n",
    "\n",
    "3. How often does each continent appear in the data set?\n",
    "\n",
    "4. Which continent has the lowest average fertility rate overall?\n",
    "\n",
    "5. What was the average life expectancy in Europe in 2015? \n",
    "Hint: first filter for 2015 then apply groupby.\n",
    "\n",
    "6. How many countries does each continent have in the dataset?\n",
    "Hint: filter for one year and count\n",
    "\n",
    "7. What is the average population of a European country in 1976 compare to 2015?\n",
    "Hint: once again filter for the year in question and do each year separately to compare\n",
    "\n",
    "BONUS\n",
    "\n",
    "8. What is the highest population a continent ever had?\n",
    "Hint: group by multiple columns\n",
    "\n",
    "9. Which continent had that population and in which year?\n",
    "Hint: group by multiple columns and filter for the result from #6"
   ]
  },
  {
   "cell_type": "code",
   "execution_count": 1,
   "metadata": {},
   "outputs": [],
   "source": [
    "import pandas as pd\n",
    "import seaborn as sns"
   ]
  },
  {
   "cell_type": "markdown",
   "metadata": {},
   "source": [
    "1. Read in data:\n",
    "df = pd.read_csv('../data/gapminder_total.csv')"
   ]
  },
  {
   "cell_type": "code",
   "execution_count": null,
   "metadata": {},
   "outputs": [],
   "source": [
    "gapminder_df = pd.read_csv('../data/gapminder_total.csv')\n",
    "gapminder_df.sample(20)"
   ]
  },
  {
   "cell_type": "code",
   "execution_count": null,
   "metadata": {},
   "outputs": [],
   "source": [
    "gapminder_df.describe()"
   ]
  },
  {
   "cell_type": "code",
   "execution_count": null,
   "metadata": {},
   "outputs": [],
   "source": [
    "gapminder_df.info()"
   ]
  },
  {
   "cell_type": "markdown",
   "metadata": {},
   "source": [
    "2. What is the median population in the data set?"
   ]
  },
  {
   "cell_type": "code",
   "execution_count": null,
   "metadata": {},
   "outputs": [],
   "source": [
    "gapminder_df.groupby('continent')['population'].median()"
   ]
  },
  {
   "cell_type": "markdown",
   "metadata": {},
   "source": [
    "3. How often does each continent appear in the data set?"
   ]
  },
  {
   "cell_type": "code",
   "execution_count": null,
   "metadata": {},
   "outputs": [],
   "source": [
    "gapminder_df.groupby('continent')['continent'].count()"
   ]
  },
  {
   "cell_type": "code",
   "execution_count": null,
   "metadata": {},
   "outputs": [],
   "source": [
    "gapminder_df.groupby('continent').count()"
   ]
  },
  {
   "cell_type": "code",
   "execution_count": null,
   "metadata": {},
   "outputs": [],
   "source": [
    "gapminder_df.groupby('continent').nunique()"
   ]
  },
  {
   "cell_type": "code",
   "execution_count": null,
   "metadata": {},
   "outputs": [],
   "source": [
    "gapminder_df.value_counts('continent')"
   ]
  },
  {
   "cell_type": "markdown",
   "metadata": {},
   "source": [
    "4. Which continent has the lowest average fertility rate overall?"
   ]
  },
  {
   "cell_type": "markdown",
   "metadata": {},
   "source": [
    "* group by continent\n",
    "* calculate the average fertility rate\n",
    "* min fertility_avg"
   ]
  },
  {
   "cell_type": "code",
   "execution_count": null,
   "metadata": {},
   "outputs": [],
   "source": [
    "gapminder_df.groupby('continent')['fertility'].mean().round(2).sort_values().head(1)"
   ]
  },
  {
   "cell_type": "code",
   "execution_count": null,
   "metadata": {},
   "outputs": [],
   "source": [
    "gapminder_df.groupby('continent')['fertility'].mean().idxmin()"
   ]
  },
  {
   "cell_type": "markdown",
   "metadata": {},
   "source": [
    "5. What was the average life expectancy in Europe in 2015? \n",
    "Hint: first filter for 2015 then apply groupby."
   ]
  },
  {
   "cell_type": "code",
   "execution_count": null,
   "metadata": {},
   "outputs": [],
   "source": [
    "gapminder_df[gapminder_df['year']==2015].groupby('continent')['life_expectancy'].mean().round(2).sort_values().tail(1)"
   ]
  },
  {
   "cell_type": "code",
   "execution_count": null,
   "metadata": {},
   "outputs": [],
   "source": [
    "agg_dict = {'life_expectancy':['mean']}\n",
    "gapminder_df[(gapminder_df['year']==2015) & (gapminder_df['continent']=='Europe')].groupby('continent').agg(agg_dict)"
   ]
  },
  {
   "cell_type": "markdown",
   "metadata": {},
   "source": [
    "6. How many countries does each continent have in the dataset?\n",
    "Hint: filter for one year and count"
   ]
  },
  {
   "cell_type": "code",
   "execution_count": null,
   "metadata": {},
   "outputs": [],
   "source": [
    "gapminder_df[gapminder_df['year']==2015].groupby('continent')['country'].count() # sorted by alphabet of the continent"
   ]
  },
  {
   "cell_type": "code",
   "execution_count": null,
   "metadata": {},
   "outputs": [],
   "source": [
    "gapminder_df[gapminder_df['year']==2015]['continent'].value_counts() # sorted by values"
   ]
  },
  {
   "cell_type": "markdown",
   "metadata": {},
   "source": [
    "7. What is the average population of European countries in 1976 compare to 2015?\n",
    "Hint: once again filter for the year in question and do each year separately to compare"
   ]
  },
  {
   "cell_type": "code",
   "execution_count": null,
   "metadata": {},
   "outputs": [],
   "source": [
    "gapminder_df[gapminder_df['continent']=='Europe']"
   ]
  },
  {
   "cell_type": "code",
   "execution_count": null,
   "metadata": {},
   "outputs": [],
   "source": [
    "gapminder_df[gapminder_df['year']==1976]"
   ]
  },
  {
   "cell_type": "code",
   "execution_count": null,
   "metadata": {},
   "outputs": [],
   "source": [
    "gapminder_df[(gapminder_df['continent']=='Europe') & (gapminder_df['year']==1976)]"
   ]
  },
  {
   "cell_type": "code",
   "execution_count": null,
   "metadata": {},
   "outputs": [],
   "source": [
    "gapminder_df[(gapminder_df['continent']=='Europe') & (gapminder_df['year']==1976)]['population'].mean().round(0)"
   ]
  },
  {
   "cell_type": "code",
   "execution_count": null,
   "metadata": {},
   "outputs": [],
   "source": [
    "gapminder_df[(gapminder_df['continent']=='Europe') & (gapminder_df['year']==2015)]['population'].mean().round(0)"
   ]
  },
  {
   "cell_type": "code",
   "execution_count": null,
   "metadata": {},
   "outputs": [],
   "source": [
    "gapminder_df[(gapminder_df['continent']=='Europe') & ((gapminder_df['year']==1976) | (gapminder_df['year']==2015))].groupby('year')['population'].mean().round(0)"
   ]
  },
  {
   "cell_type": "code",
   "execution_count": null,
   "metadata": {},
   "outputs": [],
   "source": [
    "gapminder_df_1976 = gapminder_df[gapminder_df['year']==1976].copy()\n",
    "gapminder_df_2015 = gapminder_df[gapminder_df['year']==2015].copy()\n",
    "\n",
    "gapminder_df_1976['population_by_mio'] = (gapminder_df_1976['population']/1000000)\n",
    "gapminder_df_2015['population_by_mio'] = (gapminder_df_2015['population']/1000000)\n",
    "\n",
    "agg_dict = {'population_by_mio': ['mean']}\n",
    "\n",
    "group_1976 = gapminder_df_1976.groupby('continent').get_group('Europe').agg(agg_dict).round(4)\n",
    "group_2015 = gapminder_df_2015.groupby('continent').get_group('Europe').agg(agg_dict).round(4)\n",
    "\n",
    "print(f\"1976: {group_1976}\")\n",
    "print(f\"2015: {group_2015}\")"
   ]
  },
  {
   "cell_type": "markdown",
   "metadata": {},
   "source": [
    "BONUS"
   ]
  },
  {
   "cell_type": "markdown",
   "metadata": {},
   "source": [
    "8. What is the highest population a continent ever had?\n",
    "Hint: group by multiple columns"
   ]
  },
  {
   "cell_type": "code",
   "execution_count": null,
   "metadata": {},
   "outputs": [],
   "source": [
    "copy_df = gapminder_df.copy()\n",
    "copy_df[\"population_by_billion\"] = (copy_df[\"population\"] / 1000000000)\n",
    "\n",
    "population_mil = {'population': ['max']}\n",
    "\n",
    "copy_df.groupby([\"continent\"]).max().sort_values(\"population_by_billion\") #.tail(1)"
   ]
  },
  {
   "cell_type": "markdown",
   "metadata": {},
   "source": [
    "9. Which continent had that population and in which year?\n",
    "Hint: group by multiple columns and filter for the result from #6"
   ]
  }
 ],
 "metadata": {
  "kernelspec": {
   "display_name": "nf_base",
   "language": "python",
   "name": "python3"
  },
  "language_info": {
   "codemirror_mode": {
    "name": "ipython",
    "version": 3
   },
   "file_extension": ".py",
   "mimetype": "text/x-python",
   "name": "python",
   "nbconvert_exporter": "python",
   "pygments_lexer": "ipython3",
   "version": "3.12.3"
  }
 },
 "nbformat": 4,
 "nbformat_minor": 2
}
