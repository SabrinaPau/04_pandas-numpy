{
 "cells": [
  {
   "cell_type": "markdown",
   "metadata": {},
   "source": [
    "Using the gapminder_total dataset solve the following tasks with pandas."
   ]
  },
  {
   "cell_type": "markdown",
   "metadata": {},
   "source": [
    "1. Read in data:\n",
    "df = pd.read_csv('../data/gapminder_total.csv')\n",
    "\n",
    "2. What is the median population in the data set?\n",
    "\n",
    "3. How often does each continent appear in the data set?\n",
    "\n",
    "4. Which continent has the lowest average fertility rate overall?\n",
    "\n",
    "5. What was the average life expectancy in Europe in 2015? \n",
    "Hint: first filter for 2015 then apply groupby.\n",
    "\n",
    "6. How many countries does each continent have in the dataset?\n",
    "Hint: filter for one year and count\n",
    "\n",
    "7. What is the average population of a European country in 1976 compare to 2015?\n",
    "Hint: once again filter for the year in question and do each year separately to compare\n",
    "\n",
    "BONUS\n",
    "\n",
    "8. What is the highest population a continent ever had?\n",
    "Hint: group by multiple columns\n",
    "\n",
    "9. Which continent had that population and in which year?\n",
    "Hint: group by multiple columns and filter for the result from #6"
   ]
  },
  {
   "cell_type": "code",
   "execution_count": 2,
   "metadata": {},
   "outputs": [
    {
     "data": {
      "text/html": [
       "<div>\n",
       "<style scoped>\n",
       "    .dataframe tbody tr th:only-of-type {\n",
       "        vertical-align: middle;\n",
       "    }\n",
       "\n",
       "    .dataframe tbody tr th {\n",
       "        vertical-align: top;\n",
       "    }\n",
       "\n",
       "    .dataframe thead th {\n",
       "        text-align: right;\n",
       "    }\n",
       "</style>\n",
       "<table border=\"1\" class=\"dataframe\">\n",
       "  <thead>\n",
       "    <tr style=\"text-align: right;\">\n",
       "      <th></th>\n",
       "      <th>continent</th>\n",
       "      <th>country</th>\n",
       "      <th>year</th>\n",
       "      <th>life_expectancy</th>\n",
       "      <th>fertility</th>\n",
       "      <th>population</th>\n",
       "    </tr>\n",
       "  </thead>\n",
       "  <tbody>\n",
       "    <tr>\n",
       "      <th>0</th>\n",
       "      <td>Africa</td>\n",
       "      <td>Algeria</td>\n",
       "      <td>1950</td>\n",
       "      <td>42.77</td>\n",
       "      <td>7.65</td>\n",
       "      <td>8872247.0</td>\n",
       "    </tr>\n",
       "    <tr>\n",
       "      <th>1</th>\n",
       "      <td>Africa</td>\n",
       "      <td>Algeria</td>\n",
       "      <td>1951</td>\n",
       "      <td>43.03</td>\n",
       "      <td>7.65</td>\n",
       "      <td>9039913.0</td>\n",
       "    </tr>\n",
       "    <tr>\n",
       "      <th>2</th>\n",
       "      <td>Africa</td>\n",
       "      <td>Algeria</td>\n",
       "      <td>1952</td>\n",
       "      <td>43.50</td>\n",
       "      <td>7.65</td>\n",
       "      <td>9216395.0</td>\n",
       "    </tr>\n",
       "    <tr>\n",
       "      <th>3</th>\n",
       "      <td>Africa</td>\n",
       "      <td>Algeria</td>\n",
       "      <td>1953</td>\n",
       "      <td>43.96</td>\n",
       "      <td>7.65</td>\n",
       "      <td>9405445.0</td>\n",
       "    </tr>\n",
       "    <tr>\n",
       "      <th>4</th>\n",
       "      <td>Africa</td>\n",
       "      <td>Algeria</td>\n",
       "      <td>1954</td>\n",
       "      <td>44.44</td>\n",
       "      <td>7.65</td>\n",
       "      <td>9609507.0</td>\n",
       "    </tr>\n",
       "  </tbody>\n",
       "</table>\n",
       "</div>"
      ],
      "text/plain": [
       "  continent  country  year  life_expectancy  fertility  population\n",
       "0    Africa  Algeria  1950            42.77       7.65   8872247.0\n",
       "1    Africa  Algeria  1951            43.03       7.65   9039913.0\n",
       "2    Africa  Algeria  1952            43.50       7.65   9216395.0\n",
       "3    Africa  Algeria  1953            43.96       7.65   9405445.0\n",
       "4    Africa  Algeria  1954            44.44       7.65   9609507.0"
      ]
     },
     "execution_count": 2,
     "metadata": {},
     "output_type": "execute_result"
    }
   ],
   "source": [
    "import pandas as pd\n",
    "#1. Read in data:\n",
    "df = pd.read_csv('../data/gapminder_total.csv')\n",
    "df.head()\n"
   ]
  },
  {
   "cell_type": "code",
   "execution_count": 3,
   "metadata": {},
   "outputs": [
    {
     "data": {
      "text/plain": [
       "26606727.36778499"
      ]
     },
     "execution_count": 3,
     "metadata": {},
     "output_type": "execute_result"
    }
   ],
   "source": [
    "#2. What is the median population in the data set?\n",
    "df['population'].agg('mean')"
   ]
  },
  {
   "cell_type": "code",
   "execution_count": 4,
   "metadata": {},
   "outputs": [
    {
     "data": {
      "text/plain": [
       "continent\n",
       "Africa                   3234\n",
       "Europe                   2640\n",
       "Asia                     2574\n",
       "North America            1254\n",
       "South America             792\n",
       "Australia and Oceania     594\n",
       "Name: count, dtype: int64"
      ]
     },
     "execution_count": 4,
     "metadata": {},
     "output_type": "execute_result"
    }
   ],
   "source": [
    "#3. How often does each continent appear in the data set?\n",
    "df['continent'].value_counts()"
   ]
  },
  {
   "cell_type": "code",
   "execution_count": 5,
   "metadata": {},
   "outputs": [
    {
     "data": {
      "text/plain": [
       "continent\n",
       "Africa                   0.291667\n",
       "Europe                   0.238095\n",
       "Asia                     0.232143\n",
       "North America            0.113095\n",
       "South America            0.071429\n",
       "Australia and Oceania    0.053571\n",
       "Name: proportion, dtype: float64"
      ]
     },
     "execution_count": 5,
     "metadata": {},
     "output_type": "execute_result"
    }
   ],
   "source": [
    "#option 2\n",
    "df['continent'].value_counts(normalize=True)\n",
    "\n",
    "#normalize= calculates relatives frequencies (%) instead of absolute counts"
   ]
  },
  {
   "cell_type": "code",
   "execution_count": 7,
   "metadata": {},
   "outputs": [
    {
     "data": {
      "text/plain": [
       "'Europe'"
      ]
     },
     "execution_count": 7,
     "metadata": {},
     "output_type": "execute_result"
    }
   ],
   "source": [
    "#4. Which continent has the lowest average fertility rate overall?\n",
    "df.groupby('continent')['fertility'].agg('min')df.groupby('continent')['fertility'].mean().idxmin()\n",
    "\n",
    "#Option 2\n",
    "#agg_dict = {'fertility': 'mean'}\n",
    "#df.groupby('continent').agg(agg_dict).sort_values('fertility').head(1)"
   ]
  },
  {
   "cell_type": "code",
   "execution_count": 8,
   "metadata": {},
   "outputs": [
    {
     "data": {
      "text/plain": [
       "continent\n",
       "Africa                   63.410204\n",
       "Asia                     73.933333\n",
       "Australia and Oceania    69.666667\n",
       "Europe                   78.755000\n",
       "North America            75.152632\n",
       "South America            75.141667\n",
       "Name: life_expectancy, dtype: float64"
      ]
     },
     "execution_count": 8,
     "metadata": {},
     "output_type": "execute_result"
    }
   ],
   "source": [
    "#5. What was the average life expectancy in Europe in 2015? \n",
    "#Hint: first filter for 2015 then apply groupby.\n",
    "df_2015= df[df['year']==2015]\n",
    "df_2015\n",
    "df_2015.groupby('continent')['life_expectancy'].mean()"
   ]
  },
  {
   "cell_type": "code",
   "execution_count": 9,
   "metadata": {},
   "outputs": [
    {
     "data": {
      "text/plain": [
       "continent\n",
       "Africa                   49\n",
       "Asia                     39\n",
       "Australia and Oceania     9\n",
       "Europe                   40\n",
       "North America            19\n",
       "South America            12\n",
       "Name: country, dtype: int64"
      ]
     },
     "execution_count": 9,
     "metadata": {},
     "output_type": "execute_result"
    }
   ],
   "source": [
    "#6. How many countries does each continent have in the dataset?\n",
    "#Hint: filter for one year and count\n",
    "df.groupby('continent')['country'].nunique()"
   ]
  },
  {
   "cell_type": "code",
   "execution_count": 16,
   "metadata": {},
   "outputs": [
    {
     "data": {
      "text/plain": [
       "year\n",
       "1976    23129315.36\n",
       "2015    15122675.72\n",
       "Name: population, dtype: float64"
      ]
     },
     "execution_count": 16,
     "metadata": {},
     "output_type": "execute_result"
    }
   ],
   "source": [
    "#7. What is the average population of a Europe country in 1976 compare to 2015?\n",
    "#Hint: once again filter for the year in question and do each year separately to compare\n",
    "df[(df['year']==1976) | (df['year']==2015) & (df['continent']=='Europe')].groupby('year')['population'].mean().round(2)\n",
    "\n"
   ]
  },
  {
   "cell_type": "markdown",
   "metadata": {},
   "source": [
    "## BONUS"
   ]
  },
  {
   "cell_type": "code",
   "execution_count": 12,
   "metadata": {},
   "outputs": [
    {
     "data": {
      "text/plain": [
       "1376048943.0"
      ]
     },
     "execution_count": 12,
     "metadata": {},
     "output_type": "execute_result"
    }
   ],
   "source": [
    "#8. What is the highest population a continent ever had?\n",
    "#Hint: group by multiple columns\n",
    "max_pop_continent= df.groupby(['continent'])['population'].max()\n",
    "max_pop_continent.max()"
   ]
  },
  {
   "cell_type": "code",
   "execution_count": 13,
   "metadata": {},
   "outputs": [
    {
     "data": {
      "text/plain": [
       "max    (Asia, 2015)\n",
       "dtype: object"
      ]
     },
     "execution_count": 13,
     "metadata": {},
     "output_type": "execute_result"
    }
   ],
   "source": [
    "#9. Which continent had that population and in which year?\n",
    "#Hint: group by multiple columns and filter for the result from #6\n",
    "max_pop_continent= df.groupby(['continent', 'year'])['population'].agg(['max'])\n",
    "max_pop_continent.idxmax()"
   ]
  },
  {
   "cell_type": "code",
   "execution_count": null,
   "metadata": {},
   "outputs": [],
   "source": []
  }
 ],
 "metadata": {
  "kernelspec": {
   "display_name": "base",
   "language": "python",
   "name": "python3"
  },
  "language_info": {
   "codemirror_mode": {
    "name": "ipython",
    "version": 3
   },
   "file_extension": ".py",
   "mimetype": "text/x-python",
   "name": "python",
   "nbconvert_exporter": "python",
   "pygments_lexer": "ipython3",
   "version": "3.11.7"
  }
 },
 "nbformat": 4,
 "nbformat_minor": 2
}
