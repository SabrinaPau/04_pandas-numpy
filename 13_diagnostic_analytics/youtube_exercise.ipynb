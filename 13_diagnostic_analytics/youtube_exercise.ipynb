{
 "cells": [
  {
   "attachments": {},
   "cell_type": "markdown",
   "id": "2e49cd26",
   "metadata": {},
   "source": [
    "# Correlations, statistical significance and T-test"
   ]
  },
  {
   "attachments": {},
   "cell_type": "markdown",
   "id": "1d65a693",
   "metadata": {},
   "source": [
    "### Exploring Daily Statistics for Trending YouTube Videos"
   ]
  },
  {
   "cell_type": "code",
   "execution_count": 126,
   "id": "12ef793f",
   "metadata": {},
   "outputs": [
    {
     "data": {
      "text/html": [
       "<img src=\"https://upload.wikimedia.org/wikipedia/commons/e/e1/Logo_of_YouTube_%282015-2017%29.svg\" width=\"800\"/>"
      ],
      "text/plain": [
       "<IPython.core.display.Image object>"
      ]
     },
     "execution_count": 126,
     "metadata": {},
     "output_type": "execute_result"
    }
   ],
   "source": [
    "from IPython.display import Image\n",
    "from IPython.core.display import HTML \n",
    "Image(url= \"https://upload.wikimedia.org/wikipedia/commons/e/e1/Logo_of_YouTube_%282015-2017%29.svg\", width = 800)"
   ]
  },
  {
   "cell_type": "markdown",
   "id": "1f1d3e9f",
   "metadata": {},
   "source": [
    "**CONTENT OF THIS NOTEBOOK**  \n",
    "In this notebook we will have a look at daily statistics for trending YouTube videos.  \n",
    "\n",
    "The data as well as the data-descriptions are retrieved from [Kaggle](https://www.kaggle.com/datasnaek/youtube-new). The data was collected from Google's You Tube API using an open-source tool available on [Github](https://github.com/mitchelljy/Trending-YouTube-Scraper)\n",
    "There you can find the following description of this data:  \n",
    "\"YouTube (the world-famous video sharing website) maintains a list of the top trending videos on the platform. According to Variety magazine, “To determine the year’s top-trending videos, YouTube uses a combination of factors including measuring users interactions (number of views, shares, comments and likes). Note that they’re not the most-viewed videos overall for the calendar year”. Top performers on the YouTube trending list are music videos (such as the famously virile “Gangnam Style”), celebrity and/or reality TV performances, and the random dude-with-a-camera viral videos that YouTube is well-known for.\"  \n",
    "\n",
    "*What does trending mean?*  \n",
    "According to [YouTube](https://support.google.com/youtube/answer/7239739?hl=en), trending helps viewers see what’s happening on YouTube and in the world. Trending aims to surface videos that a wide range of viewers would find interesting. Some trends are predictable, like a new song from a popular artist or a new movie trailer. Others are surprising, like a viral video. Trending isn’t personalized and displays the same list of trending videos in each country to all users.  \n",
    "The list of trending videos is updated roughly every 15 minutes. With each update, videos may move up, down, or stay in the same position in the list.\n",
    "\n",
    "Data are available for different countries as separate files, in this notebook we will use the daily statistics for Germany for the years 2017/2018.\n"
   ]
  },
  {
   "cell_type": "markdown",
   "id": "1f8eb8e0",
   "metadata": {},
   "source": [
    "### Let's get started"
   ]
  },
  {
   "cell_type": "markdown",
   "id": "c09ae793",
   "metadata": {},
   "source": [
    "Set-up your working environment"
   ]
  },
  {
   "cell_type": "code",
   "execution_count": 127,
   "id": "1811acbe",
   "metadata": {},
   "outputs": [],
   "source": [
    "# import the necessary libraries you need for your analysis\n",
    "import pandas as pd\n",
    "import matplotlib.pyplot as plt\n",
    "import seaborn as sns"
   ]
  },
  {
   "cell_type": "code",
   "execution_count": 128,
   "id": "01979d81",
   "metadata": {},
   "outputs": [],
   "source": [
    "# Floats (decimal numbers) should be displayed rounded with 2 decimal places\n",
    "pd.options.display.float_format = \"{:,.2f}\".format\n",
    "# Set style for plots\n",
    "plt.style.use('fivethirtyeight') "
   ]
  },
  {
   "cell_type": "markdown",
   "id": "5eed5758",
   "metadata": {},
   "source": [
    "### Understand your Data"
   ]
  },
  {
   "cell_type": "markdown",
   "id": "c618b463",
   "metadata": {},
   "source": [
    "As first part of an EDA it is important to find out what information is contained in the data set.  \n",
    "We start by reading in our data and get some basic information for our dataset.  "
   ]
  },
  {
   "cell_type": "code",
   "execution_count": 129,
   "id": "45cc4aef",
   "metadata": {},
   "outputs": [
    {
     "data": {
      "text/html": [
       "<div>\n",
       "<style scoped>\n",
       "    .dataframe tbody tr th:only-of-type {\n",
       "        vertical-align: middle;\n",
       "    }\n",
       "\n",
       "    .dataframe tbody tr th {\n",
       "        vertical-align: top;\n",
       "    }\n",
       "\n",
       "    .dataframe thead th {\n",
       "        text-align: right;\n",
       "    }\n",
       "</style>\n",
       "<table border=\"1\" class=\"dataframe\">\n",
       "  <thead>\n",
       "    <tr style=\"text-align: right;\">\n",
       "      <th></th>\n",
       "      <th>video_id</th>\n",
       "      <th>trending_date</th>\n",
       "      <th>title</th>\n",
       "      <th>channel_title</th>\n",
       "      <th>category_id</th>\n",
       "      <th>publish_time</th>\n",
       "      <th>tags</th>\n",
       "      <th>views</th>\n",
       "      <th>likes</th>\n",
       "      <th>dislikes</th>\n",
       "      <th>comment_count</th>\n",
       "      <th>thumbnail_link</th>\n",
       "      <th>comments_disabled</th>\n",
       "      <th>ratings_disabled</th>\n",
       "      <th>video_error_or_removed</th>\n",
       "      <th>description</th>\n",
       "    </tr>\n",
       "  </thead>\n",
       "  <tbody>\n",
       "    <tr>\n",
       "      <th>0</th>\n",
       "      <td>LgVi6y5QIjM</td>\n",
       "      <td>17.14.11</td>\n",
       "      <td>Sing zu Ende! | Gesangseinlagen vom Feinsten |...</td>\n",
       "      <td>inscope21</td>\n",
       "      <td>24</td>\n",
       "      <td>2017-11-13T17:08:49.000Z</td>\n",
       "      <td>inscope21|\"sing zu ende\"|\"gesangseinlagen\"|\"ge...</td>\n",
       "      <td>252786</td>\n",
       "      <td>35885</td>\n",
       "      <td>230</td>\n",
       "      <td>1539</td>\n",
       "      <td>https://i.ytimg.com/vi/LgVi6y5QIjM/default.jpg</td>\n",
       "      <td>False</td>\n",
       "      <td>False</td>\n",
       "      <td>False</td>\n",
       "      <td>Heute gibt es mal wieder ein neues Format... w...</td>\n",
       "    </tr>\n",
       "    <tr>\n",
       "      <th>1</th>\n",
       "      <td>Bayt7uQith4</td>\n",
       "      <td>17.14.11</td>\n",
       "      <td>Kinder ferngesteuert im Kiosk! Erwachsene abzo...</td>\n",
       "      <td>LUKE! Die Woche und ich</td>\n",
       "      <td>23</td>\n",
       "      <td>2017-11-12T22:30:01.000Z</td>\n",
       "      <td>Kinder|\"ferngesteuert\"|\"Kinder ferngesteuert\"|...</td>\n",
       "      <td>797196</td>\n",
       "      <td>53576</td>\n",
       "      <td>302</td>\n",
       "      <td>1278</td>\n",
       "      <td>https://i.ytimg.com/vi/Bayt7uQith4/default.jpg</td>\n",
       "      <td>False</td>\n",
       "      <td>False</td>\n",
       "      <td>False</td>\n",
       "      <td>Kinder ferngesteuert! Kinder lassen sich sooo ...</td>\n",
       "    </tr>\n",
       "    <tr>\n",
       "      <th>2</th>\n",
       "      <td>1ZAPwfrtAFY</td>\n",
       "      <td>17.14.11</td>\n",
       "      <td>The Trump Presidency: Last Week Tonight with J...</td>\n",
       "      <td>LastWeekTonight</td>\n",
       "      <td>24</td>\n",
       "      <td>2017-11-13T07:30:00.000Z</td>\n",
       "      <td>last week tonight trump presidency|\"last week ...</td>\n",
       "      <td>2418783</td>\n",
       "      <td>97190</td>\n",
       "      <td>6146</td>\n",
       "      <td>12703</td>\n",
       "      <td>https://i.ytimg.com/vi/1ZAPwfrtAFY/default.jpg</td>\n",
       "      <td>False</td>\n",
       "      <td>False</td>\n",
       "      <td>False</td>\n",
       "      <td>One year after the presidential election, John...</td>\n",
       "    </tr>\n",
       "    <tr>\n",
       "      <th>3</th>\n",
       "      <td>AHtypnRk7JE</td>\n",
       "      <td>17.14.11</td>\n",
       "      <td>Das Fermi-Paradoxon</td>\n",
       "      <td>100SekundenPhysik</td>\n",
       "      <td>27</td>\n",
       "      <td>2017-11-12T15:00:01.000Z</td>\n",
       "      <td>Physik|\"Wissenschaft\"|\"Technik\"|\"Science-Ficti...</td>\n",
       "      <td>380247</td>\n",
       "      <td>31821</td>\n",
       "      <td>458</td>\n",
       "      <td>1955</td>\n",
       "      <td>https://i.ytimg.com/vi/AHtypnRk7JE/default.jpg</td>\n",
       "      <td>False</td>\n",
       "      <td>False</td>\n",
       "      <td>False</td>\n",
       "      <td>►Alle Videos: http://bit.ly/1fa7Tw3\\n\\n\\n✚Snap...</td>\n",
       "    </tr>\n",
       "    <tr>\n",
       "      <th>4</th>\n",
       "      <td>ZJ9We4bjcg0</td>\n",
       "      <td>17.14.11</td>\n",
       "      <td>18 SONGS mit Kelly MissesVlog (Sing-off)</td>\n",
       "      <td>rezo</td>\n",
       "      <td>24</td>\n",
       "      <td>2017-11-12T13:10:36.000Z</td>\n",
       "      <td>kelly|\"missesvlog\"|\"kelly song\"|\"bausa\"|\"bausa...</td>\n",
       "      <td>822213</td>\n",
       "      <td>100684</td>\n",
       "      <td>2467</td>\n",
       "      <td>10244</td>\n",
       "      <td>https://i.ytimg.com/vi/ZJ9We4bjcg0/default.jpg</td>\n",
       "      <td>False</td>\n",
       "      <td>False</td>\n",
       "      <td>False</td>\n",
       "      <td>18 Song Mashup über den (veränderten) Beat von...</td>\n",
       "    </tr>\n",
       "  </tbody>\n",
       "</table>\n",
       "</div>"
      ],
      "text/plain": [
       "      video_id trending_date  \\\n",
       "0  LgVi6y5QIjM      17.14.11   \n",
       "1  Bayt7uQith4      17.14.11   \n",
       "2  1ZAPwfrtAFY      17.14.11   \n",
       "3  AHtypnRk7JE      17.14.11   \n",
       "4  ZJ9We4bjcg0      17.14.11   \n",
       "\n",
       "                                               title            channel_title  \\\n",
       "0  Sing zu Ende! | Gesangseinlagen vom Feinsten |...                inscope21   \n",
       "1  Kinder ferngesteuert im Kiosk! Erwachsene abzo...  LUKE! Die Woche und ich   \n",
       "2  The Trump Presidency: Last Week Tonight with J...          LastWeekTonight   \n",
       "3                                Das Fermi-Paradoxon        100SekundenPhysik   \n",
       "4           18 SONGS mit Kelly MissesVlog (Sing-off)                     rezo   \n",
       "\n",
       "   category_id              publish_time  \\\n",
       "0           24  2017-11-13T17:08:49.000Z   \n",
       "1           23  2017-11-12T22:30:01.000Z   \n",
       "2           24  2017-11-13T07:30:00.000Z   \n",
       "3           27  2017-11-12T15:00:01.000Z   \n",
       "4           24  2017-11-12T13:10:36.000Z   \n",
       "\n",
       "                                                tags    views   likes  \\\n",
       "0  inscope21|\"sing zu ende\"|\"gesangseinlagen\"|\"ge...   252786   35885   \n",
       "1  Kinder|\"ferngesteuert\"|\"Kinder ferngesteuert\"|...   797196   53576   \n",
       "2  last week tonight trump presidency|\"last week ...  2418783   97190   \n",
       "3  Physik|\"Wissenschaft\"|\"Technik\"|\"Science-Ficti...   380247   31821   \n",
       "4  kelly|\"missesvlog\"|\"kelly song\"|\"bausa\"|\"bausa...   822213  100684   \n",
       "\n",
       "   dislikes  comment_count                                  thumbnail_link  \\\n",
       "0       230           1539  https://i.ytimg.com/vi/LgVi6y5QIjM/default.jpg   \n",
       "1       302           1278  https://i.ytimg.com/vi/Bayt7uQith4/default.jpg   \n",
       "2      6146          12703  https://i.ytimg.com/vi/1ZAPwfrtAFY/default.jpg   \n",
       "3       458           1955  https://i.ytimg.com/vi/AHtypnRk7JE/default.jpg   \n",
       "4      2467          10244  https://i.ytimg.com/vi/ZJ9We4bjcg0/default.jpg   \n",
       "\n",
       "   comments_disabled  ratings_disabled  video_error_or_removed  \\\n",
       "0              False             False                   False   \n",
       "1              False             False                   False   \n",
       "2              False             False                   False   \n",
       "3              False             False                   False   \n",
       "4              False             False                   False   \n",
       "\n",
       "                                         description  \n",
       "0  Heute gibt es mal wieder ein neues Format... w...  \n",
       "1  Kinder ferngesteuert! Kinder lassen sich sooo ...  \n",
       "2  One year after the presidential election, John...  \n",
       "3  ►Alle Videos: http://bit.ly/1fa7Tw3\\n\\n\\n✚Snap...  \n",
       "4  18 Song Mashup über den (veränderten) Beat von...  "
      ]
     },
     "execution_count": 129,
     "metadata": {},
     "output_type": "execute_result"
    }
   ],
   "source": [
    "# read in csv file and display first 5 rows of datset\n",
    "df = pd.read_csv(\"data/DEvideos.csv\")\n",
    "df.head()"
   ]
  },
  {
   "cell_type": "code",
   "execution_count": 130,
   "id": "34e6a8e6",
   "metadata": {},
   "outputs": [
    {
     "data": {
      "text/plain": [
       "40840"
      ]
     },
     "execution_count": 130,
     "metadata": {},
     "output_type": "execute_result"
    }
   ],
   "source": [
    "df['video_id'].count()"
   ]
  },
  {
   "cell_type": "code",
   "execution_count": 131,
   "id": "2f6d7725",
   "metadata": {},
   "outputs": [
    {
     "data": {
      "text/plain": [
       "29627"
      ]
     },
     "execution_count": 131,
     "metadata": {},
     "output_type": "execute_result"
    }
   ],
   "source": [
    "df['video_id'].nunique()"
   ]
  },
  {
   "cell_type": "code",
   "execution_count": 132,
   "id": "852bcda3",
   "metadata": {},
   "outputs": [
    {
     "data": {
      "text/plain": [
       "Index(['video_id', 'trending_date', 'title', 'channel_title', 'category_id',\n",
       "       'publish_time', 'tags', 'views', 'likes', 'dislikes', 'comment_count',\n",
       "       'thumbnail_link', 'comments_disabled', 'ratings_disabled',\n",
       "       'video_error_or_removed', 'description'],\n",
       "      dtype='object')"
      ]
     },
     "execution_count": 132,
     "metadata": {},
     "output_type": "execute_result"
    }
   ],
   "source": [
    "# check which columns are included in our dataframe\n",
    "df.columns"
   ]
  },
  {
   "cell_type": "markdown",
   "id": "f96e8c60",
   "metadata": {},
   "source": [
    "In order to really understand the data, we need to know what information the different columns contain.    \n",
    "Here are the explanations of the individual variables:\n",
    "\n",
    "\n",
    "| Column name | Description |\n",
    "| --- | ----------- |\n",
    "| video_id | Unique identifier for each uploaded video|\n",
    "| trending_date | Date on which this video was trending|\n",
    "| title | Video title|\n",
    "| channel_title | Name of YouTube channel |\n",
    "| category_id  | Category video belongs to |\n",
    "| publish_time| Date and time, video was published |\n",
    "| tags| Tags used for this video|\n",
    "| views | Number of views |\n",
    "| likes | Number of likes |\n",
    "| dislikes | Number of dislikes |\n",
    "| comment_count | Number of comments |\n",
    "| thumbnail link | Link to reduced-size versions of pictures or videos |\n",
    "| comments_disabled | States, if comments were disabled or not |\n",
    "| ratings_disabled | States, if ratings were disabled or not |\n",
    "| video_error_or_removed | States, if there was an error or if video was removed |\n",
    "| description | Description of video content |\n",
    "\n"
   ]
  },
  {
   "cell_type": "code",
   "execution_count": 133,
   "id": "af5da427",
   "metadata": {},
   "outputs": [
    {
     "data": {
      "text/plain": [
       "(40840, 16)"
      ]
     },
     "execution_count": 133,
     "metadata": {},
     "output_type": "execute_result"
    }
   ],
   "source": [
    "# Let's have a look at the shape of our dataset, meaning how long and wide it is.\n",
    "df.shape"
   ]
  },
  {
   "cell_type": "markdown",
   "id": "897ef384",
   "metadata": {},
   "source": [
    "We have 40840 rows and 16 columns in our dataset."
   ]
  },
  {
   "cell_type": "code",
   "execution_count": 134,
   "id": "05d19aff",
   "metadata": {},
   "outputs": [
    {
     "name": "stdout",
     "output_type": "stream",
     "text": [
      "<class 'pandas.core.frame.DataFrame'>\n",
      "RangeIndex: 40840 entries, 0 to 40839\n",
      "Data columns (total 16 columns):\n",
      " #   Column                  Non-Null Count  Dtype \n",
      "---  ------                  --------------  ----- \n",
      " 0   video_id                40840 non-null  object\n",
      " 1   trending_date           40840 non-null  object\n",
      " 2   title                   40840 non-null  object\n",
      " 3   channel_title           40840 non-null  object\n",
      " 4   category_id             40840 non-null  int64 \n",
      " 5   publish_time            40840 non-null  object\n",
      " 6   tags                    40840 non-null  object\n",
      " 7   views                   40840 non-null  int64 \n",
      " 8   likes                   40840 non-null  int64 \n",
      " 9   dislikes                40840 non-null  int64 \n",
      " 10  comment_count           40840 non-null  int64 \n",
      " 11  thumbnail_link          40840 non-null  object\n",
      " 12  comments_disabled       40840 non-null  bool  \n",
      " 13  ratings_disabled        40840 non-null  bool  \n",
      " 14  video_error_or_removed  40840 non-null  bool  \n",
      " 15  description             39288 non-null  object\n",
      "dtypes: bool(3), int64(5), object(8)\n",
      "memory usage: 4.2+ MB\n"
     ]
    }
   ],
   "source": [
    "# We now want to check out our data-types as well as get a feeling for possible missing values\n",
    "df.info()"
   ]
  },
  {
   "cell_type": "markdown",
   "id": "b9a079fe",
   "metadata": {},
   "source": [
    "**Data-types**  \n",
    "- object: We see that we have a lot of object data-types in our dataset. This means, we have strings (meaning text) or mixed data-types in these columns. For video_id, title, channel_title, tags, thumbnail_link and description this is true - however talking about trending_date and publish_date we need to change our data-types into a date format. We will keep that in mind and come back to this later.  \n",
    "- int64: Furthermore we have integers in category_id, views, likes, dislikes and comment_count, which makes sense, since we are expecting numerical values there.  \n",
    "- bool: The boolean type indicates, that values are either True or False in these three columns - which makes sense when looking at our column names and descriptions.   \n",
    " **Missing values**  \n",
    " Below the header *Non-Null* we see how many non-null values we have per column.  Except for description, we have 40840 non-null values in each column which is exactly the same number as we have rows.   \n",
    " Meaning: We only seem to have missing values in the description column."
   ]
  },
  {
   "cell_type": "markdown",
   "id": "9b62fcc0",
   "metadata": {},
   "source": [
    "### Explore and clean your data"
   ]
  },
  {
   "cell_type": "markdown",
   "id": "2cefcefd",
   "metadata": {},
   "source": [
    "**Deal with duplicate rows**  \n",
    "Let's check if we have the same videos (with the same video_id) several times in our dataset."
   ]
  },
  {
   "cell_type": "code",
   "execution_count": 135,
   "id": "37dc940b",
   "metadata": {},
   "outputs": [
    {
     "data": {
      "text/plain": [
       "video_id\n",
       "False    29627\n",
       "True     11213\n",
       "Name: count, dtype: int64"
      ]
     },
     "execution_count": 135,
     "metadata": {},
     "output_type": "execute_result"
    }
   ],
   "source": [
    "# check for duplicate rows in video_id column\n",
    "df[\"video_id\"].duplicated().value_counts()"
   ]
  },
  {
   "cell_type": "markdown",
   "id": "9c7c38aa",
   "metadata": {},
   "source": [
    "So we have data on 40840 trending videos to analyze. On YouTube, the same video might appear on the trending list for many days. This means that the 40840 videos are not unique videos. In fact, among the 40840 videos, we have 29627 unique videos.  \n",
    "These duplicate rows exist, since some of the videos stayed on the trending list for more than one day."
   ]
  },
  {
   "cell_type": "markdown",
   "id": "d2c1b714",
   "metadata": {},
   "source": [
    "As stated in [this analysis](https://ammar-alyousfi.com/2020/youtube-trending-videos-analysis-2019-us), we will apply the following analysis on all of our 40840 trending videos and not only on the unique trending videos. This will give videos which were trending for several days more weight, which is in our interest."
   ]
  },
  {
   "cell_type": "markdown",
   "id": "20f6a476",
   "metadata": {},
   "source": [
    "**Transform data types**  \n",
    "As stated above, we need to transform trending_date and publish_time into a datetime format.  \n",
    "Fortunately, there is a built-in function in pandas, which will convert an argument to datetime."
   ]
  },
  {
   "cell_type": "code",
   "execution_count": 136,
   "id": "22726509",
   "metadata": {},
   "outputs": [],
   "source": [
    "# convert trending_date and publish_time into datetime and extract date part from publish_time\n",
    "# format specifies the present form of our argument we pass into the function\n",
    "df['trending_date'] = pd.to_datetime(df['trending_date'], format='%y.%d.%m')\n",
    "df['publish_time'] = pd.to_datetime(df['publish_time'], format='%Y-%m-%dT%H:%M:%S.%fZ')\n",
    "df['publish_date'] = pd.to_datetime(df['publish_time'].dt.date)"
   ]
  },
  {
   "cell_type": "code",
   "execution_count": 137,
   "id": "799fd438",
   "metadata": {},
   "outputs": [
    {
     "data": {
      "text/html": [
       "<div>\n",
       "<style scoped>\n",
       "    .dataframe tbody tr th:only-of-type {\n",
       "        vertical-align: middle;\n",
       "    }\n",
       "\n",
       "    .dataframe tbody tr th {\n",
       "        vertical-align: top;\n",
       "    }\n",
       "\n",
       "    .dataframe thead th {\n",
       "        text-align: right;\n",
       "    }\n",
       "</style>\n",
       "<table border=\"1\" class=\"dataframe\">\n",
       "  <thead>\n",
       "    <tr style=\"text-align: right;\">\n",
       "      <th></th>\n",
       "      <th>video_id</th>\n",
       "      <th>trending_date</th>\n",
       "      <th>title</th>\n",
       "      <th>channel_title</th>\n",
       "      <th>category_id</th>\n",
       "      <th>publish_time</th>\n",
       "      <th>tags</th>\n",
       "      <th>views</th>\n",
       "      <th>likes</th>\n",
       "      <th>dislikes</th>\n",
       "      <th>comment_count</th>\n",
       "      <th>thumbnail_link</th>\n",
       "      <th>comments_disabled</th>\n",
       "      <th>ratings_disabled</th>\n",
       "      <th>video_error_or_removed</th>\n",
       "      <th>description</th>\n",
       "      <th>publish_date</th>\n",
       "    </tr>\n",
       "  </thead>\n",
       "  <tbody>\n",
       "    <tr>\n",
       "      <th>0</th>\n",
       "      <td>LgVi6y5QIjM</td>\n",
       "      <td>2017-11-14</td>\n",
       "      <td>Sing zu Ende! | Gesangseinlagen vom Feinsten |...</td>\n",
       "      <td>inscope21</td>\n",
       "      <td>24</td>\n",
       "      <td>2017-11-13 17:08:49</td>\n",
       "      <td>inscope21|\"sing zu ende\"|\"gesangseinlagen\"|\"ge...</td>\n",
       "      <td>252786</td>\n",
       "      <td>35885</td>\n",
       "      <td>230</td>\n",
       "      <td>1539</td>\n",
       "      <td>https://i.ytimg.com/vi/LgVi6y5QIjM/default.jpg</td>\n",
       "      <td>False</td>\n",
       "      <td>False</td>\n",
       "      <td>False</td>\n",
       "      <td>Heute gibt es mal wieder ein neues Format... w...</td>\n",
       "      <td>2017-11-13</td>\n",
       "    </tr>\n",
       "    <tr>\n",
       "      <th>1</th>\n",
       "      <td>Bayt7uQith4</td>\n",
       "      <td>2017-11-14</td>\n",
       "      <td>Kinder ferngesteuert im Kiosk! Erwachsene abzo...</td>\n",
       "      <td>LUKE! Die Woche und ich</td>\n",
       "      <td>23</td>\n",
       "      <td>2017-11-12 22:30:01</td>\n",
       "      <td>Kinder|\"ferngesteuert\"|\"Kinder ferngesteuert\"|...</td>\n",
       "      <td>797196</td>\n",
       "      <td>53576</td>\n",
       "      <td>302</td>\n",
       "      <td>1278</td>\n",
       "      <td>https://i.ytimg.com/vi/Bayt7uQith4/default.jpg</td>\n",
       "      <td>False</td>\n",
       "      <td>False</td>\n",
       "      <td>False</td>\n",
       "      <td>Kinder ferngesteuert! Kinder lassen sich sooo ...</td>\n",
       "      <td>2017-11-12</td>\n",
       "    </tr>\n",
       "    <tr>\n",
       "      <th>2</th>\n",
       "      <td>1ZAPwfrtAFY</td>\n",
       "      <td>2017-11-14</td>\n",
       "      <td>The Trump Presidency: Last Week Tonight with J...</td>\n",
       "      <td>LastWeekTonight</td>\n",
       "      <td>24</td>\n",
       "      <td>2017-11-13 07:30:00</td>\n",
       "      <td>last week tonight trump presidency|\"last week ...</td>\n",
       "      <td>2418783</td>\n",
       "      <td>97190</td>\n",
       "      <td>6146</td>\n",
       "      <td>12703</td>\n",
       "      <td>https://i.ytimg.com/vi/1ZAPwfrtAFY/default.jpg</td>\n",
       "      <td>False</td>\n",
       "      <td>False</td>\n",
       "      <td>False</td>\n",
       "      <td>One year after the presidential election, John...</td>\n",
       "      <td>2017-11-13</td>\n",
       "    </tr>\n",
       "    <tr>\n",
       "      <th>3</th>\n",
       "      <td>AHtypnRk7JE</td>\n",
       "      <td>2017-11-14</td>\n",
       "      <td>Das Fermi-Paradoxon</td>\n",
       "      <td>100SekundenPhysik</td>\n",
       "      <td>27</td>\n",
       "      <td>2017-11-12 15:00:01</td>\n",
       "      <td>Physik|\"Wissenschaft\"|\"Technik\"|\"Science-Ficti...</td>\n",
       "      <td>380247</td>\n",
       "      <td>31821</td>\n",
       "      <td>458</td>\n",
       "      <td>1955</td>\n",
       "      <td>https://i.ytimg.com/vi/AHtypnRk7JE/default.jpg</td>\n",
       "      <td>False</td>\n",
       "      <td>False</td>\n",
       "      <td>False</td>\n",
       "      <td>►Alle Videos: http://bit.ly/1fa7Tw3\\n\\n\\n✚Snap...</td>\n",
       "      <td>2017-11-12</td>\n",
       "    </tr>\n",
       "    <tr>\n",
       "      <th>4</th>\n",
       "      <td>ZJ9We4bjcg0</td>\n",
       "      <td>2017-11-14</td>\n",
       "      <td>18 SONGS mit Kelly MissesVlog (Sing-off)</td>\n",
       "      <td>rezo</td>\n",
       "      <td>24</td>\n",
       "      <td>2017-11-12 13:10:36</td>\n",
       "      <td>kelly|\"missesvlog\"|\"kelly song\"|\"bausa\"|\"bausa...</td>\n",
       "      <td>822213</td>\n",
       "      <td>100684</td>\n",
       "      <td>2467</td>\n",
       "      <td>10244</td>\n",
       "      <td>https://i.ytimg.com/vi/ZJ9We4bjcg0/default.jpg</td>\n",
       "      <td>False</td>\n",
       "      <td>False</td>\n",
       "      <td>False</td>\n",
       "      <td>18 Song Mashup über den (veränderten) Beat von...</td>\n",
       "      <td>2017-11-12</td>\n",
       "    </tr>\n",
       "  </tbody>\n",
       "</table>\n",
       "</div>"
      ],
      "text/plain": [
       "      video_id trending_date  \\\n",
       "0  LgVi6y5QIjM    2017-11-14   \n",
       "1  Bayt7uQith4    2017-11-14   \n",
       "2  1ZAPwfrtAFY    2017-11-14   \n",
       "3  AHtypnRk7JE    2017-11-14   \n",
       "4  ZJ9We4bjcg0    2017-11-14   \n",
       "\n",
       "                                               title            channel_title  \\\n",
       "0  Sing zu Ende! | Gesangseinlagen vom Feinsten |...                inscope21   \n",
       "1  Kinder ferngesteuert im Kiosk! Erwachsene abzo...  LUKE! Die Woche und ich   \n",
       "2  The Trump Presidency: Last Week Tonight with J...          LastWeekTonight   \n",
       "3                                Das Fermi-Paradoxon        100SekundenPhysik   \n",
       "4           18 SONGS mit Kelly MissesVlog (Sing-off)                     rezo   \n",
       "\n",
       "   category_id        publish_time  \\\n",
       "0           24 2017-11-13 17:08:49   \n",
       "1           23 2017-11-12 22:30:01   \n",
       "2           24 2017-11-13 07:30:00   \n",
       "3           27 2017-11-12 15:00:01   \n",
       "4           24 2017-11-12 13:10:36   \n",
       "\n",
       "                                                tags    views   likes  \\\n",
       "0  inscope21|\"sing zu ende\"|\"gesangseinlagen\"|\"ge...   252786   35885   \n",
       "1  Kinder|\"ferngesteuert\"|\"Kinder ferngesteuert\"|...   797196   53576   \n",
       "2  last week tonight trump presidency|\"last week ...  2418783   97190   \n",
       "3  Physik|\"Wissenschaft\"|\"Technik\"|\"Science-Ficti...   380247   31821   \n",
       "4  kelly|\"missesvlog\"|\"kelly song\"|\"bausa\"|\"bausa...   822213  100684   \n",
       "\n",
       "   dislikes  comment_count                                  thumbnail_link  \\\n",
       "0       230           1539  https://i.ytimg.com/vi/LgVi6y5QIjM/default.jpg   \n",
       "1       302           1278  https://i.ytimg.com/vi/Bayt7uQith4/default.jpg   \n",
       "2      6146          12703  https://i.ytimg.com/vi/1ZAPwfrtAFY/default.jpg   \n",
       "3       458           1955  https://i.ytimg.com/vi/AHtypnRk7JE/default.jpg   \n",
       "4      2467          10244  https://i.ytimg.com/vi/ZJ9We4bjcg0/default.jpg   \n",
       "\n",
       "   comments_disabled  ratings_disabled  video_error_or_removed  \\\n",
       "0              False             False                   False   \n",
       "1              False             False                   False   \n",
       "2              False             False                   False   \n",
       "3              False             False                   False   \n",
       "4              False             False                   False   \n",
       "\n",
       "                                         description publish_date  \n",
       "0  Heute gibt es mal wieder ein neues Format... w...   2017-11-13  \n",
       "1  Kinder ferngesteuert! Kinder lassen sich sooo ...   2017-11-12  \n",
       "2  One year after the presidential election, John...   2017-11-13  \n",
       "3  ►Alle Videos: http://bit.ly/1fa7Tw3\\n\\n\\n✚Snap...   2017-11-12  \n",
       "4  18 Song Mashup über den (veränderten) Beat von...   2017-11-12  "
      ]
     },
     "execution_count": 137,
     "metadata": {},
     "output_type": "execute_result"
    }
   ],
   "source": [
    "# check result\n",
    "df.head()"
   ]
  },
  {
   "cell_type": "markdown",
   "id": "7da8f9ba",
   "metadata": {},
   "source": [
    "**Build new columns/ Feature engineering**  \n",
    "Since we want to know, when most trending videos get published, we need to create new columns which contain information about the day of the week as well as the time of the day.  "
   ]
  },
  {
   "cell_type": "code",
   "execution_count": 138,
   "id": "2c05a0f8",
   "metadata": {},
   "outputs": [],
   "source": [
    "# extract year, month, dayofweek and hour information out of column publish_time and build new column for each\n",
    "df[\"publish_year\"]=df[\"publish_time\"].dt.year\n",
    "df[\"publish_month\"]=df[\"publish_time\"].dt.month\n",
    "df[\"publish_weekday\"]=df[\"publish_time\"].dt.dayofweek\n",
    "df[\"publish_hour\"]=df[\"publish_time\"].dt.hour"
   ]
  },
  {
   "cell_type": "markdown",
   "id": "6b608c4a",
   "metadata": {},
   "source": [
    "*Note*:\n",
    "Day of week: Return the day of the week. It is assumed the week starts on Monday, which is denoted by 0 and ends on Sunday which is denoted by 6."
   ]
  },
  {
   "cell_type": "code",
   "execution_count": 139,
   "id": "128ab8cd",
   "metadata": {},
   "outputs": [
    {
     "data": {
      "text/html": [
       "<div>\n",
       "<style scoped>\n",
       "    .dataframe tbody tr th:only-of-type {\n",
       "        vertical-align: middle;\n",
       "    }\n",
       "\n",
       "    .dataframe tbody tr th {\n",
       "        vertical-align: top;\n",
       "    }\n",
       "\n",
       "    .dataframe thead th {\n",
       "        text-align: right;\n",
       "    }\n",
       "</style>\n",
       "<table border=\"1\" class=\"dataframe\">\n",
       "  <thead>\n",
       "    <tr style=\"text-align: right;\">\n",
       "      <th></th>\n",
       "      <th>video_id</th>\n",
       "      <th>trending_date</th>\n",
       "      <th>title</th>\n",
       "      <th>channel_title</th>\n",
       "      <th>category_id</th>\n",
       "      <th>publish_time</th>\n",
       "      <th>tags</th>\n",
       "      <th>views</th>\n",
       "      <th>likes</th>\n",
       "      <th>dislikes</th>\n",
       "      <th>...</th>\n",
       "      <th>thumbnail_link</th>\n",
       "      <th>comments_disabled</th>\n",
       "      <th>ratings_disabled</th>\n",
       "      <th>video_error_or_removed</th>\n",
       "      <th>description</th>\n",
       "      <th>publish_date</th>\n",
       "      <th>publish_year</th>\n",
       "      <th>publish_month</th>\n",
       "      <th>publish_weekday</th>\n",
       "      <th>publish_hour</th>\n",
       "    </tr>\n",
       "  </thead>\n",
       "  <tbody>\n",
       "    <tr>\n",
       "      <th>0</th>\n",
       "      <td>LgVi6y5QIjM</td>\n",
       "      <td>2017-11-14</td>\n",
       "      <td>Sing zu Ende! | Gesangseinlagen vom Feinsten |...</td>\n",
       "      <td>inscope21</td>\n",
       "      <td>24</td>\n",
       "      <td>2017-11-13 17:08:49</td>\n",
       "      <td>inscope21|\"sing zu ende\"|\"gesangseinlagen\"|\"ge...</td>\n",
       "      <td>252786</td>\n",
       "      <td>35885</td>\n",
       "      <td>230</td>\n",
       "      <td>...</td>\n",
       "      <td>https://i.ytimg.com/vi/LgVi6y5QIjM/default.jpg</td>\n",
       "      <td>False</td>\n",
       "      <td>False</td>\n",
       "      <td>False</td>\n",
       "      <td>Heute gibt es mal wieder ein neues Format... w...</td>\n",
       "      <td>2017-11-13</td>\n",
       "      <td>2017</td>\n",
       "      <td>11</td>\n",
       "      <td>0</td>\n",
       "      <td>17</td>\n",
       "    </tr>\n",
       "    <tr>\n",
       "      <th>1</th>\n",
       "      <td>Bayt7uQith4</td>\n",
       "      <td>2017-11-14</td>\n",
       "      <td>Kinder ferngesteuert im Kiosk! Erwachsene abzo...</td>\n",
       "      <td>LUKE! Die Woche und ich</td>\n",
       "      <td>23</td>\n",
       "      <td>2017-11-12 22:30:01</td>\n",
       "      <td>Kinder|\"ferngesteuert\"|\"Kinder ferngesteuert\"|...</td>\n",
       "      <td>797196</td>\n",
       "      <td>53576</td>\n",
       "      <td>302</td>\n",
       "      <td>...</td>\n",
       "      <td>https://i.ytimg.com/vi/Bayt7uQith4/default.jpg</td>\n",
       "      <td>False</td>\n",
       "      <td>False</td>\n",
       "      <td>False</td>\n",
       "      <td>Kinder ferngesteuert! Kinder lassen sich sooo ...</td>\n",
       "      <td>2017-11-12</td>\n",
       "      <td>2017</td>\n",
       "      <td>11</td>\n",
       "      <td>6</td>\n",
       "      <td>22</td>\n",
       "    </tr>\n",
       "    <tr>\n",
       "      <th>2</th>\n",
       "      <td>1ZAPwfrtAFY</td>\n",
       "      <td>2017-11-14</td>\n",
       "      <td>The Trump Presidency: Last Week Tonight with J...</td>\n",
       "      <td>LastWeekTonight</td>\n",
       "      <td>24</td>\n",
       "      <td>2017-11-13 07:30:00</td>\n",
       "      <td>last week tonight trump presidency|\"last week ...</td>\n",
       "      <td>2418783</td>\n",
       "      <td>97190</td>\n",
       "      <td>6146</td>\n",
       "      <td>...</td>\n",
       "      <td>https://i.ytimg.com/vi/1ZAPwfrtAFY/default.jpg</td>\n",
       "      <td>False</td>\n",
       "      <td>False</td>\n",
       "      <td>False</td>\n",
       "      <td>One year after the presidential election, John...</td>\n",
       "      <td>2017-11-13</td>\n",
       "      <td>2017</td>\n",
       "      <td>11</td>\n",
       "      <td>0</td>\n",
       "      <td>7</td>\n",
       "    </tr>\n",
       "    <tr>\n",
       "      <th>3</th>\n",
       "      <td>AHtypnRk7JE</td>\n",
       "      <td>2017-11-14</td>\n",
       "      <td>Das Fermi-Paradoxon</td>\n",
       "      <td>100SekundenPhysik</td>\n",
       "      <td>27</td>\n",
       "      <td>2017-11-12 15:00:01</td>\n",
       "      <td>Physik|\"Wissenschaft\"|\"Technik\"|\"Science-Ficti...</td>\n",
       "      <td>380247</td>\n",
       "      <td>31821</td>\n",
       "      <td>458</td>\n",
       "      <td>...</td>\n",
       "      <td>https://i.ytimg.com/vi/AHtypnRk7JE/default.jpg</td>\n",
       "      <td>False</td>\n",
       "      <td>False</td>\n",
       "      <td>False</td>\n",
       "      <td>►Alle Videos: http://bit.ly/1fa7Tw3\\n\\n\\n✚Snap...</td>\n",
       "      <td>2017-11-12</td>\n",
       "      <td>2017</td>\n",
       "      <td>11</td>\n",
       "      <td>6</td>\n",
       "      <td>15</td>\n",
       "    </tr>\n",
       "    <tr>\n",
       "      <th>4</th>\n",
       "      <td>ZJ9We4bjcg0</td>\n",
       "      <td>2017-11-14</td>\n",
       "      <td>18 SONGS mit Kelly MissesVlog (Sing-off)</td>\n",
       "      <td>rezo</td>\n",
       "      <td>24</td>\n",
       "      <td>2017-11-12 13:10:36</td>\n",
       "      <td>kelly|\"missesvlog\"|\"kelly song\"|\"bausa\"|\"bausa...</td>\n",
       "      <td>822213</td>\n",
       "      <td>100684</td>\n",
       "      <td>2467</td>\n",
       "      <td>...</td>\n",
       "      <td>https://i.ytimg.com/vi/ZJ9We4bjcg0/default.jpg</td>\n",
       "      <td>False</td>\n",
       "      <td>False</td>\n",
       "      <td>False</td>\n",
       "      <td>18 Song Mashup über den (veränderten) Beat von...</td>\n",
       "      <td>2017-11-12</td>\n",
       "      <td>2017</td>\n",
       "      <td>11</td>\n",
       "      <td>6</td>\n",
       "      <td>13</td>\n",
       "    </tr>\n",
       "  </tbody>\n",
       "</table>\n",
       "<p>5 rows × 21 columns</p>\n",
       "</div>"
      ],
      "text/plain": [
       "      video_id trending_date  \\\n",
       "0  LgVi6y5QIjM    2017-11-14   \n",
       "1  Bayt7uQith4    2017-11-14   \n",
       "2  1ZAPwfrtAFY    2017-11-14   \n",
       "3  AHtypnRk7JE    2017-11-14   \n",
       "4  ZJ9We4bjcg0    2017-11-14   \n",
       "\n",
       "                                               title            channel_title  \\\n",
       "0  Sing zu Ende! | Gesangseinlagen vom Feinsten |...                inscope21   \n",
       "1  Kinder ferngesteuert im Kiosk! Erwachsene abzo...  LUKE! Die Woche und ich   \n",
       "2  The Trump Presidency: Last Week Tonight with J...          LastWeekTonight   \n",
       "3                                Das Fermi-Paradoxon        100SekundenPhysik   \n",
       "4           18 SONGS mit Kelly MissesVlog (Sing-off)                     rezo   \n",
       "\n",
       "   category_id        publish_time  \\\n",
       "0           24 2017-11-13 17:08:49   \n",
       "1           23 2017-11-12 22:30:01   \n",
       "2           24 2017-11-13 07:30:00   \n",
       "3           27 2017-11-12 15:00:01   \n",
       "4           24 2017-11-12 13:10:36   \n",
       "\n",
       "                                                tags    views   likes  \\\n",
       "0  inscope21|\"sing zu ende\"|\"gesangseinlagen\"|\"ge...   252786   35885   \n",
       "1  Kinder|\"ferngesteuert\"|\"Kinder ferngesteuert\"|...   797196   53576   \n",
       "2  last week tonight trump presidency|\"last week ...  2418783   97190   \n",
       "3  Physik|\"Wissenschaft\"|\"Technik\"|\"Science-Ficti...   380247   31821   \n",
       "4  kelly|\"missesvlog\"|\"kelly song\"|\"bausa\"|\"bausa...   822213  100684   \n",
       "\n",
       "   dislikes  ...                                  thumbnail_link  \\\n",
       "0       230  ...  https://i.ytimg.com/vi/LgVi6y5QIjM/default.jpg   \n",
       "1       302  ...  https://i.ytimg.com/vi/Bayt7uQith4/default.jpg   \n",
       "2      6146  ...  https://i.ytimg.com/vi/1ZAPwfrtAFY/default.jpg   \n",
       "3       458  ...  https://i.ytimg.com/vi/AHtypnRk7JE/default.jpg   \n",
       "4      2467  ...  https://i.ytimg.com/vi/ZJ9We4bjcg0/default.jpg   \n",
       "\n",
       "  comments_disabled  ratings_disabled  video_error_or_removed  \\\n",
       "0             False             False                   False   \n",
       "1             False             False                   False   \n",
       "2             False             False                   False   \n",
       "3             False             False                   False   \n",
       "4             False             False                   False   \n",
       "\n",
       "                                         description publish_date  \\\n",
       "0  Heute gibt es mal wieder ein neues Format... w...   2017-11-13   \n",
       "1  Kinder ferngesteuert! Kinder lassen sich sooo ...   2017-11-12   \n",
       "2  One year after the presidential election, John...   2017-11-13   \n",
       "3  ►Alle Videos: http://bit.ly/1fa7Tw3\\n\\n\\n✚Snap...   2017-11-12   \n",
       "4  18 Song Mashup über den (veränderten) Beat von...   2017-11-12   \n",
       "\n",
       "  publish_year  publish_month  publish_weekday  publish_hour  \n",
       "0         2017             11                0            17  \n",
       "1         2017             11                6            22  \n",
       "2         2017             11                0             7  \n",
       "3         2017             11                6            15  \n",
       "4         2017             11                6            13  \n",
       "\n",
       "[5 rows x 21 columns]"
      ]
     },
     "execution_count": 139,
     "metadata": {},
     "output_type": "execute_result"
    }
   ],
   "source": [
    "# check result\n",
    "df.head()"
   ]
  },
  {
   "cell_type": "markdown",
   "id": "c82cb08c",
   "metadata": {},
   "source": [
    "Let's also do this for the trending date."
   ]
  },
  {
   "cell_type": "code",
   "execution_count": 140,
   "id": "0de60cd3",
   "metadata": {},
   "outputs": [],
   "source": [
    "# extract year, month, day-of-week out of column trending_date and build new column for each\n",
    "df[\"trending_year\"]=df[\"trending_date\"].dt.year\n",
    "df[\"trending_month\"]=df[\"trending_date\"].dt.month\n",
    "df[\"trending_weekday\"]=df[\"trending_date\"].dt.dayofweek"
   ]
  },
  {
   "cell_type": "code",
   "execution_count": 141,
   "id": "1e334c31",
   "metadata": {},
   "outputs": [
    {
     "data": {
      "text/html": [
       "<div>\n",
       "<style scoped>\n",
       "    .dataframe tbody tr th:only-of-type {\n",
       "        vertical-align: middle;\n",
       "    }\n",
       "\n",
       "    .dataframe tbody tr th {\n",
       "        vertical-align: top;\n",
       "    }\n",
       "\n",
       "    .dataframe thead th {\n",
       "        text-align: right;\n",
       "    }\n",
       "</style>\n",
       "<table border=\"1\" class=\"dataframe\">\n",
       "  <thead>\n",
       "    <tr style=\"text-align: right;\">\n",
       "      <th></th>\n",
       "      <th>video_id</th>\n",
       "      <th>trending_date</th>\n",
       "      <th>title</th>\n",
       "      <th>channel_title</th>\n",
       "      <th>category_id</th>\n",
       "      <th>publish_time</th>\n",
       "      <th>tags</th>\n",
       "      <th>views</th>\n",
       "      <th>likes</th>\n",
       "      <th>dislikes</th>\n",
       "      <th>...</th>\n",
       "      <th>video_error_or_removed</th>\n",
       "      <th>description</th>\n",
       "      <th>publish_date</th>\n",
       "      <th>publish_year</th>\n",
       "      <th>publish_month</th>\n",
       "      <th>publish_weekday</th>\n",
       "      <th>publish_hour</th>\n",
       "      <th>trending_year</th>\n",
       "      <th>trending_month</th>\n",
       "      <th>trending_weekday</th>\n",
       "    </tr>\n",
       "  </thead>\n",
       "  <tbody>\n",
       "    <tr>\n",
       "      <th>0</th>\n",
       "      <td>LgVi6y5QIjM</td>\n",
       "      <td>2017-11-14</td>\n",
       "      <td>Sing zu Ende! | Gesangseinlagen vom Feinsten |...</td>\n",
       "      <td>inscope21</td>\n",
       "      <td>24</td>\n",
       "      <td>2017-11-13 17:08:49</td>\n",
       "      <td>inscope21|\"sing zu ende\"|\"gesangseinlagen\"|\"ge...</td>\n",
       "      <td>252786</td>\n",
       "      <td>35885</td>\n",
       "      <td>230</td>\n",
       "      <td>...</td>\n",
       "      <td>False</td>\n",
       "      <td>Heute gibt es mal wieder ein neues Format... w...</td>\n",
       "      <td>2017-11-13</td>\n",
       "      <td>2017</td>\n",
       "      <td>11</td>\n",
       "      <td>0</td>\n",
       "      <td>17</td>\n",
       "      <td>2017</td>\n",
       "      <td>11</td>\n",
       "      <td>1</td>\n",
       "    </tr>\n",
       "    <tr>\n",
       "      <th>1</th>\n",
       "      <td>Bayt7uQith4</td>\n",
       "      <td>2017-11-14</td>\n",
       "      <td>Kinder ferngesteuert im Kiosk! Erwachsene abzo...</td>\n",
       "      <td>LUKE! Die Woche und ich</td>\n",
       "      <td>23</td>\n",
       "      <td>2017-11-12 22:30:01</td>\n",
       "      <td>Kinder|\"ferngesteuert\"|\"Kinder ferngesteuert\"|...</td>\n",
       "      <td>797196</td>\n",
       "      <td>53576</td>\n",
       "      <td>302</td>\n",
       "      <td>...</td>\n",
       "      <td>False</td>\n",
       "      <td>Kinder ferngesteuert! Kinder lassen sich sooo ...</td>\n",
       "      <td>2017-11-12</td>\n",
       "      <td>2017</td>\n",
       "      <td>11</td>\n",
       "      <td>6</td>\n",
       "      <td>22</td>\n",
       "      <td>2017</td>\n",
       "      <td>11</td>\n",
       "      <td>1</td>\n",
       "    </tr>\n",
       "    <tr>\n",
       "      <th>2</th>\n",
       "      <td>1ZAPwfrtAFY</td>\n",
       "      <td>2017-11-14</td>\n",
       "      <td>The Trump Presidency: Last Week Tonight with J...</td>\n",
       "      <td>LastWeekTonight</td>\n",
       "      <td>24</td>\n",
       "      <td>2017-11-13 07:30:00</td>\n",
       "      <td>last week tonight trump presidency|\"last week ...</td>\n",
       "      <td>2418783</td>\n",
       "      <td>97190</td>\n",
       "      <td>6146</td>\n",
       "      <td>...</td>\n",
       "      <td>False</td>\n",
       "      <td>One year after the presidential election, John...</td>\n",
       "      <td>2017-11-13</td>\n",
       "      <td>2017</td>\n",
       "      <td>11</td>\n",
       "      <td>0</td>\n",
       "      <td>7</td>\n",
       "      <td>2017</td>\n",
       "      <td>11</td>\n",
       "      <td>1</td>\n",
       "    </tr>\n",
       "    <tr>\n",
       "      <th>3</th>\n",
       "      <td>AHtypnRk7JE</td>\n",
       "      <td>2017-11-14</td>\n",
       "      <td>Das Fermi-Paradoxon</td>\n",
       "      <td>100SekundenPhysik</td>\n",
       "      <td>27</td>\n",
       "      <td>2017-11-12 15:00:01</td>\n",
       "      <td>Physik|\"Wissenschaft\"|\"Technik\"|\"Science-Ficti...</td>\n",
       "      <td>380247</td>\n",
       "      <td>31821</td>\n",
       "      <td>458</td>\n",
       "      <td>...</td>\n",
       "      <td>False</td>\n",
       "      <td>►Alle Videos: http://bit.ly/1fa7Tw3\\n\\n\\n✚Snap...</td>\n",
       "      <td>2017-11-12</td>\n",
       "      <td>2017</td>\n",
       "      <td>11</td>\n",
       "      <td>6</td>\n",
       "      <td>15</td>\n",
       "      <td>2017</td>\n",
       "      <td>11</td>\n",
       "      <td>1</td>\n",
       "    </tr>\n",
       "    <tr>\n",
       "      <th>4</th>\n",
       "      <td>ZJ9We4bjcg0</td>\n",
       "      <td>2017-11-14</td>\n",
       "      <td>18 SONGS mit Kelly MissesVlog (Sing-off)</td>\n",
       "      <td>rezo</td>\n",
       "      <td>24</td>\n",
       "      <td>2017-11-12 13:10:36</td>\n",
       "      <td>kelly|\"missesvlog\"|\"kelly song\"|\"bausa\"|\"bausa...</td>\n",
       "      <td>822213</td>\n",
       "      <td>100684</td>\n",
       "      <td>2467</td>\n",
       "      <td>...</td>\n",
       "      <td>False</td>\n",
       "      <td>18 Song Mashup über den (veränderten) Beat von...</td>\n",
       "      <td>2017-11-12</td>\n",
       "      <td>2017</td>\n",
       "      <td>11</td>\n",
       "      <td>6</td>\n",
       "      <td>13</td>\n",
       "      <td>2017</td>\n",
       "      <td>11</td>\n",
       "      <td>1</td>\n",
       "    </tr>\n",
       "  </tbody>\n",
       "</table>\n",
       "<p>5 rows × 24 columns</p>\n",
       "</div>"
      ],
      "text/plain": [
       "      video_id trending_date  \\\n",
       "0  LgVi6y5QIjM    2017-11-14   \n",
       "1  Bayt7uQith4    2017-11-14   \n",
       "2  1ZAPwfrtAFY    2017-11-14   \n",
       "3  AHtypnRk7JE    2017-11-14   \n",
       "4  ZJ9We4bjcg0    2017-11-14   \n",
       "\n",
       "                                               title            channel_title  \\\n",
       "0  Sing zu Ende! | Gesangseinlagen vom Feinsten |...                inscope21   \n",
       "1  Kinder ferngesteuert im Kiosk! Erwachsene abzo...  LUKE! Die Woche und ich   \n",
       "2  The Trump Presidency: Last Week Tonight with J...          LastWeekTonight   \n",
       "3                                Das Fermi-Paradoxon        100SekundenPhysik   \n",
       "4           18 SONGS mit Kelly MissesVlog (Sing-off)                     rezo   \n",
       "\n",
       "   category_id        publish_time  \\\n",
       "0           24 2017-11-13 17:08:49   \n",
       "1           23 2017-11-12 22:30:01   \n",
       "2           24 2017-11-13 07:30:00   \n",
       "3           27 2017-11-12 15:00:01   \n",
       "4           24 2017-11-12 13:10:36   \n",
       "\n",
       "                                                tags    views   likes  \\\n",
       "0  inscope21|\"sing zu ende\"|\"gesangseinlagen\"|\"ge...   252786   35885   \n",
       "1  Kinder|\"ferngesteuert\"|\"Kinder ferngesteuert\"|...   797196   53576   \n",
       "2  last week tonight trump presidency|\"last week ...  2418783   97190   \n",
       "3  Physik|\"Wissenschaft\"|\"Technik\"|\"Science-Ficti...   380247   31821   \n",
       "4  kelly|\"missesvlog\"|\"kelly song\"|\"bausa\"|\"bausa...   822213  100684   \n",
       "\n",
       "   dislikes  ...  video_error_or_removed  \\\n",
       "0       230  ...                   False   \n",
       "1       302  ...                   False   \n",
       "2      6146  ...                   False   \n",
       "3       458  ...                   False   \n",
       "4      2467  ...                   False   \n",
       "\n",
       "                                         description  publish_date  \\\n",
       "0  Heute gibt es mal wieder ein neues Format... w...    2017-11-13   \n",
       "1  Kinder ferngesteuert! Kinder lassen sich sooo ...    2017-11-12   \n",
       "2  One year after the presidential election, John...    2017-11-13   \n",
       "3  ►Alle Videos: http://bit.ly/1fa7Tw3\\n\\n\\n✚Snap...    2017-11-12   \n",
       "4  18 Song Mashup über den (veränderten) Beat von...    2017-11-12   \n",
       "\n",
       "   publish_year  publish_month publish_weekday publish_hour  trending_year  \\\n",
       "0          2017             11               0           17           2017   \n",
       "1          2017             11               6           22           2017   \n",
       "2          2017             11               0            7           2017   \n",
       "3          2017             11               6           15           2017   \n",
       "4          2017             11               6           13           2017   \n",
       "\n",
       "   trending_month  trending_weekday  \n",
       "0              11                 1  \n",
       "1              11                 1  \n",
       "2              11                 1  \n",
       "3              11                 1  \n",
       "4              11                 1  \n",
       "\n",
       "[5 rows x 24 columns]"
      ]
     },
     "execution_count": 141,
     "metadata": {},
     "output_type": "execute_result"
    }
   ],
   "source": [
    "# check result\n",
    "df.head()"
   ]
  },
  {
   "cell_type": "markdown",
   "id": "d2fe7131",
   "metadata": {},
   "source": [
    "We want to investigate differences of video categories - however so far, we only have an category ID and don't know what's behind this ID.  \n",
    "Fortunately we can decode the IDs and transform them into actual category names."
   ]
  },
  {
   "cell_type": "code",
   "execution_count": 142,
   "id": "7fb023fa",
   "metadata": {},
   "outputs": [],
   "source": [
    "# create dictionary called category_names with category_id as key and the actual category name as value\n",
    "# we get these values from the Google API or here: https://gist.github.com/dgp/1b24bf2961521bd75d6c\n",
    "category_names = {\n",
    "    1:'Film and Animation',\n",
    "    2:'Autos & Vehicles',\n",
    "    10:'Music',\n",
    "    15:'Pets and Animals',\n",
    "    17:'Sports',\n",
    "    18:'Short Movies',\n",
    "    19:'Travel and Events',\n",
    "    20:'Gaming',\n",
    "    21:'Videoblogging',\n",
    "    22:'People and Blogs',\n",
    "    23:'Comedy',\n",
    "    24:'Entertainment',\n",
    "    25:'News and Politics',\n",
    "    26:'How to and Style',\n",
    "    27:'Education',\n",
    "    28:'Science and Technology',\n",
    "    29:'Non Profits and Activism',\n",
    "    30:'Movies',\n",
    "    31:'Anime/Animation', \n",
    "    32:'Action/Adventure',\n",
    "    33:'Classics',\n",
    "    34:'Comedy', \n",
    "    35:'Documentary',\n",
    "    36:'Drama',\n",
    "    37:'Family',\n",
    "    38:'Foreign',\n",
    "    39:'Horror',\n",
    "    40:'Sci-Fi/Fantasy',\n",
    "    41:'Thriller',\n",
    "    42:'Shorts',\n",
    "    43:'Shows',\n",
    "    44:'Trailers'\n",
    "    }"
   ]
  },
  {
   "cell_type": "code",
   "execution_count": 143,
   "id": "4c1871b9",
   "metadata": {},
   "outputs": [],
   "source": [
    "# create new column called category_name which contains the name of the category, the video belongs to\n",
    "# the map() function is used to map values of Series according to input correspondence (https://www.w3resource.com/pandas/series/series-map.php)\n",
    "df['category_name'] = df['category_id'].map(category_names)"
   ]
  },
  {
   "cell_type": "code",
   "execution_count": 144,
   "id": "57255b6b",
   "metadata": {},
   "outputs": [
    {
     "data": {
      "text/html": [
       "<div>\n",
       "<style scoped>\n",
       "    .dataframe tbody tr th:only-of-type {\n",
       "        vertical-align: middle;\n",
       "    }\n",
       "\n",
       "    .dataframe tbody tr th {\n",
       "        vertical-align: top;\n",
       "    }\n",
       "\n",
       "    .dataframe thead th {\n",
       "        text-align: right;\n",
       "    }\n",
       "</style>\n",
       "<table border=\"1\" class=\"dataframe\">\n",
       "  <thead>\n",
       "    <tr style=\"text-align: right;\">\n",
       "      <th></th>\n",
       "      <th>title</th>\n",
       "      <th>category_id</th>\n",
       "      <th>category_name</th>\n",
       "    </tr>\n",
       "  </thead>\n",
       "  <tbody>\n",
       "    <tr>\n",
       "      <th>0</th>\n",
       "      <td>Sing zu Ende! | Gesangseinlagen vom Feinsten |...</td>\n",
       "      <td>24</td>\n",
       "      <td>Entertainment</td>\n",
       "    </tr>\n",
       "    <tr>\n",
       "      <th>1</th>\n",
       "      <td>Kinder ferngesteuert im Kiosk! Erwachsene abzo...</td>\n",
       "      <td>23</td>\n",
       "      <td>Comedy</td>\n",
       "    </tr>\n",
       "    <tr>\n",
       "      <th>2</th>\n",
       "      <td>The Trump Presidency: Last Week Tonight with J...</td>\n",
       "      <td>24</td>\n",
       "      <td>Entertainment</td>\n",
       "    </tr>\n",
       "    <tr>\n",
       "      <th>3</th>\n",
       "      <td>Das Fermi-Paradoxon</td>\n",
       "      <td>27</td>\n",
       "      <td>Education</td>\n",
       "    </tr>\n",
       "    <tr>\n",
       "      <th>4</th>\n",
       "      <td>18 SONGS mit Kelly MissesVlog (Sing-off)</td>\n",
       "      <td>24</td>\n",
       "      <td>Entertainment</td>\n",
       "    </tr>\n",
       "  </tbody>\n",
       "</table>\n",
       "</div>"
      ],
      "text/plain": [
       "                                               title  category_id  \\\n",
       "0  Sing zu Ende! | Gesangseinlagen vom Feinsten |...           24   \n",
       "1  Kinder ferngesteuert im Kiosk! Erwachsene abzo...           23   \n",
       "2  The Trump Presidency: Last Week Tonight with J...           24   \n",
       "3                                Das Fermi-Paradoxon           27   \n",
       "4           18 SONGS mit Kelly MissesVlog (Sing-off)           24   \n",
       "\n",
       "   category_name  \n",
       "0  Entertainment  \n",
       "1         Comedy  \n",
       "2  Entertainment  \n",
       "3      Education  \n",
       "4  Entertainment  "
      ]
     },
     "execution_count": 144,
     "metadata": {},
     "output_type": "execute_result"
    }
   ],
   "source": [
    "# check result\n",
    "df[[\"title\", \"category_id\", \"category_name\"]].head()"
   ]
  },
  {
   "cell_type": "markdown",
   "id": "22c15dc0",
   "metadata": {},
   "source": [
    "#### Days between publishing and trending\n",
    "We also want to have a look at the time-interval between video-publication-date and the trending_date.\n",
    "Thus, we need to create a new column including the time interval in days."
   ]
  },
  {
   "cell_type": "code",
   "execution_count": 145,
   "id": "cbb7c5a6",
   "metadata": {},
   "outputs": [],
   "source": [
    "# create new column called trending_days_difference\n",
    "df['trending_days_difference']=(df[\"trending_date\"]-df[\"publish_date\"]).dt.days"
   ]
  },
  {
   "cell_type": "code",
   "execution_count": 146,
   "id": "46085c5f",
   "metadata": {},
   "outputs": [
    {
     "data": {
      "text/html": [
       "<div>\n",
       "<style scoped>\n",
       "    .dataframe tbody tr th:only-of-type {\n",
       "        vertical-align: middle;\n",
       "    }\n",
       "\n",
       "    .dataframe tbody tr th {\n",
       "        vertical-align: top;\n",
       "    }\n",
       "\n",
       "    .dataframe thead th {\n",
       "        text-align: right;\n",
       "    }\n",
       "</style>\n",
       "<table border=\"1\" class=\"dataframe\">\n",
       "  <thead>\n",
       "    <tr style=\"text-align: right;\">\n",
       "      <th></th>\n",
       "      <th>trending_date</th>\n",
       "      <th>publish_date</th>\n",
       "      <th>trending_days_difference</th>\n",
       "    </tr>\n",
       "  </thead>\n",
       "  <tbody>\n",
       "    <tr>\n",
       "      <th>0</th>\n",
       "      <td>2017-11-14</td>\n",
       "      <td>2017-11-13</td>\n",
       "      <td>1</td>\n",
       "    </tr>\n",
       "    <tr>\n",
       "      <th>1</th>\n",
       "      <td>2017-11-14</td>\n",
       "      <td>2017-11-12</td>\n",
       "      <td>2</td>\n",
       "    </tr>\n",
       "    <tr>\n",
       "      <th>2</th>\n",
       "      <td>2017-11-14</td>\n",
       "      <td>2017-11-13</td>\n",
       "      <td>1</td>\n",
       "    </tr>\n",
       "    <tr>\n",
       "      <th>3</th>\n",
       "      <td>2017-11-14</td>\n",
       "      <td>2017-11-12</td>\n",
       "      <td>2</td>\n",
       "    </tr>\n",
       "    <tr>\n",
       "      <th>4</th>\n",
       "      <td>2017-11-14</td>\n",
       "      <td>2017-11-12</td>\n",
       "      <td>2</td>\n",
       "    </tr>\n",
       "  </tbody>\n",
       "</table>\n",
       "</div>"
      ],
      "text/plain": [
       "  trending_date publish_date  trending_days_difference\n",
       "0    2017-11-14   2017-11-13                         1\n",
       "1    2017-11-14   2017-11-12                         2\n",
       "2    2017-11-14   2017-11-13                         1\n",
       "3    2017-11-14   2017-11-12                         2\n",
       "4    2017-11-14   2017-11-12                         2"
      ]
     },
     "execution_count": 146,
     "metadata": {},
     "output_type": "execute_result"
    }
   ],
   "source": [
    "# check result\n",
    "df[[\"trending_date\", \"publish_date\", \"trending_days_difference\"]].head()"
   ]
  },
  {
   "cell_type": "markdown",
   "id": "bae623da",
   "metadata": {},
   "source": [
    "**Missing values**  \n",
    "We have already seen above, that we only have missing values in the description column, which we have dropped.  \n",
    "Let's confirm this again."
   ]
  },
  {
   "cell_type": "code",
   "execution_count": 147,
   "id": "5975d1a3",
   "metadata": {},
   "outputs": [
    {
     "data": {
      "text/plain": [
       "video_id                       0\n",
       "trending_date                  0\n",
       "title                          0\n",
       "channel_title                  0\n",
       "category_id                    0\n",
       "publish_time                   0\n",
       "tags                           0\n",
       "views                          0\n",
       "likes                          0\n",
       "dislikes                       0\n",
       "comment_count                  0\n",
       "thumbnail_link                 0\n",
       "comments_disabled              0\n",
       "ratings_disabled               0\n",
       "video_error_or_removed         0\n",
       "description                 1552\n",
       "publish_date                   0\n",
       "publish_year                   0\n",
       "publish_month                  0\n",
       "publish_weekday                0\n",
       "publish_hour                   0\n",
       "trending_year                  0\n",
       "trending_month                 0\n",
       "trending_weekday               0\n",
       "category_name                  0\n",
       "trending_days_difference       0\n",
       "dtype: int64"
      ]
     },
     "execution_count": 147,
     "metadata": {},
     "output_type": "execute_result"
    }
   ],
   "source": [
    "# displays sum of missing values per column\n",
    "df.isnull().sum()"
   ]
  },
  {
   "cell_type": "markdown",
   "id": "c60623ee",
   "metadata": {},
   "source": [
    "There are no other missing values we have to deal with."
   ]
  },
  {
   "cell_type": "markdown",
   "id": "281c06f8",
   "metadata": {},
   "source": [
    "**Descriptive Statistics**  \n",
    "Let's have a look at our numerical variables and their descriptive statistics."
   ]
  },
  {
   "cell_type": "code",
   "execution_count": 148,
   "id": "60b82f6e",
   "metadata": {},
   "outputs": [
    {
     "data": {
      "text/html": [
       "<div>\n",
       "<style scoped>\n",
       "    .dataframe tbody tr th:only-of-type {\n",
       "        vertical-align: middle;\n",
       "    }\n",
       "\n",
       "    .dataframe tbody tr th {\n",
       "        vertical-align: top;\n",
       "    }\n",
       "\n",
       "    .dataframe thead th {\n",
       "        text-align: right;\n",
       "    }\n",
       "</style>\n",
       "<table border=\"1\" class=\"dataframe\">\n",
       "  <thead>\n",
       "    <tr style=\"text-align: right;\">\n",
       "      <th></th>\n",
       "      <th>views</th>\n",
       "      <th>likes</th>\n",
       "      <th>dislikes</th>\n",
       "      <th>comment_count</th>\n",
       "      <th>trending_days_difference</th>\n",
       "    </tr>\n",
       "  </thead>\n",
       "  <tbody>\n",
       "    <tr>\n",
       "      <th>count</th>\n",
       "      <td>40,840.00</td>\n",
       "      <td>40,840.00</td>\n",
       "      <td>40,840.00</td>\n",
       "      <td>40,840.00</td>\n",
       "      <td>40,840.00</td>\n",
       "    </tr>\n",
       "    <tr>\n",
       "      <th>mean</th>\n",
       "      <td>603,455.32</td>\n",
       "      <td>21,875.50</td>\n",
       "      <td>1,397.14</td>\n",
       "      <td>2,785.86</td>\n",
       "      <td>1.85</td>\n",
       "    </tr>\n",
       "    <tr>\n",
       "      <th>std</th>\n",
       "      <td>2,348,962.77</td>\n",
       "      <td>101,800.00</td>\n",
       "      <td>14,577.38</td>\n",
       "      <td>17,458.03</td>\n",
       "      <td>19.62</td>\n",
       "    </tr>\n",
       "    <tr>\n",
       "      <th>min</th>\n",
       "      <td>518.00</td>\n",
       "      <td>0.00</td>\n",
       "      <td>0.00</td>\n",
       "      <td>0.00</td>\n",
       "      <td>0.00</td>\n",
       "    </tr>\n",
       "    <tr>\n",
       "      <th>25%</th>\n",
       "      <td>27,068.75</td>\n",
       "      <td>533.00</td>\n",
       "      <td>29.00</td>\n",
       "      <td>79.00</td>\n",
       "      <td>1.00</td>\n",
       "    </tr>\n",
       "    <tr>\n",
       "      <th>50%</th>\n",
       "      <td>119,277.00</td>\n",
       "      <td>2,699.00</td>\n",
       "      <td>134.00</td>\n",
       "      <td>376.00</td>\n",
       "      <td>1.00</td>\n",
       "    </tr>\n",
       "    <tr>\n",
       "      <th>75%</th>\n",
       "      <td>443,101.50</td>\n",
       "      <td>11,796.25</td>\n",
       "      <td>532.00</td>\n",
       "      <td>1,376.00</td>\n",
       "      <td>2.00</td>\n",
       "    </tr>\n",
       "    <tr>\n",
       "      <th>max</th>\n",
       "      <td>113,876,217.00</td>\n",
       "      <td>4,924,056.00</td>\n",
       "      <td>1,470,386.00</td>\n",
       "      <td>1,084,435.00</td>\n",
       "      <td>2,046.00</td>\n",
       "    </tr>\n",
       "  </tbody>\n",
       "</table>\n",
       "</div>"
      ],
      "text/plain": [
       "               views        likes     dislikes  comment_count  \\\n",
       "count      40,840.00    40,840.00    40,840.00      40,840.00   \n",
       "mean      603,455.32    21,875.50     1,397.14       2,785.86   \n",
       "std     2,348,962.77   101,800.00    14,577.38      17,458.03   \n",
       "min           518.00         0.00         0.00           0.00   \n",
       "25%        27,068.75       533.00        29.00          79.00   \n",
       "50%       119,277.00     2,699.00       134.00         376.00   \n",
       "75%       443,101.50    11,796.25       532.00       1,376.00   \n",
       "max   113,876,217.00 4,924,056.00 1,470,386.00   1,084,435.00   \n",
       "\n",
       "       trending_days_difference  \n",
       "count                 40,840.00  \n",
       "mean                       1.85  \n",
       "std                       19.62  \n",
       "min                        0.00  \n",
       "25%                        1.00  \n",
       "50%                        1.00  \n",
       "75%                        2.00  \n",
       "max                    2,046.00  "
      ]
     },
     "execution_count": 148,
     "metadata": {},
     "output_type": "execute_result"
    }
   ],
   "source": [
    "# the describe() function gives you a good overview\n",
    "df[[\"views\", \"likes\", \"dislikes\", \"comment_count\", \"trending_days_difference\"]].describe()"
   ]
  },
  {
   "cell_type": "markdown",
   "id": "55f0067e",
   "metadata": {},
   "source": [
    "Short explanation of the reported measures:\n",
    "- count: Indication of how many values are present in the columns (NaNs/missing values are not counted).\n",
    "- mean: average value of the data\n",
    "- std: standard deviation of the data\n",
    "- min: the smallest value in the data set\n",
    "- 25%: 25 % of the data are below this value\n",
    "- 50%: 50% of the data are below this value. This value is called the median.\n",
    "- 75%: 75% of the data are below this value\n",
    "- max: the largest expression in the data set\n"
   ]
  },
  {
   "cell_type": "markdown",
   "id": "6c6db44e",
   "metadata": {},
   "source": [
    "#### Task\n",
    "#### What can you take away from this table?\n",
    "\n",
    "Please take some time to consider if the values make sense and make notes where things meet your expectations or what seems out of place.  \n",
    "\n",
    "1.  \n",
    "2.  \n",
    "3.  \n",
    "...  \n",
    "\n",
    "<br/><br/>\n",
    "<br/><br/>\n",
    "<br/><br/>\n",
    "<br/><br/>\n",
    "<br/><br/>\n",
    "<br/><br/>\n",
    "<br/><br/>\n",
    "<br/><br/>\n",
    " \n"
   ]
  },
  {
   "cell_type": "markdown",
   "id": "8c12ff43",
   "metadata": {},
   "source": [
    "**From the table above we note that**\n",
    "- a trending video has on average 603.455 views, 21.875 likes, 1.397 dislikes and 2.785 comments\n",
    "- on average the time between the video is published and the video is trending is 1,85 days\n",
    "- the median value for the number of views is 119.277 which means that half of the trending videos have views that are less than that number, and the other half have views larger than that number. The same is true for the median of likes, dislikes, comment_count and trending_days_difference\n"
   ]
  },
  {
   "cell_type": "markdown",
   "id": "f4a80e5a",
   "metadata": {},
   "source": [
    "**Outliers**  \n",
    "We see in our descriptive statistics, that the minimum and maximum values in our numerical columns are far apart from each other. Let's have a look at these \"extreme\" values by looking at boxplots.  \n",
    "*Note:* The following code creates several subplots, meaning that all our numerical variables are plotted next to each other. This can be done by specifying the axes you want to plot each variable on (ax[0][0] means: first row, first column)"
   ]
  },
  {
   "cell_type": "code",
   "execution_count": 149,
   "id": "b7661c7a",
   "metadata": {},
   "outputs": [
    {
     "data": {
      "image/png": "[encoded data removed]",
      "text/plain": [
       "<Figure size 2000x1500 with 5 Axes>"
      ]
     },
     "metadata": {},
     "output_type": "display_data"
    }
   ],
   "source": [
    "fig, ax = plt.subplots(2,3, figsize=(20,15)) # create subplots on 2 rows and 3 columns\n",
    "plt.suptitle('Distribution of numeric columns', fontsize=20)\n",
    "fig.tight_layout() # tight_layout automatically adjusts subplot params so that the subplot(s) fits in to the figure area\n",
    "plt.subplots_adjust(hspace = .5, wspace = .2, top = .9) # adjusts the space between the single subplots\n",
    "\n",
    "ax[0][0].boxplot(x = df['views']) # creates boxplot for number of views\n",
    "ax[0][0].set_xticklabels(labels=[\"Views\"]) # sets the label for the ticks on the x-axis\n",
    "ax[0][0].set_ylim(0,2000000) # limits the y-axis values from 0 to 2000000 \n",
    "ax[0][0].set_title(\"Distribution of views count\", fontsize = 15); # sets title for subplot\n",
    "\n",
    "ax[0][1].boxplot(x = df['likes'])\n",
    "ax[0][1].set_xticklabels(labels=[\"Likes\"])\n",
    "ax[0][1].set_ylim(0,50000)\n",
    "ax[0][1].set_title(\"Distribution of likes count\", fontsize = 15);\n",
    "\n",
    "ax[0][2].boxplot(x = df['dislikes'])\n",
    "ax[0][2].set_xticklabels(labels=[\"Dislikes\"])\n",
    "ax[0][2].set_ylim(0,6000)\n",
    "ax[0][2].set_title(\"Distribution of dislikes count\", fontsize = 15);\n",
    "\n",
    "ax[1][0].boxplot(x = df['comment_count'])\n",
    "ax[1][0].set_xticklabels(labels=[\"Comment count\"])\n",
    "ax[1][0].set_ylim(0,20000)\n",
    "ax[1][0].set_title(\"Distribution of comment count\", fontsize = 15);\n",
    "                              \n",
    "ax[1][1].boxplot(x = df['trending_days_difference'])\n",
    "ax[1][1].set_xticklabels(labels=[\"Trending days difference\"])\n",
    "ax[1][1].set_ylim(-1,10)\n",
    "ax[1][1].set_title(\"Distribution of difference in trending time\", fontsize = 15);\n",
    "\n",
    "fig.delaxes(ax[1][2]);"
   ]
  },
  {
   "cell_type": "markdown",
   "id": "219a8adb",
   "metadata": {},
   "source": [
    "We can see that most of the values lie in the lower part of our distribution (50% of our data lies below the red line which represents the median).  \n",
    "But there are also a couple of videos with a very high number of views, likes, dislikes and comments. Since we can expect some videos to become much more popular than others, these extreme values can be expected and should not be removed."
   ]
  },
  {
   "cell_type": "markdown",
   "id": "2555d8f2",
   "metadata": {},
   "source": [
    "#### Task\n",
    "#### How would you describe these distribution? \n",
    "Please take some time to think about this question and take some notes here.  \n",
    "\n",
    "1.  \n",
    "2.  \n",
    "3.  "
   ]
  },
  {
   "cell_type": "markdown",
   "id": "a3384ce2",
   "metadata": {},
   "source": [
    "**We have made it through the data cleaning process!**  "
   ]
  },
  {
   "cell_type": "markdown",
   "id": "c9381ba7",
   "metadata": {},
   "source": [
    "## Beginning of Exercise: Correlation and T-test\n"
   ]
  },
  {
   "cell_type": "markdown",
   "id": "9c188e77",
   "metadata": {},
   "source": [
    "#### Our Hypotheses\n",
    "In this exercise, we investigate the following hypotheses:"
   ]
  },
  {
   "cell_type": "markdown",
   "id": "ff5e920b",
   "metadata": {},
   "source": [
    "1. Video-Categories differ in average number of views per video.\n",
    "2. Correlations exist between views, likes, dislikes and comments\n",
    "3. The length of time-interval between the date a video gets published and a video becomes trending also is correlated to number of views, likes, dislikes and comments"
   ]
  },
  {
   "cell_type": "markdown",
   "id": "6ecb90fd",
   "metadata": {},
   "source": [
    "#### Exercise 1. Video-Categories differ in average number of views per video."
   ]
  },
  {
   "cell_type": "code",
   "execution_count": 150,
   "id": "f1894faf",
   "metadata": {},
   "outputs": [],
   "source": [
    "# Plot the average number of views per video per category\n"
   ]
  },
  {
   "cell_type": "code",
   "execution_count": 151,
   "id": "bfd8183d",
   "metadata": {},
   "outputs": [
    {
     "data": {
      "text/plain": [
       "Ttest_indResult(statistic=-2.6034304605397938, pvalue=0.017969284594810425)"
      ]
     },
     "execution_count": 151,
     "metadata": {},
     "output_type": "execute_result"
    }
   ],
   "source": [
    "# For the top categories: check if the difference between the means is significant\n",
    "\n",
    "# here is an example how to do this in pandas, source: https://www.statology.org/pandas-t-test/\n",
    "\n",
    "import pandas as pd\n",
    "from scipy.stats import ttest_ind\n",
    "\n",
    "#create pandas DataFrame\n",
    "test_df = pd.DataFrame({'method': ['A', 'A', 'A', 'A', 'A', 'A', 'A', 'A', 'A', 'A',\n",
    "                              'B', 'B', 'B', 'B', 'B', 'B', 'B', 'B', 'B', 'B'],\n",
    "                   'score': [71, 72, 72, 75, 78, 81, 82, 83, 89, 91, 80, 81, 81,\n",
    "                             84, 88, 88, 89, 90, 90, 91]})\n",
    "\n",
    "#view first five rows of DataFrame\n",
    "df.head()\n",
    "\n",
    "\n",
    "#define samples\n",
    "group1 = test_df[test_df['method']=='A']\n",
    "group2 = test_df[test_df['method']=='B']\n",
    "\n",
    "#perform independent two sample t-test\n",
    "ttest_ind(group1['score'], group2['score'])"
   ]
  },
  {
   "cell_type": "markdown",
   "id": "259e3c86",
   "metadata": {},
   "source": [
    "### Check for correlations"
   ]
  },
  {
   "cell_type": "markdown",
   "id": "7a33c5b7",
   "metadata": {},
   "source": [
    "#### 2. Correlations exist between views, likes, dislikes and comments"
   ]
  },
  {
   "cell_type": "code",
   "execution_count": 91,
   "id": "04060918",
   "metadata": {},
   "outputs": [
    {
     "data": {
      "text/plain": [
       "Text(118.58333333333333, 0.5, 'Likes')"
      ]
     },
     "execution_count": 91,
     "metadata": {},
     "output_type": "execute_result"
    },
    {
     "data": {
      "image/png": "[encoded data removed]",
      "text/plain": [
       "<Figure size 2000x1500 with 6 Axes>"
      ]
     },
     "metadata": {},
     "output_type": "display_data"
    }
   ],
   "source": [
    "# plot scatterplots to vizualise the correlations\n",
    "# use this as a schema, add as many plots to the figure as needed\n",
    "fig, ax = plt.subplots(2,3, figsize=(20,15)) # create subplots on 2 rows and 3 columns, feel free to change this\n",
    "plt.suptitle('Correlations of numeric columns', fontsize=20)\n",
    "fig.tight_layout() # tight_layout automatically adjusts subplot params so that the subplot(s) fits in to the figure area\n",
    "plt.subplots_adjust(hspace = .5, wspace = .2, top = .9) # adjusts the space between the single subplots\n",
    "\n",
    "ax[0][0].scatter(x = df['views'], y = df['likes']) # creates boxplot for number of views\n",
    "ax[0][0].set_title(\"Correlation between views & likes\", fontsize = 15); # sets title for subplot\n",
    "ax[0][0].set_xlabel(\"Views\")\n",
    "ax[0][0].set_ylabel(\"Likes\")\n",
    "\n",
    "### add more plots to the figure. "
   ]
  },
  {
   "cell_type": "code",
   "execution_count": 75,
   "id": "b413f10d",
   "metadata": {},
   "outputs": [
    {
     "name": "stdout",
     "output_type": "stream",
     "text": [
      "\u001b[0;31mSignature:\u001b[0m\n",
      "\u001b[0mpd\u001b[0m\u001b[0;34m.\u001b[0m\u001b[0mDataFrame\u001b[0m\u001b[0;34m.\u001b[0m\u001b[0mcorr\u001b[0m\u001b[0;34m(\u001b[0m\u001b[0;34m\u001b[0m\n",
      "\u001b[0;34m\u001b[0m    \u001b[0mself\u001b[0m\u001b[0;34m,\u001b[0m\u001b[0;34m\u001b[0m\n",
      "\u001b[0;34m\u001b[0m    \u001b[0mmethod\u001b[0m\u001b[0;34m:\u001b[0m \u001b[0;34m'CorrelationMethod'\u001b[0m \u001b[0;34m=\u001b[0m \u001b[0;34m'pearson'\u001b[0m\u001b[0;34m,\u001b[0m\u001b[0;34m\u001b[0m\n",
      "\u001b[0;34m\u001b[0m    \u001b[0mmin_periods\u001b[0m\u001b[0;34m:\u001b[0m \u001b[0;34m'int'\u001b[0m \u001b[0;34m=\u001b[0m \u001b[0;36m1\u001b[0m\u001b[0;34m,\u001b[0m\u001b[0;34m\u001b[0m\n",
      "\u001b[0;34m\u001b[0m    \u001b[0mnumeric_only\u001b[0m\u001b[0;34m:\u001b[0m \u001b[0;34m'bool'\u001b[0m \u001b[0;34m=\u001b[0m \u001b[0;32mFalse\u001b[0m\u001b[0;34m,\u001b[0m\u001b[0;34m\u001b[0m\n",
      "\u001b[0;34m\u001b[0m\u001b[0;34m)\u001b[0m \u001b[0;34m->\u001b[0m \u001b[0;34m'DataFrame'\u001b[0m\u001b[0;34m\u001b[0m\u001b[0;34m\u001b[0m\u001b[0m\n",
      "\u001b[0;31mDocstring:\u001b[0m\n",
      "Compute pairwise correlation of columns, excluding NA/null values.\n",
      "\n",
      "Parameters\n",
      "----------\n",
      "method : {'pearson', 'kendall', 'spearman'} or callable\n",
      "    Method of correlation:\n",
      "\n",
      "    * pearson : standard correlation coefficient\n",
      "    * kendall : Kendall Tau correlation coefficient\n",
      "    * spearman : Spearman rank correlation\n",
      "    * callable: callable with input two 1d ndarrays\n",
      "        and returning a float. Note that the returned matrix from corr\n",
      "        will have 1 along the diagonals and will be symmetric\n",
      "        regardless of the callable's behavior.\n",
      "min_periods : int, optional\n",
      "    Minimum number of observations required per pair of columns\n",
      "    to have a valid result. Currently only available for Pearson\n",
      "    and Spearman correlation.\n",
      "numeric_only : bool, default False\n",
      "    Include only `float`, `int` or `boolean` data.\n",
      "\n",
      "    .. versionadded:: 1.5.0\n",
      "\n",
      "    .. versionchanged:: 2.0.0\n",
      "        The default value of ``numeric_only`` is now ``False``.\n",
      "\n",
      "Returns\n",
      "-------\n",
      "DataFrame\n",
      "    Correlation matrix.\n",
      "\n",
      "See Also\n",
      "--------\n",
      "DataFrame.corrwith : Compute pairwise correlation with another\n",
      "    DataFrame or Series.\n",
      "Series.corr : Compute the correlation between two Series.\n",
      "\n",
      "Notes\n",
      "-----\n",
      "Pearson, Kendall and Spearman correlation are currently computed using pairwise complete observations.\n",
      "\n",
      "* `Pearson correlation coefficient <https://en.wikipedia.org/wiki/Pearson_correlation_coefficient>`_\n",
      "* `Kendall rank correlation coefficient <https://en.wikipedia.org/wiki/Kendall_rank_correlation_coefficient>`_\n",
      "* `Spearman's rank correlation coefficient <https://en.wikipedia.org/wiki/Spearman%27s_rank_correlation_coefficient>`_\n",
      "\n",
      "Examples\n",
      "--------\n",
      ">>> def histogram_intersection(a, b):\n",
      "...     v = np.minimum(a, b).sum().round(decimals=1)\n",
      "...     return v\n",
      ">>> df = pd.DataFrame([(.2, .3), (.0, .6), (.6, .0), (.2, .1)],\n",
      "...                   columns=['dogs', 'cats'])\n",
      ">>> df.corr(method=histogram_intersection)\n",
      "      dogs  cats\n",
      "dogs   1.0   0.3\n",
      "cats   0.3   1.0\n",
      "\n",
      ">>> df = pd.DataFrame([(1, 1), (2, np.nan), (np.nan, 3), (4, 4)],\n",
      "...                   columns=['dogs', 'cats'])\n",
      ">>> df.corr(min_periods=3)\n",
      "      dogs  cats\n",
      "dogs   1.0   NaN\n",
      "cats   NaN   1.0\n",
      "\u001b[0;31mFile:\u001b[0m      /opt/homebrew/Caskroom/miniconda/base/envs/nf_base_0124/lib/python3.10/site-packages/pandas/core/frame.py\n",
      "\u001b[0;31mType:\u001b[0m      function"
     ]
    }
   ],
   "source": [
    "# use the corr() method \n",
    "pd.DataFrame.corr?"
   ]
  },
  {
   "cell_type": "code",
   "execution_count": 92,
   "id": "b387bd81",
   "metadata": {},
   "outputs": [],
   "source": [
    "# Calculate the correlation matrix between these variables. \n",
    "\n",
    "# First, fill the list with all columns you want to compare\n",
    "corr_columns=[]\n",
    "\n",
    "# then call the .corr() method\n"
   ]
  },
  {
   "cell_type": "code",
   "execution_count": 93,
   "id": "2b387cd8",
   "metadata": {},
   "outputs": [],
   "source": [
    "# draw a heatmap of the correlation matrix with 'sns.heatmap()'\n",
    "# hint cmap='coolwarm' looks good :-)\n"
   ]
  },
  {
   "cell_type": "code",
   "execution_count": 152,
   "id": "de9ac8e4",
   "metadata": {},
   "outputs": [
    {
     "data": {
      "text/plain": [
       "PearsonRResult(statistic=0.8241886774194311, pvalue=0.0)"
      ]
     },
     "execution_count": 152,
     "metadata": {},
     "output_type": "execute_result"
    }
   ],
   "source": [
    "# last but not least check the p-value \n",
    "from scipy.stats import pearsonr\n",
    "\n",
    "#pearsonr()\n"
   ]
  },
  {
   "cell_type": "markdown",
   "id": "fcf52763",
   "metadata": {},
   "source": [
    "#### 3. The the length of time-interval between the date a video gets published and a video becomes trending also is correlated to number of views, likes, dislikes and comments"
   ]
  },
  {
   "cell_type": "code",
   "execution_count": null,
   "id": "4b1fcdcf",
   "metadata": {},
   "outputs": [],
   "source": [
    "# repeat the same steps to investigate these relationships"
   ]
  }
 ],
 "metadata": {
  "interpreter": {
   "hash": "0e4771abb73651cc71498e03f3559c7e0f15f38d5124065b3832974a7bbffea7"
  },
  "kernelspec": {
   "display_name": "Python 3 (ipykernel)",
   "language": "python",
   "name": "python3"
  },
  "language_info": {
   "codemirror_mode": {
    "name": "ipython",
    "version": 3
   },
   "file_extension": ".py",
   "mimetype": "text/x-python",
   "name": "python",
   "nbconvert_exporter": "python",
   "pygments_lexer": "ipython3",
   "version": "3.10.13"
  }
 },
 "nbformat": 4,
 "nbformat_minor": 5
}
