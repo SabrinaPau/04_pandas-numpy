{
 "cells": [
  {
   "cell_type": "markdown",
   "metadata": {},
   "source": [
    "## Exercise on wine dataset"
   ]
  },
  {
   "cell_type": "markdown",
   "metadata": {},
   "source": [
    "\n",
    "Let's start off by following the general workflow that we use when moving data into a DataFrame: \n",
    "\n",
    "    * Importing Pandas\n",
    "    * Reading data into the DataFrame\n",
    "    * Getting a general sense of the data\n",
    "\n",
    "So, in terms of what you should do for this part...\n",
    "\n",
    "1. Select the first 10 rows of the `chlorides` column. \n",
    "2. Select the last 10 rows of the `chlorides` column. \n",
    "3. Select columns `chlorides` **and** `density`. \n",
    "4. Select all rows where the `chlorides` value is less than 0.10. \n",
    "5. Now select all the rows where the `chlorides` value is greater than the column's mean (try **not** to use a hard-coded value for the mean, but instead a method).\n",
    "6. Select all those rows where the `pH` is greater than 3.0 and less than 3.5. Further filter the results from 6 to grab only those rows that have a `residual sugar` less than 2.0. \n",
    "\n",
    "If you'd like some extra practice, try answering each of the questions in more than one way (because remember, we can often select data in a couple of different ways). Selecting is the same as displaying on the screen in this context."
   ]
  },
  {
   "cell_type": "code",
   "execution_count": 11,
   "metadata": {},
   "outputs": [],
   "source": [
    "#1. Select the first 10 rows of the `chlorides` column. \n",
    "#2. Select the last 10 rows of the `chlorides` column. \n",
    "\n"
   ]
  },
  {
   "cell_type": "code",
   "execution_count": 12,
   "metadata": {},
   "outputs": [],
   "source": [
    "#3. Select columns `chlorides` and `density`. \n"
   ]
  },
  {
   "cell_type": "code",
   "execution_count": 13,
   "metadata": {},
   "outputs": [],
   "source": [
    "#4. Select all rows where the `chlorides` value is less than 0.10.\n"
   ]
  },
  {
   "cell_type": "code",
   "execution_count": 14,
   "metadata": {},
   "outputs": [],
   "source": [
    "#5. Now select all the rows where the `chlorides` value is greater than the column's mean\n",
    "#(try not to use a hard-coded value for the mean, but instead a method.)"
   ]
  },
  {
   "cell_type": "code",
   "execution_count": 15,
   "metadata": {},
   "outputs": [],
   "source": [
    "#6. Select all those rows where the `pH` is greater than 3.0 and less than 3.5. \n"
   ]
  },
  {
   "cell_type": "code",
   "execution_count": 16,
   "metadata": {},
   "outputs": [],
   "source": [
    "#7. Further filter the results from 6 to grab only those rows that have a `residual sugar` less than 2.0.\n",
    "#Tip: Use backticks (``) to mask column names with spaces in query string."
   ]
  },
  {
   "cell_type": "markdown",
   "metadata": {},
   "source": [
    "## Exercise on iris dataset\n",
    "\n",
    "![IRIS, https://github.com/simonava5/fishers-iris-data](../images/iris.png)\n",
    "\n",
    "After the notebook with a lot of new input, let's start applying it totally by yourselves. \n",
    "For this purpose we will use one of the most standard real-life datasets: It's called Iris Dataset, and is all about the plant iris. Let's learn a little bit more about the dataset by taking a closer look at it. "
   ]
  },
  {
   "cell_type": "code",
   "execution_count": 17,
   "metadata": {},
   "outputs": [],
   "source": [
    "# import pandas\n"
   ]
  },
  {
   "cell_type": "code",
   "execution_count": 18,
   "metadata": {},
   "outputs": [],
   "source": [
    "# load the data\n",
    "iris = pd.read_csv('../../Data/iris.csv')"
   ]
  },
  {
   "cell_type": "markdown",
   "metadata": {},
   "source": [
    "1. Let us first have a look at the head of the table, maybe also on the last 10 rows..."
   ]
  },
  {
   "cell_type": "code",
   "execution_count": null,
   "metadata": {},
   "outputs": [],
   "source": [
    "\n"
   ]
  },
  {
   "cell_type": "markdown",
   "metadata": {},
   "source": [
    "2. How many irises are the data set?\n"
   ]
  },
  {
   "cell_type": "code",
   "execution_count": null,
   "metadata": {},
   "outputs": [],
   "source": []
  },
  {
   "cell_type": "markdown",
   "metadata": {},
   "source": [
    "8. Calculate the basic descriptive statistics for all columns of the iris data set using a single command."
   ]
  },
  {
   "cell_type": "code",
   "execution_count": null,
   "metadata": {},
   "outputs": [],
   "source": []
  },
  {
   "cell_type": "markdown",
   "metadata": {},
   "source": [
    "12. Add the sum of the sepal width and length as a new column to your data frame."
   ]
  },
  {
   "cell_type": "code",
   "execution_count": null,
   "metadata": {},
   "outputs": [],
   "source": []
  },
  {
   "cell_type": "markdown",
   "metadata": {},
   "source": [
    "18. Create a new column with a rough estimate of petal area by multiplying petal length and width together."
   ]
  },
  {
   "cell_type": "code",
   "execution_count": null,
   "metadata": {},
   "outputs": [],
   "source": []
  },
  {
   "cell_type": "markdown",
   "metadata": {},
   "source": [
    "19. Create a new dataframe with petal areas greater than $1cm^2$."
   ]
  },
  {
   "cell_type": "code",
   "execution_count": null,
   "metadata": {},
   "outputs": [],
   "source": []
  },
  {
   "cell_type": "markdown",
   "metadata": {},
   "source": [
    "20. Using the original unfiltered dataframe, create 3 new dataframes, each containing only irises of each a single species 'Iris-setosa', 'Iris-versicolor' or 'Iris-virginica'."
   ]
  },
  {
   "cell_type": "code",
   "execution_count": null,
   "metadata": {},
   "outputs": [],
   "source": [
    "\n"
   ]
  },
  {
   "cell_type": "code",
   "execution_count": null,
   "metadata": {},
   "outputs": [],
   "source": []
  },
  {
   "cell_type": "code",
   "execution_count": null,
   "metadata": {},
   "outputs": [],
   "source": []
  }
 ],
 "metadata": {
  "kernelspec": {
   "display_name": "Python 3",
   "language": "python",
   "name": "python3"
  },
  "language_info": {
   "codemirror_mode": {
    "name": "ipython",
    "version": 3
   },
   "file_extension": ".py",
   "mimetype": "text/x-python",
   "name": "python",
   "nbconvert_exporter": "python",
   "pygments_lexer": "ipython3",
   "version": "3.9.17"
  }
 },
 "nbformat": 4,
 "nbformat_minor": 4
}
