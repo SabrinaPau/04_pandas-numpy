{
 "cells": [
  {
   "cell_type": "markdown",
   "id": "d8f08c2b",
   "metadata": {},
   "source": [
    "### Clean dataset on stolen bikes.\n"
   ]
  },
  {
   "cell_type": "code",
   "execution_count": 1,
   "id": "d74a4514",
   "metadata": {},
   "outputs": [],
   "source": [
    "# standard import of pandas\n",
    "import pandas as pd"
   ]
  },
  {
   "cell_type": "markdown",
   "id": "b0f8afee",
   "metadata": {},
   "source": [
    "## Loading the first dataset\n",
    "The data we'll use is data on bicycle theft crimes at the granular level of Berlin city planning areas, so-called \"LOR\" - \"Lebensweltlich orientierte Räume\", we will stumble over it again later!  \n",
    "This data is provided by Berlin Open Data and collected by the police of Berlin.  \n",
    "\n",
    "### The goal for later: To be able to identify areas in Berlin with the most bike thefts or the highest theft amounts  \n",
    "### The goal for today: clean this dataset to prepare it for our data analysis\n",
    "\n",
    "First things first: We make the data accessible just by loading the .csv-file into a dataframe and get an overview.\n",
    "\n",
    "[Website to datatset -  daten.berlin.de](https://daten.berlin.de/datensaetze/fahrraddiebstahl-berlin)\n",
    "\n",
    "- Licence:\n",
    "    - Creative Commons Namensnennung CC-BY License\n",
    "- Geographical Granularity: \n",
    "    - Berlin\n",
    "- Publisher: \n",
    "    - Polizei Berlin LKA St 14\n",
    "- E Mail: \n",
    "    - onlineredaktion@polizei.berlin.de"
   ]
  },
  {
   "cell_type": "code",
   "execution_count": 2,
   "id": "fe484d4e",
   "metadata": {},
   "outputs": [
    {
     "data": {
      "text/html": [
       "<div>\n",
       "<style scoped>\n",
       "    .dataframe tbody tr th:only-of-type {\n",
       "        vertical-align: middle;\n",
       "    }\n",
       "\n",
       "    .dataframe tbody tr th {\n",
       "        vertical-align: top;\n",
       "    }\n",
       "\n",
       "    .dataframe thead th {\n",
       "        text-align: right;\n",
       "    }\n",
       "</style>\n",
       "<table border=\"1\" class=\"dataframe\">\n",
       "  <thead>\n",
       "    <tr style=\"text-align: right;\">\n",
       "      <th></th>\n",
       "      <th>angelegt_am</th>\n",
       "      <th>tatzeit_anfang_datum</th>\n",
       "      <th>tatzeit_anfang_stunde</th>\n",
       "      <th>tatzeit_ende_datum</th>\n",
       "      <th>tatzeit_ende_stunde</th>\n",
       "      <th>lor</th>\n",
       "      <th>schadenshoehe</th>\n",
       "      <th>versuch</th>\n",
       "      <th>art_des_fahrrads</th>\n",
       "      <th>delikt</th>\n",
       "      <th>erfassungsgrund</th>\n",
       "    </tr>\n",
       "  </thead>\n",
       "  <tbody>\n",
       "    <tr>\n",
       "      <th>0</th>\n",
       "      <td>14.09.2020</td>\n",
       "      <td>10.09.2020</td>\n",
       "      <td>10</td>\n",
       "      <td>10.09.2020</td>\n",
       "      <td>12</td>\n",
       "      <td>3400723</td>\n",
       "      <td>706</td>\n",
       "      <td>Nein</td>\n",
       "      <td>Damenfahrrad</td>\n",
       "      <td>Fahrraddiebstahl</td>\n",
       "      <td>Sonstiger schwerer Diebstahl von Fahrrädern</td>\n",
       "    </tr>\n",
       "    <tr>\n",
       "      <th>1</th>\n",
       "      <td>29.09.2020</td>\n",
       "      <td>09.09.2020</td>\n",
       "      <td>16</td>\n",
       "      <td>10.09.2020</td>\n",
       "      <td>7</td>\n",
       "      <td>9200716</td>\n",
       "      <td>220</td>\n",
       "      <td>Nein</td>\n",
       "      <td>Damenfahrrad</td>\n",
       "      <td>Fahrraddiebstahl</td>\n",
       "      <td>Sonstiger schwerer Diebstahl von Fahrrädern</td>\n",
       "    </tr>\n",
       "  </tbody>\n",
       "</table>\n",
       "</div>"
      ],
      "text/plain": [
       "  angelegt_am tatzeit_anfang_datum  tatzeit_anfang_stunde tatzeit_ende_datum  \\\n",
       "0  14.09.2020           10.09.2020                     10         10.09.2020   \n",
       "1  29.09.2020           09.09.2020                     16         10.09.2020   \n",
       "\n",
       "   tatzeit_ende_stunde      lor  schadenshoehe versuch art_des_fahrrads  \\\n",
       "0                   12  3400723            706    Nein     Damenfahrrad   \n",
       "1                    7  9200716            220    Nein     Damenfahrrad   \n",
       "\n",
       "             delikt                              erfassungsgrund  \n",
       "0  Fahrraddiebstahl  Sonstiger schwerer Diebstahl von Fahrrädern  \n",
       "1  Fahrraddiebstahl  Sonstiger schwerer Diebstahl von Fahrrädern  "
      ]
     },
     "execution_count": 2,
     "metadata": {},
     "output_type": "execute_result"
    }
   ],
   "source": [
    "# proper encoding is necessary here!\n",
    "thefts_df_raw = pd.read_csv('../../data/Fahrraddiebstahl.csv', encoding='latin-1') \n",
    " # make column names lowercase\n",
    "thefts_df_raw.columns = thefts_df_raw.columns.str.lower() \n",
    "thefts_df_raw.head(2)"
   ]
  },
  {
   "cell_type": "code",
   "execution_count": 3,
   "id": "8ad79892",
   "metadata": {},
   "outputs": [],
   "source": [
    "# what's the shape, the observations, datatypes and null-counts?\n"
   ]
  },
  {
   "cell_type": "markdown",
   "id": "6a6ba7f3",
   "metadata": {},
   "source": [
    "Let's think about cleaning our data:\n",
    "\n",
    "- drop duplicates? inspect!\n",
    "- drop column 'angelegt_am' and 'erfassungsgrund' - irrelevant to us\n",
    "- column 'versuch': inspect!  \n",
    "- column 'tatzeit_anfang_datum': change date string to datetime format  \n",
    "- column 'tatzeit_anfang_ende': change date string to datetime format"
   ]
  },
  {
   "cell_type": "code",
   "execution_count": 4,
   "id": "3a304929",
   "metadata": {},
   "outputs": [],
   "source": [
    "# inspect duplicates\n",
    "duplicates = thefts_df_raw[thefts_df_raw.duplicated(keep=False)]"
   ]
  },
  {
   "cell_type": "code",
   "execution_count": 5,
   "id": "f990eca3",
   "metadata": {},
   "outputs": [
    {
     "data": {
      "text/html": [
       "<div>\n",
       "<style scoped>\n",
       "    .dataframe tbody tr th:only-of-type {\n",
       "        vertical-align: middle;\n",
       "    }\n",
       "\n",
       "    .dataframe tbody tr th {\n",
       "        vertical-align: top;\n",
       "    }\n",
       "\n",
       "    .dataframe thead th {\n",
       "        text-align: right;\n",
       "    }\n",
       "</style>\n",
       "<table border=\"1\" class=\"dataframe\">\n",
       "  <thead>\n",
       "    <tr style=\"text-align: right;\">\n",
       "      <th></th>\n",
       "      <th>angelegt_am</th>\n",
       "      <th>tatzeit_anfang_datum</th>\n",
       "      <th>tatzeit_anfang_stunde</th>\n",
       "      <th>tatzeit_ende_datum</th>\n",
       "      <th>tatzeit_ende_stunde</th>\n",
       "      <th>lor</th>\n",
       "      <th>schadenshoehe</th>\n",
       "      <th>versuch</th>\n",
       "      <th>art_des_fahrrads</th>\n",
       "      <th>delikt</th>\n",
       "      <th>erfassungsgrund</th>\n",
       "    </tr>\n",
       "  </thead>\n",
       "  <tbody>\n",
       "    <tr>\n",
       "      <th>29789</th>\n",
       "      <td>01.09.2020</td>\n",
       "      <td>31.08.2020</td>\n",
       "      <td>18</td>\n",
       "      <td>01.09.2020</td>\n",
       "      <td>0</td>\n",
       "      <td>1400940</td>\n",
       "      <td>220</td>\n",
       "      <td>Nein</td>\n",
       "      <td>Mountainbike</td>\n",
       "      <td>Fahrraddiebstahl</td>\n",
       "      <td>Sonstiger schwerer Diebstahl von Fahrrädern</td>\n",
       "    </tr>\n",
       "    <tr>\n",
       "      <th>29866</th>\n",
       "      <td>01.09.2020</td>\n",
       "      <td>31.08.2020</td>\n",
       "      <td>18</td>\n",
       "      <td>01.09.2020</td>\n",
       "      <td>0</td>\n",
       "      <td>1400940</td>\n",
       "      <td>220</td>\n",
       "      <td>Nein</td>\n",
       "      <td>Mountainbike</td>\n",
       "      <td>Fahrraddiebstahl</td>\n",
       "      <td>Sonstiger schwerer Diebstahl von Fahrrädern</td>\n",
       "    </tr>\n",
       "    <tr>\n",
       "      <th>16188</th>\n",
       "      <td>01.09.2021</td>\n",
       "      <td>31.08.2021</td>\n",
       "      <td>16</td>\n",
       "      <td>31.08.2021</td>\n",
       "      <td>17</td>\n",
       "      <td>2400623</td>\n",
       "      <td>3900</td>\n",
       "      <td>Nein</td>\n",
       "      <td>Damenfahrrad</td>\n",
       "      <td>Fahrraddiebstahl</td>\n",
       "      <td>Sonstiger schwerer Diebstahl von Fahrrädern</td>\n",
       "    </tr>\n",
       "    <tr>\n",
       "      <th>16189</th>\n",
       "      <td>01.09.2021</td>\n",
       "      <td>31.08.2021</td>\n",
       "      <td>16</td>\n",
       "      <td>31.08.2021</td>\n",
       "      <td>17</td>\n",
       "      <td>2400623</td>\n",
       "      <td>3900</td>\n",
       "      <td>Nein</td>\n",
       "      <td>Damenfahrrad</td>\n",
       "      <td>Fahrraddiebstahl</td>\n",
       "      <td>Sonstiger schwerer Diebstahl von Fahrrädern</td>\n",
       "    </tr>\n",
       "    <tr>\n",
       "      <th>12041</th>\n",
       "      <td>02.11.2020</td>\n",
       "      <td>31.10.2020</td>\n",
       "      <td>18</td>\n",
       "      <td>02.11.2020</td>\n",
       "      <td>8</td>\n",
       "      <td>10100312</td>\n",
       "      <td>299</td>\n",
       "      <td>Nein</td>\n",
       "      <td>Damenfahrrad</td>\n",
       "      <td>Fahrraddiebstahl</td>\n",
       "      <td>Sonstiger schwerer Diebstahl von Fahrrädern</td>\n",
       "    </tr>\n",
       "    <tr>\n",
       "      <th>12045</th>\n",
       "      <td>02.11.2020</td>\n",
       "      <td>31.10.2020</td>\n",
       "      <td>18</td>\n",
       "      <td>02.11.2020</td>\n",
       "      <td>8</td>\n",
       "      <td>10100312</td>\n",
       "      <td>299</td>\n",
       "      <td>Nein</td>\n",
       "      <td>Damenfahrrad</td>\n",
       "      <td>Fahrraddiebstahl</td>\n",
       "      <td>Sonstiger schwerer Diebstahl von Fahrrädern</td>\n",
       "    </tr>\n",
       "  </tbody>\n",
       "</table>\n",
       "</div>"
      ],
      "text/plain": [
       "      angelegt_am tatzeit_anfang_datum  tatzeit_anfang_stunde  \\\n",
       "29789  01.09.2020           31.08.2020                     18   \n",
       "29866  01.09.2020           31.08.2020                     18   \n",
       "16188  01.09.2021           31.08.2021                     16   \n",
       "16189  01.09.2021           31.08.2021                     16   \n",
       "12041  02.11.2020           31.10.2020                     18   \n",
       "12045  02.11.2020           31.10.2020                     18   \n",
       "\n",
       "      tatzeit_ende_datum  tatzeit_ende_stunde       lor  schadenshoehe  \\\n",
       "29789         01.09.2020                    0   1400940            220   \n",
       "29866         01.09.2020                    0   1400940            220   \n",
       "16188         31.08.2021                   17   2400623           3900   \n",
       "16189         31.08.2021                   17   2400623           3900   \n",
       "12041         02.11.2020                    8  10100312            299   \n",
       "12045         02.11.2020                    8  10100312            299   \n",
       "\n",
       "      versuch art_des_fahrrads            delikt  \\\n",
       "29789    Nein     Mountainbike  Fahrraddiebstahl   \n",
       "29866    Nein     Mountainbike  Fahrraddiebstahl   \n",
       "16188    Nein     Damenfahrrad  Fahrraddiebstahl   \n",
       "16189    Nein     Damenfahrrad  Fahrraddiebstahl   \n",
       "12041    Nein     Damenfahrrad  Fahrraddiebstahl   \n",
       "12045    Nein     Damenfahrrad  Fahrraddiebstahl   \n",
       "\n",
       "                                   erfassungsgrund  \n",
       "29789  Sonstiger schwerer Diebstahl von Fahrrädern  \n",
       "29866  Sonstiger schwerer Diebstahl von Fahrrädern  \n",
       "16188  Sonstiger schwerer Diebstahl von Fahrrädern  \n",
       "16189  Sonstiger schwerer Diebstahl von Fahrrädern  \n",
       "12041  Sonstiger schwerer Diebstahl von Fahrrädern  \n",
       "12045  Sonstiger schwerer Diebstahl von Fahrrädern  "
      ]
     },
     "execution_count": 5,
     "metadata": {},
     "output_type": "execute_result"
    }
   ],
   "source": [
    "# inspect duplicates\n",
    "duplicates.sort_values(by=['tatzeit_anfang_datum', 'schadenshoehe'])\\\n",
    "    .tail(6)"
   ]
  },
  {
   "cell_type": "code",
   "execution_count": 6,
   "id": "1ff54be1",
   "metadata": {},
   "outputs": [
    {
     "data": {
      "text/plain": [
       "181"
      ]
     },
     "execution_count": 6,
     "metadata": {},
     "output_type": "execute_result"
    }
   ],
   "source": [
    "# total nr of duplicates\n",
    "len(duplicates)"
   ]
  },
  {
   "cell_type": "code",
   "execution_count": 7,
   "id": "82f13222",
   "metadata": {},
   "outputs": [],
   "source": [
    "# the specifications of the duplicates indicate that they are implausible, so we drop them.\n",
    "# drop duplicates and assign result to a new dataframe called 'thefts_df_dedup'\n",
    "\n",
    "thefts_df_dedup = thefts_df_raw.drop_duplicates()\n"
   ]
  },
  {
   "cell_type": "code",
   "execution_count": 8,
   "id": "d360c36d",
   "metadata": {},
   "outputs": [
    {
     "name": "stdout",
     "output_type": "stream",
     "text": [
      "thefts_df_raw count: 39407\n",
      "thefts_df_dedup: 39311\n",
      "difference: 96\n"
     ]
    }
   ],
   "source": [
    "# Always double check your results\n",
    "print('thefts_df_raw count: '+str(len(thefts_df_raw)))\n",
    "print('thefts_df_dedup: '+ str(len(thefts_df_dedup)))\n",
    "print('difference: '+ str(len(thefts_df_raw)-len(thefts_df_dedup)))\n"
   ]
  },
  {
   "cell_type": "code",
   "execution_count": 9,
   "id": "3247b642",
   "metadata": {},
   "outputs": [
    {
     "name": "stdout",
     "output_type": "stream",
     "text": [
      "nr of duplicates: 181\n",
      "nr of unique rows in duplicates: 85\n",
      "nr of duplicated rows in duplicates: 96\n"
     ]
    }
   ],
   "source": [
    "# does this match with our duplicates?\n",
    "# the 96 means there were 96 duplicated rows deleted\n",
    "print('nr of duplicates: '+ str(len(duplicates)))\n",
    "print('nr of unique rows in duplicates: '+ str(len(duplicates.drop_duplicates())))\n",
    "print('nr of duplicated rows in duplicates: '+ str(len(duplicates)-len(duplicates.drop_duplicates())))\n"
   ]
  },
  {
   "cell_type": "markdown",
   "id": "a4372bbb",
   "metadata": {},
   "source": [
    "do the numbers make sense to you? "
   ]
  },
  {
   "cell_type": "code",
   "execution_count": 10,
   "id": "091af5c6",
   "metadata": {},
   "outputs": [],
   "source": [
    "# in worst case, if this is really confusing, you can download and double check manually in Excel\n",
    "# thefts_df_raw[thefts_df_raw.duplicated(keep=False)]\\\n",
    "#     .sort_values(by=['tatzeit_anfang_datum', 'schadenshoehe'])\\\n",
    "#         .to_csv('./check.csv')"
   ]
  },
  {
   "cell_type": "markdown",
   "id": "60814381",
   "metadata": {},
   "source": [
    "...if yes, let's continue.."
   ]
  },
  {
   "cell_type": "code",
   "execution_count": 11,
   "id": "c8e8b80c",
   "metadata": {},
   "outputs": [],
   "source": [
    "# drop column 'angelegt_am' and 'erfassungsgrund' - irrelevant to us, when and why observation got added to the database.\n"
   ]
  },
  {
   "cell_type": "code",
   "execution_count": 12,
   "id": "79de75b5",
   "metadata": {},
   "outputs": [
    {
     "data": {
      "text/plain": [
       "array(['Nein', 'Ja', 'Unbekannt'], dtype=object)"
      ]
     },
     "execution_count": 12,
     "metadata": {},
     "output_type": "execute_result"
    }
   ],
   "source": [
    "# how many unique values holds the column of the attempts?\n",
    "# look up 'unique()' and try to understand what it's doing\n",
    "\n",
    "thefts_df_dedup.versuch.unique()"
   ]
  },
  {
   "cell_type": "code",
   "execution_count": 13,
   "id": "e3dcf4ec",
   "metadata": {},
   "outputs": [
    {
     "data": {
      "text/plain": [
       "Nein         39137\n",
       "Ja             167\n",
       "Unbekannt        7\n",
       "Name: versuch, dtype: int64"
      ]
     },
     "execution_count": 13,
     "metadata": {},
     "output_type": "execute_result"
    }
   ],
   "source": [
    "# and what is the count of those categories?\n",
    "# look up 'value_counts()' and try to understand what it's doing\n",
    "\n",
    "thefts_df_dedup.versuch.value_counts()"
   ]
  },
  {
   "cell_type": "code",
   "execution_count": 14,
   "id": "e483cb8b",
   "metadata": {},
   "outputs": [],
   "source": [
    "# we have just 167 attempts and 7 thefts of unknown state in our dataset, so we decide to drop those observations.\n"
   ]
  },
  {
   "cell_type": "code",
   "execution_count": 15,
   "id": "631c4289",
   "metadata": {},
   "outputs": [
    {
     "ename": "SyntaxError",
     "evalue": "invalid syntax (1764538501.py, line 3)",
     "output_type": "error",
     "traceback": [
      "\u001b[0;36m  Cell \u001b[0;32mIn[15], line 3\u001b[0;36m\u001b[0m\n\u001b[0;31m    thefts_df_dedup['tatzeit_anfang_datum'] =\u001b[0m\n\u001b[0m                                              ^\u001b[0m\n\u001b[0;31mSyntaxError\u001b[0m\u001b[0;31m:\u001b[0m invalid syntax\n"
     ]
    }
   ],
   "source": [
    "# change date text string to datetime datatype\n",
    "# fill in the gap....\n",
    "thefts_df_dedup['tatzeit_anfang_datum'] = \n",
    "thefts_df_dedup['tatzeit_ende_datum'] = "
   ]
  },
  {
   "cell_type": "code",
   "execution_count": null,
   "id": "09b2b6bb",
   "metadata": {},
   "outputs": [],
   "source": [
    "# now that the dates are not only strings anymore, we can have a look at the timeframe\n",
    "thefts_df_dedup.tatzeit_anfang_datum.min(), thefts_df_dedup.tatzeit_ende_datum.max()"
   ]
  },
  {
   "cell_type": "code",
   "execution_count": null,
   "id": "b1f7ab48",
   "metadata": {},
   "outputs": [],
   "source": [
    "# ... or can even do calculations on the date fields\n",
    "thefts_df_dedup.tatzeit_ende_datum.max() - thefts_df_dedup.tatzeit_anfang_datum.min()"
   ]
  },
  {
   "cell_type": "code",
   "execution_count": null,
   "id": "751e66f2",
   "metadata": {},
   "outputs": [],
   "source": [
    "# confirm the new datatypes\n",
    "thefts_df_dedup[['tatzeit_anfang_datum', 'tatzeit_ende_datum']].info()"
   ]
  },
  {
   "cell_type": "markdown",
   "id": "280de336",
   "metadata": {},
   "source": [
    "### Yay!  We're done with cleaning our dataset :-) "
   ]
  },
  {
   "cell_type": "markdown",
   "id": "3e4c6ead",
   "metadata": {},
   "source": [
    "Now, we want to re-use this code later. Let's wrap all the final cleaning steps that we came up with into a function. The function should:\n",
    "- be called 'clean_bike_data',\n",
    "- have a dataframe df as input variable,\n",
    "- return the same dataframe df with all the cleaning steps performed on it.\n",
    "- Add comments to explain each cleaning step.\n",
    "\n",
    "Test your function with your dataframe !"
   ]
  },
  {
   "cell_type": "code",
   "execution_count": null,
   "id": "5e9550b2",
   "metadata": {},
   "outputs": [],
   "source": [
    "def clean_bike_data(df):\n",
    "    # drop duplicates\n",
    "\n",
    "    # drop column 'angelegt_am' and 'erfassungsgrund' - irrelevant to us, when and why observation got added to the database.\n",
    "\n",
    "\n",
    "    # we have just 167 attempts and 7 thefts of unknown state in our dataset, so we decide to drop those observations.\n",
    "\n",
    "\n",
    "    # change date text string to datetime datatype\n",
    " \n",
    "    \n",
    "    return df"
   ]
  },
  {
   "cell_type": "code",
   "execution_count": null,
   "id": "897b9e7b",
   "metadata": {},
   "outputs": [],
   "source": [
    "# test your function\n",
    "\n",
    "# read in the raw data again\n",
    "# proper encoding is necessary here!\n",
    "thefts_df_test = pd.read_csv('../../data/Fahrraddiebstahl.csv', encoding='latin-1') \n",
    " # make column names lowercase\n",
    "thefts_df_test.columns = thefts_df_test.columns.str.lower() \n",
    "thefts_df_test.head(2)\n",
    "\n",
    "clean_df = clean_bike_data(thefts_df_test)"
   ]
  },
  {
   "cell_type": "code",
   "execution_count": null,
   "id": "8093225d",
   "metadata": {},
   "outputs": [],
   "source": [
    "clean_df"
   ]
  },
  {
   "cell_type": "markdown",
   "id": "69aa549c",
   "metadata": {},
   "source": []
  },
  {
   "cell_type": "markdown",
   "id": "11e0e23f",
   "metadata": {},
   "source": []
  }
 ],
 "metadata": {
  "interpreter": {
   "hash": "0e4771abb73651cc71498e03f3559c7e0f15f38d5124065b3832974a7bbffea7"
  },
  "kernelspec": {
   "display_name": "Python 3.8.5 64-bit ('nf_base': conda)",
   "name": "python3"
  },
  "language_info": {
   "codemirror_mode": {
    "name": "ipython",
    "version": 3
   },
   "file_extension": ".py",
   "mimetype": "text/x-python",
   "name": "python",
   "nbconvert_exporter": "python",
   "pygments_lexer": "ipython3",
   "version": "3.9.16"
  }
 },
 "nbformat": 4,
 "nbformat_minor": 5
}
