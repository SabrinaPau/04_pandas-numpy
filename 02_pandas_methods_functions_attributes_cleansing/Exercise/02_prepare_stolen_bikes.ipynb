{
 "cells": [
  {
   "cell_type": "markdown",
   "id": "d8f08c2b",
   "metadata": {},
   "source": [
    "### Clean dataset on stolen bikes.\n"
   ]
  },
  {
   "cell_type": "code",
   "execution_count": 1,
   "id": "d74a4514",
   "metadata": {},
   "outputs": [],
   "source": [
    "# standard import of pandas\n",
    "import pandas as pd"
   ]
  },
  {
   "cell_type": "markdown",
   "id": "b0f8afee",
   "metadata": {},
   "source": [
    "## Loading the first dataset\n",
    "The data we'll use is data on bicycle theft crimes at the granular level of Berlin city planning areas, so-called \"LOR\" - \"Lebensweltlich orientierte Räume\", we will stumble over it again later!  \n",
    "This data is provided by Berlin Open Data and collected by the police of Berlin.  \n",
    "\n",
    "### The goal for later: To be able to identify areas in Berlin with the most bike thefts or the highest theft amounts  \n",
    "### The goal for today: clean this dataset to prepare it for our data analysis\n",
    "\n",
    "First things first: We make the data accessible just by loading the .csv-file into a dataframe and get an overview.\n",
    "\n",
    "[Website to datatset -  daten.berlin.de](https://daten.berlin.de/datensaetze/fahrraddiebstahl-berlin)\n",
    "\n",
    "- Licence:\n",
    "    - Creative Commons Namensnennung CC-BY License\n",
    "- Geographical Granularity: \n",
    "    - Berlin\n",
    "- Publisher: \n",
    "    - Polizei Berlin LKA St 14\n",
    "- E Mail: \n",
    "    - onlineredaktion@polizei.berlin.de"
   ]
  },
  {
   "cell_type": "code",
   "execution_count": null,
   "id": "fe484d4e",
   "metadata": {},
   "outputs": [],
   "source": [
    "# proper encoding is necessary here!\n",
    "thefts_df_raw = pd.read_csv('../../data/Fahrraddiebstahl.csv', encoding='latin-1') \n",
    "#thefts_df_raw\n",
    " # make column names lowercase\n",
    "thefts_df_raw.columns = thefts_df_raw.columns.str.lower() \n",
    "thefts_df_raw.head(2)"
   ]
  },
  {
   "cell_type": "code",
   "execution_count": null,
   "id": "8ad79892",
   "metadata": {},
   "outputs": [],
   "source": [
    "# what's the shape, the observations, datatypes and null-counts?\n",
    "thefts_df_raw.shape"
   ]
  },
  {
   "cell_type": "code",
   "execution_count": null,
   "id": "30ba05e5",
   "metadata": {},
   "outputs": [],
   "source": [
    "thefts_df_raw.info()"
   ]
  },
  {
   "cell_type": "code",
   "execution_count": null,
   "id": "d3ae26ac",
   "metadata": {},
   "outputs": [],
   "source": [
    "thefts_df_raw.describe() # includes objects will include only the numeric data type"
   ]
  },
  {
   "cell_type": "code",
   "execution_count": null,
   "id": "2d71a1a4",
   "metadata": {},
   "outputs": [],
   "source": [
    "thefts_df_raw.describe(include='O') # includes objects only with 0 argument passed"
   ]
  },
  {
   "cell_type": "code",
   "execution_count": null,
   "id": "4183446e",
   "metadata": {},
   "outputs": [],
   "source": [
    "thefts_df_raw.describe(include='all')"
   ]
  },
  {
   "cell_type": "code",
   "execution_count": null,
   "id": "edc56924",
   "metadata": {},
   "outputs": [],
   "source": [
    "thefts_df_raw.dtypes"
   ]
  },
  {
   "cell_type": "code",
   "execution_count": null,
   "id": "1ca24a71",
   "metadata": {},
   "outputs": [],
   "source": [
    "thefts_df_raw.isnull().sum()"
   ]
  },
  {
   "cell_type": "code",
   "execution_count": null,
   "id": "97e487ea",
   "metadata": {},
   "outputs": [],
   "source": [
    "thefts_df_raw.isna().sum()"
   ]
  },
  {
   "cell_type": "markdown",
   "id": "6a6ba7f3",
   "metadata": {},
   "source": [
    "Let's think about cleaning our data:\n",
    "\n",
    "- drop duplicates? inspect!\n",
    "- drop column 'angelegt_am' and 'erfassungsgrund' - irrelevant to us\n",
    "- column 'versuch': inspect!  \n",
    "- column 'tatzeit_anfang_datum': change date string to datetime format  \n",
    "- column 'tatzeit_anfang_ende': change date string to datetime format"
   ]
  },
  {
   "cell_type": "code",
   "execution_count": 11,
   "id": "3a304929",
   "metadata": {},
   "outputs": [],
   "source": [
    "# inspect duplicates\n",
    "duplicates = thefts_df_raw[thefts_df_raw.duplicated(keep=False)]\n",
    "# keep=False => all duplicates are set as True\n",
    "# keep='first' => first is set as False, rest duplicates are True\n",
    "# keep='last' => last is set as False, rest duplicates are False"
   ]
  },
  {
   "cell_type": "code",
   "execution_count": null,
   "id": "9c052017",
   "metadata": {},
   "outputs": [],
   "source": [
    "duplicates"
   ]
  },
  {
   "cell_type": "code",
   "execution_count": null,
   "id": "f990eca3",
   "metadata": {},
   "outputs": [],
   "source": [
    "# inspect duplicates\n",
    "duplicates.sort_values(by=['tatzeit_anfang_datum', 'schadenshoehe'])\\\n",
    "    .tail(6)\n",
    "\n",
    "# backspace means the code continues in the next line"
   ]
  },
  {
   "cell_type": "code",
   "execution_count": null,
   "id": "1ff54be1",
   "metadata": {},
   "outputs": [],
   "source": [
    "# total nr of duplicates\n",
    "len(duplicates)"
   ]
  },
  {
   "cell_type": "code",
   "execution_count": 15,
   "id": "82f13222",
   "metadata": {},
   "outputs": [],
   "source": [
    "# the specifications of the duplicates indicate that they are implausible, so we drop them.\n",
    "# drop duplicates and assign result to a new dataframe called 'thefts_df_dedup'\n",
    "\n",
    "thefts_df_dedup = thefts_df_raw.drop_duplicates().copy()\n"
   ]
  },
  {
   "cell_type": "code",
   "execution_count": null,
   "id": "d360c36d",
   "metadata": {},
   "outputs": [],
   "source": [
    "# Always double check your results\n",
    "print('thefts_df_raw count: '+str(len(thefts_df_raw)))\n",
    "print('thefts_df_dedup: '+ str(len(thefts_df_dedup)))\n",
    "print('difference: '+ str(len(thefts_df_raw)-len(thefts_df_dedup)))\n"
   ]
  },
  {
   "cell_type": "code",
   "execution_count": null,
   "id": "3247b642",
   "metadata": {},
   "outputs": [],
   "source": [
    "# does this match with our duplicates?\n",
    "# the 96 means there were 96 duplicated rows deleted\n",
    "\n",
    "# number of rows that appear more than one time (not just twice, also three or four ... times)\n",
    "print('nr of duplicates: '+ str(len(duplicates)))\n",
    "#print(f'nr of duplicates: {len(duplicates)}')\n",
    "\n",
    "# the remaining (unique) rows\n",
    "print('nr of unique rows in duplicates: '+ str(len(duplicates.drop_duplicates())))\n",
    "# this means the deleted rows, so these are the rows that appear multiple times (not just twice)\n",
    "print('nr of duplicated rows in duplicates: '+ str(len(duplicates)-len(duplicates.drop_duplicates())))\n"
   ]
  },
  {
   "cell_type": "code",
   "execution_count": null,
   "id": "5ffa9e54",
   "metadata": {},
   "outputs": [],
   "source": [
    "thefts_df_dedup['schadenshoehe'].size\n",
    "\n",
    "# same result as len()"
   ]
  },
  {
   "cell_type": "code",
   "execution_count": 19,
   "id": "a63812a1",
   "metadata": {},
   "outputs": [],
   "source": [
    "# data.duplicated().value_counts()"
   ]
  },
  {
   "cell_type": "markdown",
   "id": "a4372bbb",
   "metadata": {},
   "source": [
    "do the numbers make sense to you? "
   ]
  },
  {
   "cell_type": "code",
   "execution_count": 20,
   "id": "091af5c6",
   "metadata": {},
   "outputs": [],
   "source": [
    "# in worst case, if this is really confusing, you can download and double check manually in Excel\n",
    "# thefts_df_raw[thefts_df_raw.duplicated(keep=False)]\\\n",
    "#     .sort_values(by=['tatzeit_anfang_datum', 'schadenshoehe'])\\\n",
    "#         .to_csv('./check.csv')"
   ]
  },
  {
   "cell_type": "markdown",
   "id": "60814381",
   "metadata": {},
   "source": [
    "...if yes, let's continue.."
   ]
  },
  {
   "cell_type": "code",
   "execution_count": null,
   "id": "c8e8b80c",
   "metadata": {},
   "outputs": [],
   "source": [
    "# drop column 'angelegt_am' and 'erfassungsgrund' - irrelevant to us, when and why observation got added to the database.\n",
    "\n",
    "#thefts_new = thefts_df_dedup.drop('angelegt_am', axis='columns')\n",
    "#thefts_newly = thefts_new.drop('erfassungsgrund', axis=1)\n",
    "#thefts_newly.head()\n",
    "\n",
    "thefts_df_dedup.drop(['angelegt_am', 'erfassungsgrund'], axis=1, inplace=True) # copy before inplace=True to keep the original df\n",
    "thefts_df_dedup.head()"
   ]
  },
  {
   "cell_type": "code",
   "execution_count": null,
   "id": "79de75b5",
   "metadata": {},
   "outputs": [],
   "source": [
    "# how many unique values holds the column of the attempts?\n",
    "# look up 'unique()' and try to understand what it's doing\n",
    "\n",
    "thefts_df_dedup.versuch.unique()\n",
    "\n",
    "# it shows the different values in this column"
   ]
  },
  {
   "cell_type": "code",
   "execution_count": null,
   "id": "e3dcf4ec",
   "metadata": {},
   "outputs": [],
   "source": [
    "# and what is the count of those categories?\n",
    "# look up 'value_counts()' and try to understand what it's doing\n",
    "\n",
    "thefts_df_dedup.versuch.value_counts()\n",
    "\n",
    "# it counts how often a specific value is written"
   ]
  },
  {
   "cell_type": "code",
   "execution_count": 24,
   "id": "c8807ab6",
   "metadata": {},
   "outputs": [],
   "source": [
    "#versuch_unbekannt = thefts_df_dedup[thefts_df_dedup['versuch'] == 'Unbekannt']\n",
    "#versuch_unbekannt"
   ]
  },
  {
   "cell_type": "code",
   "execution_count": 25,
   "id": "8c22e51c",
   "metadata": {},
   "outputs": [],
   "source": [
    "#versuch_ja_unbekannt = thefts_df_dedup[(thefts_df_dedup['versuch'] == 'Ja') | (thefts_df_dedup['versuch'] == 'Unbekannt')]\n",
    "#versuch_ja_unbekannt"
   ]
  },
  {
   "cell_type": "code",
   "execution_count": 26,
   "id": "e483cb8b",
   "metadata": {},
   "outputs": [],
   "source": [
    "# we have just 167 attempts and 7 thefts of unknown state in our dataset, so we decide to drop those observations.\n",
    "\n",
    "#thefts_df_dedup.drop(thefts_df_dedup[(thefts_df_dedup['versuch'] == 'Ja') | (thefts_df_dedup['versuch'] == 'Unbekannt')].index)"
   ]
  },
  {
   "cell_type": "code",
   "execution_count": 27,
   "id": "3c77e35a",
   "metadata": {},
   "outputs": [],
   "source": [
    "thefts_df_dedup.set_index('versuch', inplace=True)\n",
    "thefts_df_dedup.drop(['Ja', 'Unbekannt'], inplace=True)"
   ]
  },
  {
   "cell_type": "code",
   "execution_count": 28,
   "id": "89cebde8",
   "metadata": {},
   "outputs": [],
   "source": [
    "#thefts_df_dedup[(thefts_df_dedup['versuch'] == 'Ja') | (thefts_df_dedup['versuch'] == 'Unbekannt')]"
   ]
  },
  {
   "cell_type": "code",
   "execution_count": null,
   "id": "16a7a49c",
   "metadata": {},
   "outputs": [],
   "source": [
    "thefts_df_dedup"
   ]
  },
  {
   "cell_type": "code",
   "execution_count": 30,
   "id": "6d517616",
   "metadata": {},
   "outputs": [],
   "source": [
    "#thefts_df_dedup.drop(1)"
   ]
  },
  {
   "cell_type": "code",
   "execution_count": null,
   "id": "c2a8dd56",
   "metadata": {},
   "outputs": [],
   "source": [
    "type(thefts_df_dedup['tatzeit_anfang_datum'])"
   ]
  },
  {
   "cell_type": "code",
   "execution_count": null,
   "id": "631c4289",
   "metadata": {},
   "outputs": [],
   "source": [
    "# change date text string to datetime datatype\n",
    "# fill in the gap....\n",
    "thefts_df_dedup['tatzeit_anfang_datum'] = pd.to_datetime(thefts_df_dedup['tatzeit_anfang_datum'], format='mixed') # Y year 20xx, y year in xx\n",
    "thefts_df_dedup['tatzeit_ende_datum'] = pd.to_datetime(thefts_df_dedup['tatzeit_ende_datum'], format='mixed')\n",
    "thefts_df_dedup.info()"
   ]
  },
  {
   "cell_type": "code",
   "execution_count": null,
   "id": "09b2b6bb",
   "metadata": {},
   "outputs": [],
   "source": [
    "# now that the dates are not only strings anymore, we can have a look at the timeframe\n",
    "thefts_df_dedup.tatzeit_anfang_datum.min(), thefts_df_dedup.tatzeit_ende_datum.max()"
   ]
  },
  {
   "cell_type": "code",
   "execution_count": null,
   "id": "b1f7ab48",
   "metadata": {},
   "outputs": [],
   "source": [
    "# ... or can even do calculations on the date fields\n",
    "thefts_df_dedup.tatzeit_ende_datum.max() - thefts_df_dedup.tatzeit_anfang_datum.min()"
   ]
  },
  {
   "cell_type": "code",
   "execution_count": null,
   "id": "751e66f2",
   "metadata": {},
   "outputs": [],
   "source": [
    "# confirm the new datatypes\n",
    "thefts_df_dedup[['tatzeit_anfang_datum', 'tatzeit_ende_datum']].info()"
   ]
  },
  {
   "cell_type": "markdown",
   "id": "280de336",
   "metadata": {},
   "source": [
    "### Yay!  We're done with cleaning our dataset :-) "
   ]
  },
  {
   "cell_type": "markdown",
   "id": "3e4c6ead",
   "metadata": {},
   "source": [
    "Now, we want to re-use this code later. Let's wrap all the final cleaning steps that we came up with into a function. The function should:\n",
    "- be called 'clean_bike_data',\n",
    "- have a dataframe df as input variable,\n",
    "- return the same dataframe df with all the cleaning steps performed on it.\n",
    "- Add comments to explain each cleaning step.\n",
    "\n",
    "Test your function with your dataframe !"
   ]
  },
  {
   "cell_type": "code",
   "execution_count": 36,
   "id": "01be9067",
   "metadata": {},
   "outputs": [],
   "source": [
    "import pandas as pd"
   ]
  },
  {
   "cell_type": "code",
   "execution_count": 37,
   "id": "5e9550b2",
   "metadata": {},
   "outputs": [],
   "source": [
    "def clean_bike_data(df):\n",
    "    # drop duplicates\n",
    "    df = df.drop_duplicates().copy()\n",
    "    # drop column 'angelegt_am' and 'erfassungsgrund' - irrelevant to us, when and why observation got added to the database.\n",
    "    df.drop(['angelegt_am', 'erfassungsgrund'], axis=1, inplace=True)\n",
    "    #df = df.drop(columns=['angelegt_am', 'erfassungsgrund']) # alternative zu zeile drüber\n",
    "    # we have just 167 attempts and 7 thefts of unknown state in our dataset, so we decide to drop those observations.\n",
    "    df.set_index('versuch', inplace=True)\n",
    "    df.drop(['Ja', 'Unbekannt'], inplace=True)\n",
    "    # change date text string to datetime datatype\n",
    "    df['tatzeit_anfang_datum'] = pd.to_datetime(df['tatzeit_anfang_datum'], format='%d.%m.%Y')\n",
    "    df['tatzeit_ende_datum'] = pd.to_datetime(df['tatzeit_ende_datum'], format='mixed')\n",
    "    \n",
    "    return df"
   ]
  },
  {
   "cell_type": "code",
   "execution_count": 38,
   "id": "897b9e7b",
   "metadata": {},
   "outputs": [],
   "source": [
    "# test your function\n",
    "\n",
    "# read in the raw data again\n",
    "# proper encoding is necessary here!\n",
    "thefts_df_test = pd.read_csv('../../data/Fahrraddiebstahl.csv', encoding='latin-1') \n",
    " # make column names lowercase\n",
    "thefts_df_test.columns = thefts_df_test.columns.str.lower() \n",
    "thefts_df_test.head(2)\n",
    "\n",
    "clean_df = clean_bike_data(thefts_df_test)"
   ]
  },
  {
   "cell_type": "code",
   "execution_count": null,
   "id": "8093225d",
   "metadata": {},
   "outputs": [],
   "source": [
    "clean_df"
   ]
  }
 ],
 "metadata": {
  "interpreter": {
   "hash": "0e4771abb73651cc71498e03f3559c7e0f15f38d5124065b3832974a7bbffea7"
  },
  "kernelspec": {
   "display_name": "Python 3.8.5 64-bit ('nf_base': conda)",
   "name": "python3"
  },
  "language_info": {
   "codemirror_mode": {
    "name": "ipython",
    "version": 3
   },
   "file_extension": ".py",
   "mimetype": "text/x-python",
   "name": "python",
   "nbconvert_exporter": "python",
   "pygments_lexer": "ipython3",
   "version": "3.12.3"
  }
 },
 "nbformat": 4,
 "nbformat_minor": 5
}
