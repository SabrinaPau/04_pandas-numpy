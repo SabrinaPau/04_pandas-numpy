{
 "cells": [
  {
   "cell_type": "code",
   "execution_count": 1,
   "metadata": {},
   "outputs": [],
   "source": [
    "import pandas as pd"
   ]
  },
  {
   "cell_type": "markdown",
   "metadata": {},
   "source": [
    "The original data directly from gapminder comes in wide format.\n",
    "\n",
    "Read the `gapminder_total_fertility.csv` file in a dataframe"
   ]
  },
  {
   "cell_type": "code",
   "execution_count": null,
   "metadata": {},
   "outputs": [],
   "source": [
    "gapminder_df = pd.read_csv('../data/gapminder_total_fertility.csv')\n",
    "gapminder_df.head()"
   ]
  },
  {
   "cell_type": "markdown",
   "metadata": {},
   "source": [
    "In the original gapminder dataset the columns are the country names and years.\n",
    "\n",
    "![alt text](<Screenshot 2024-04-15 at 13.09.45.png>)\n"
   ]
  },
  {
   "cell_type": "markdown",
   "metadata": {},
   "source": [
    "Melt the table into a form that resembles the data below:\n",
    "\n",
    "![alt text](<Screenshot 2024-04-15 at 13.10.23.png>)"
   ]
  },
  {
   "cell_type": "code",
   "execution_count": null,
   "metadata": {},
   "outputs": [],
   "source": [
    "gapminder_df_long = pd.melt(gapminder_df,                   # dataFrame\n",
    "                            id_vars=['country'],            # these columns stay the same\n",
    "                            #value_vars=['1960', '1961'],   # the columns to be used as values\n",
    "                            var_name='year',\n",
    "                            value_name='fertility_rate')\n",
    "gapminder_df_long"
   ]
  },
  {
   "cell_type": "markdown",
   "metadata": {},
   "source": [
    "Pivot the table back to its original form."
   ]
  },
  {
   "cell_type": "code",
   "execution_count": null,
   "metadata": {},
   "outputs": [],
   "source": [
    "gapminder_df_wide = pd.pivot(gapminder_df_long,\n",
    "                             columns='year',\n",
    "                             index=['country'],\n",
    "                             values='fertility_rate').reset_index()\n",
    "gapminder_df_wide.columns.name = None\n",
    "gapminder_df_wide"
   ]
  },
  {
   "cell_type": "markdown",
   "metadata": {},
   "source": [
    "Create an aggregate table with the average fertility_rate of each country.\n",
    "\n",
    "![alt text](<Screenshot 2024-04-15 at 13.18.30.png>)"
   ]
  },
  {
   "cell_type": "code",
   "execution_count": null,
   "metadata": {},
   "outputs": [],
   "source": [
    "gapminder_df_long.info()"
   ]
  },
  {
   "cell_type": "code",
   "execution_count": null,
   "metadata": {},
   "outputs": [],
   "source": [
    "gapminder_df_long.duplicated().value_counts()"
   ]
  },
  {
   "cell_type": "code",
   "execution_count": null,
   "metadata": {},
   "outputs": [],
   "source": [
    "gapminder_df_wide.info()"
   ]
  },
  {
   "cell_type": "code",
   "execution_count": null,
   "metadata": {},
   "outputs": [],
   "source": [
    "gapminder_df_wide.duplicated().value_counts()"
   ]
  },
  {
   "cell_type": "code",
   "execution_count": null,
   "metadata": {},
   "outputs": [],
   "source": [
    "gapminder_df_agg = gapminder_df_long.pivot_table(values='fertility_rate',\n",
    "                                                 columns='country',\n",
    "                                                 #index='country',\n",
    "                                                 aggfunc='mean')\n",
    "gapminder_df_agg"
   ]
  },
  {
   "cell_type": "markdown",
   "metadata": {},
   "source": [
    "Try to transpose it.\n",
    "\n",
    "![alt text](<Screenshot 2024-04-15 at 13.19.53.png>)"
   ]
  },
  {
   "cell_type": "code",
   "execution_count": null,
   "metadata": {},
   "outputs": [],
   "source": [
    "gapminder_df_agg.T"
   ]
  }
 ],
 "metadata": {
  "kernelspec": {
   "display_name": "nf_base",
   "language": "python",
   "name": "python3"
  },
  "language_info": {
   "codemirror_mode": {
    "name": "ipython",
    "version": 3
   },
   "file_extension": ".py",
   "mimetype": "text/x-python",
   "name": "python",
   "nbconvert_exporter": "python",
   "pygments_lexer": "ipython3",
   "version": "3.12.3"
  }
 },
 "nbformat": 4,
 "nbformat_minor": 2
}
